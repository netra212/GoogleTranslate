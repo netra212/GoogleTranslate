{
  "cells": [
    {
      "cell_type": "code",
      "execution_count": 62,
      "metadata": {
        "colab": {
          "base_uri": "https://localhost:8080/"
        },
        "id": "dGc3I31EkYlp",
        "outputId": "8f78e6e4-d03d-43b5-f0dc-aea299449ae3"
      },
      "outputs": [
        {
          "name": "stdout",
          "output_type": "stream",
          "text": [
            "Found existing installation: torch 2.3.0\n",
            "Uninstalling torch-2.3.0:\n",
            "  Successfully uninstalled torch-2.3.0\n",
            "Found existing installation: torchvision 0.18.0\n",
            "Uninstalling torchvision-0.18.0:\n",
            "  Successfully uninstalled torchvision-0.18.0\n",
            "Found existing installation: torchtext 0.18.0\n",
            "Uninstalling torchtext-0.18.0:\n",
            "  Successfully uninstalled torchtext-0.18.0\n",
            "Collecting torch==2.3.0\n",
            "  Using cached torch-2.3.0-cp310-none-macosx_11_0_arm64.whl.metadata (26 kB)\n",
            "Collecting torchtext==0.18.0\n",
            "  Using cached torchtext-0.18.0-cp310-cp310-macosx_11_0_arm64.whl.metadata (7.9 kB)\n",
            "Collecting torchvision\n",
            "  Using cached torchvision-0.22.1-cp310-cp310-macosx_11_0_arm64.whl.metadata (6.1 kB)\n",
            "Requirement already satisfied: filelock in /Users/user/miniforge3/envs/torchtext_env/lib/python3.10/site-packages (from torch==2.3.0) (3.18.0)\n",
            "Requirement already satisfied: typing-extensions>=4.8.0 in /Users/user/miniforge3/envs/torchtext_env/lib/python3.10/site-packages (from torch==2.3.0) (4.14.1)\n",
            "Requirement already satisfied: sympy in /Users/user/miniforge3/envs/torchtext_env/lib/python3.10/site-packages (from torch==2.3.0) (1.14.0)\n",
            "Requirement already satisfied: networkx in /Users/user/miniforge3/envs/torchtext_env/lib/python3.10/site-packages (from torch==2.3.0) (3.4.2)\n",
            "Requirement already satisfied: jinja2 in /Users/user/miniforge3/envs/torchtext_env/lib/python3.10/site-packages (from torch==2.3.0) (3.1.6)\n",
            "Requirement already satisfied: fsspec in /Users/user/miniforge3/envs/torchtext_env/lib/python3.10/site-packages (from torch==2.3.0) (2025.3.0)\n",
            "Requirement already satisfied: tqdm in /Users/user/miniforge3/envs/torchtext_env/lib/python3.10/site-packages (from torchtext==0.18.0) (4.67.1)\n",
            "Requirement already satisfied: requests in /Users/user/miniforge3/envs/torchtext_env/lib/python3.10/site-packages (from torchtext==0.18.0) (2.32.4)\n",
            "Requirement already satisfied: numpy in /Users/user/miniforge3/envs/torchtext_env/lib/python3.10/site-packages (from torchtext==0.18.0) (1.26.4)\n",
            "INFO: pip is looking at multiple versions of torchvision to determine which version is compatible with other requirements. This could take a while.\n",
            "  Using cached torchvision-0.22.0-cp310-cp310-macosx_11_0_arm64.whl.metadata (6.1 kB)\n",
            "  Using cached torchvision-0.21.0-cp310-cp310-macosx_11_0_arm64.whl.metadata (6.1 kB)\n",
            "  Using cached torchvision-0.20.1-cp310-cp310-macosx_11_0_arm64.whl.metadata (6.1 kB)\n",
            "  Using cached torchvision-0.20.0-cp310-cp310-macosx_11_0_arm64.whl.metadata (6.1 kB)\n",
            "  Using cached torchvision-0.19.1-cp310-cp310-macosx_11_0_arm64.whl.metadata (6.0 kB)\n",
            "  Using cached torchvision-0.19.0-cp310-cp310-macosx_11_0_arm64.whl.metadata (6.0 kB)\n",
            "  Using cached torchvision-0.18.1-cp310-cp310-macosx_11_0_arm64.whl.metadata (6.6 kB)\n",
            "INFO: pip is still looking at multiple versions of torchvision to determine which version is compatible with other requirements. This could take a while.\n",
            "  Using cached torchvision-0.18.0-cp310-cp310-macosx_11_0_arm64.whl.metadata (6.6 kB)\n",
            "Requirement already satisfied: pillow!=8.3.*,>=5.3.0 in /Users/user/miniforge3/envs/torchtext_env/lib/python3.10/site-packages (from torchvision) (11.3.0)\n",
            "Requirement already satisfied: MarkupSafe>=2.0 in /Users/user/miniforge3/envs/torchtext_env/lib/python3.10/site-packages (from jinja2->torch==2.3.0) (3.0.2)\n",
            "Requirement already satisfied: charset_normalizer<4,>=2 in /Users/user/miniforge3/envs/torchtext_env/lib/python3.10/site-packages (from requests->torchtext==0.18.0) (3.4.2)\n",
            "Requirement already satisfied: idna<4,>=2.5 in /Users/user/miniforge3/envs/torchtext_env/lib/python3.10/site-packages (from requests->torchtext==0.18.0) (3.10)\n",
            "Requirement already satisfied: urllib3<3,>=1.21.1 in /Users/user/miniforge3/envs/torchtext_env/lib/python3.10/site-packages (from requests->torchtext==0.18.0) (2.5.0)\n",
            "Requirement already satisfied: certifi>=2017.4.17 in /Users/user/miniforge3/envs/torchtext_env/lib/python3.10/site-packages (from requests->torchtext==0.18.0) (2025.6.15)\n",
            "Requirement already satisfied: mpmath<1.4,>=1.1.0 in /Users/user/miniforge3/envs/torchtext_env/lib/python3.10/site-packages (from sympy->torch==2.3.0) (1.3.0)\n",
            "Using cached torch-2.3.0-cp310-none-macosx_11_0_arm64.whl (61.0 MB)\n",
            "Using cached torchtext-0.18.0-cp310-cp310-macosx_11_0_arm64.whl (2.1 MB)\n",
            "Using cached torchvision-0.18.0-cp310-cp310-macosx_11_0_arm64.whl (1.6 MB)\n",
            "Installing collected packages: torch, torchvision, torchtext\n",
            "\u001b[2K   \u001b[90m━━━━━━━━━━━━━━━━━━━━━━━━━━━━━━━━━━━━━━━━\u001b[0m \u001b[32m3/3\u001b[0m [torchtext]/3\u001b[0m [torchvision]\n",
            "\u001b[1A\u001b[2KSuccessfully installed torch-2.3.0 torchtext-0.18.0 torchvision-0.18.0\n"
          ]
        }
      ],
      "source": [
        "!pip uninstall -y torch torchvision torchtext\n",
        "!pip install torch==2.3.0 torchtext==0.18.0 torchvision"
      ]
    },
    {
      "cell_type": "code",
      "execution_count": 63,
      "metadata": {
        "colab": {
          "base_uri": "https://localhost:8080/"
        },
        "id": "riDUiYZOpn2s",
        "outputId": "602175e8-c0c4-42d9-f4a4-babc948119b5"
      },
      "outputs": [
        {
          "name": "stdout",
          "output_type": "stream",
          "text": [
            "Requirement already satisfied: datasets in /Users/user/miniforge3/envs/torchtext_env/lib/python3.10/site-packages (3.6.0)\n",
            "Requirement already satisfied: evaluate in /Users/user/miniforge3/envs/torchtext_env/lib/python3.10/site-packages (0.4.4)\n",
            "Requirement already satisfied: filelock in /Users/user/miniforge3/envs/torchtext_env/lib/python3.10/site-packages (from datasets) (3.18.0)\n",
            "Requirement already satisfied: numpy>=1.17 in /Users/user/miniforge3/envs/torchtext_env/lib/python3.10/site-packages (from datasets) (1.26.4)\n",
            "Requirement already satisfied: pyarrow>=15.0.0 in /Users/user/miniforge3/envs/torchtext_env/lib/python3.10/site-packages (from datasets) (20.0.0)\n",
            "Requirement already satisfied: dill<0.3.9,>=0.3.0 in /Users/user/miniforge3/envs/torchtext_env/lib/python3.10/site-packages (from datasets) (0.3.8)\n",
            "Requirement already satisfied: pandas in /Users/user/miniforge3/envs/torchtext_env/lib/python3.10/site-packages (from datasets) (2.3.1)\n",
            "Requirement already satisfied: requests>=2.32.2 in /Users/user/miniforge3/envs/torchtext_env/lib/python3.10/site-packages (from datasets) (2.32.4)\n",
            "Requirement already satisfied: tqdm>=4.66.3 in /Users/user/miniforge3/envs/torchtext_env/lib/python3.10/site-packages (from datasets) (4.67.1)\n",
            "Requirement already satisfied: xxhash in /Users/user/miniforge3/envs/torchtext_env/lib/python3.10/site-packages (from datasets) (3.5.0)\n",
            "Requirement already satisfied: multiprocess<0.70.17 in /Users/user/miniforge3/envs/torchtext_env/lib/python3.10/site-packages (from datasets) (0.70.16)\n",
            "Requirement already satisfied: fsspec<=2025.3.0,>=2023.1.0 in /Users/user/miniforge3/envs/torchtext_env/lib/python3.10/site-packages (from fsspec[http]<=2025.3.0,>=2023.1.0->datasets) (2025.3.0)\n",
            "Requirement already satisfied: huggingface-hub>=0.24.0 in /Users/user/miniforge3/envs/torchtext_env/lib/python3.10/site-packages (from datasets) (0.33.2)\n",
            "Requirement already satisfied: packaging in /Users/user/miniforge3/envs/torchtext_env/lib/python3.10/site-packages (from datasets) (25.0)\n",
            "Requirement already satisfied: pyyaml>=5.1 in /Users/user/miniforge3/envs/torchtext_env/lib/python3.10/site-packages (from datasets) (6.0.2)\n",
            "Requirement already satisfied: aiohttp!=4.0.0a0,!=4.0.0a1 in /Users/user/miniforge3/envs/torchtext_env/lib/python3.10/site-packages (from fsspec[http]<=2025.3.0,>=2023.1.0->datasets) (3.12.13)\n",
            "Requirement already satisfied: aiohappyeyeballs>=2.5.0 in /Users/user/miniforge3/envs/torchtext_env/lib/python3.10/site-packages (from aiohttp!=4.0.0a0,!=4.0.0a1->fsspec[http]<=2025.3.0,>=2023.1.0->datasets) (2.6.1)\n",
            "Requirement already satisfied: aiosignal>=1.1.2 in /Users/user/miniforge3/envs/torchtext_env/lib/python3.10/site-packages (from aiohttp!=4.0.0a0,!=4.0.0a1->fsspec[http]<=2025.3.0,>=2023.1.0->datasets) (1.4.0)\n",
            "Requirement already satisfied: async-timeout<6.0,>=4.0 in /Users/user/miniforge3/envs/torchtext_env/lib/python3.10/site-packages (from aiohttp!=4.0.0a0,!=4.0.0a1->fsspec[http]<=2025.3.0,>=2023.1.0->datasets) (5.0.1)\n",
            "Requirement already satisfied: attrs>=17.3.0 in /Users/user/miniforge3/envs/torchtext_env/lib/python3.10/site-packages (from aiohttp!=4.0.0a0,!=4.0.0a1->fsspec[http]<=2025.3.0,>=2023.1.0->datasets) (25.3.0)\n",
            "Requirement already satisfied: frozenlist>=1.1.1 in /Users/user/miniforge3/envs/torchtext_env/lib/python3.10/site-packages (from aiohttp!=4.0.0a0,!=4.0.0a1->fsspec[http]<=2025.3.0,>=2023.1.0->datasets) (1.7.0)\n",
            "Requirement already satisfied: multidict<7.0,>=4.5 in /Users/user/miniforge3/envs/torchtext_env/lib/python3.10/site-packages (from aiohttp!=4.0.0a0,!=4.0.0a1->fsspec[http]<=2025.3.0,>=2023.1.0->datasets) (6.6.3)\n",
            "Requirement already satisfied: propcache>=0.2.0 in /Users/user/miniforge3/envs/torchtext_env/lib/python3.10/site-packages (from aiohttp!=4.0.0a0,!=4.0.0a1->fsspec[http]<=2025.3.0,>=2023.1.0->datasets) (0.3.2)\n",
            "Requirement already satisfied: yarl<2.0,>=1.17.0 in /Users/user/miniforge3/envs/torchtext_env/lib/python3.10/site-packages (from aiohttp!=4.0.0a0,!=4.0.0a1->fsspec[http]<=2025.3.0,>=2023.1.0->datasets) (1.20.1)\n",
            "Requirement already satisfied: typing-extensions>=4.1.0 in /Users/user/miniforge3/envs/torchtext_env/lib/python3.10/site-packages (from multidict<7.0,>=4.5->aiohttp!=4.0.0a0,!=4.0.0a1->fsspec[http]<=2025.3.0,>=2023.1.0->datasets) (4.14.1)\n",
            "Requirement already satisfied: idna>=2.0 in /Users/user/miniforge3/envs/torchtext_env/lib/python3.10/site-packages (from yarl<2.0,>=1.17.0->aiohttp!=4.0.0a0,!=4.0.0a1->fsspec[http]<=2025.3.0,>=2023.1.0->datasets) (3.10)\n",
            "Requirement already satisfied: hf-xet<2.0.0,>=1.1.2 in /Users/user/miniforge3/envs/torchtext_env/lib/python3.10/site-packages (from huggingface-hub>=0.24.0->datasets) (1.1.5)\n",
            "Requirement already satisfied: charset_normalizer<4,>=2 in /Users/user/miniforge3/envs/torchtext_env/lib/python3.10/site-packages (from requests>=2.32.2->datasets) (3.4.2)\n",
            "Requirement already satisfied: urllib3<3,>=1.21.1 in /Users/user/miniforge3/envs/torchtext_env/lib/python3.10/site-packages (from requests>=2.32.2->datasets) (2.5.0)\n",
            "Requirement already satisfied: certifi>=2017.4.17 in /Users/user/miniforge3/envs/torchtext_env/lib/python3.10/site-packages (from requests>=2.32.2->datasets) (2025.6.15)\n",
            "Requirement already satisfied: python-dateutil>=2.8.2 in /Users/user/miniforge3/envs/torchtext_env/lib/python3.10/site-packages (from pandas->datasets) (2.9.0.post0)\n",
            "Requirement already satisfied: pytz>=2020.1 in /Users/user/miniforge3/envs/torchtext_env/lib/python3.10/site-packages (from pandas->datasets) (2025.2)\n",
            "Requirement already satisfied: tzdata>=2022.7 in /Users/user/miniforge3/envs/torchtext_env/lib/python3.10/site-packages (from pandas->datasets) (2025.2)\n",
            "Requirement already satisfied: six>=1.5 in /Users/user/miniforge3/envs/torchtext_env/lib/python3.10/site-packages (from python-dateutil>=2.8.2->pandas->datasets) (1.17.0)\n"
          ]
        }
      ],
      "source": [
        "!pip install datasets evaluate --upgrade"
      ]
    },
    {
      "cell_type": "code",
      "execution_count": 64,
      "metadata": {
        "id": "jyHG8EfspqPb"
      },
      "outputs": [],
      "source": [
        "import torch\n",
        "import torch.nn as nn\n",
        "import torch.optim as optim\n",
        "import random\n",
        "import numpy as np\n",
        "import spacy\n",
        "import datasets\n",
        "import torchtext\n",
        "import tqdm\n",
        "import evaluate"
      ]
    },
    {
      "cell_type": "markdown",
      "metadata": {
        "id": "yL6kfiY4q8HB"
      },
      "source": [
        "**load your datasets**"
      ]
    },
    {
      "cell_type": "code",
      "execution_count": 65,
      "metadata": {
        "colab": {
          "base_uri": "https://localhost:8080/",
          "height": 365,
          "referenced_widgets": [
            "57924a80e9c4494d9fa75d90ca74712b",
            "d38ba65d93974f9e902c842369a53535",
            "e0d5ec1a5ef14fcc984216dbda57e99e",
            "b7890c37f7be45e5a2695f68a97ddd83",
            "2ecbdfe081a14b649c1bf3ab6a160ef8",
            "9c429cb6d06247b19be0869f211b49bc",
            "d0737bc066f74ca7895e1a12c9b9c136",
            "f4c1f7bd1c734cccb1c1c82b41798b20",
            "a921645e689c4a499a9d95a58a344f93",
            "b71661dbd05c4fe7bfaed9e1ae137fa7",
            "7f0b15bcc14c4312b2af777da33b3ba6",
            "3739bb108a604314852f2245ad25f191",
            "c58915c74dea4002956effa4a9c16e6f",
            "f613406005154a3f95323369c5d1b50e",
            "ab351a01d262418e86ad5217d2219ab0",
            "47ec00c426114696a9612ee1c99b7647",
            "2efda05d7c864fada138d1859f3f58ca",
            "6fcb32cdb2c6456686e4e407978243d5",
            "79e53ee4d17540eda05d6156604e43a0",
            "f991c13f41fb4f29a794b68e81de8eb8",
            "d184fd4e08b2413a857d93f47f49703b",
            "11d4fb2c0a534fce804ffd0981632d33",
            "c047018547cf4a60a709a6b3ff7b17cf",
            "34dbd0b64a9344b1b91dbf353a2785a9",
            "0c7c2d59d56547b1866478efed3763bf",
            "5536cfb16ed94eb58509a2d5d4d623c3",
            "a5cd28ef673e4a44bb9448173447b85f",
            "63147a598548497b9afb957c9202fd1a",
            "b0b3c9b3443845e9b34efe91407cf8ae",
            "b06ed16f8e084ce7b0d7619f2aee8d1d",
            "679d5645478c4678b996f6481a60c94c",
            "51549a44bcb24fd790f71243eee1b1ea",
            "1bc10869dc8149948d259fee53b18a7b",
            "691654768b8d484a9caa0ba7962494a7",
            "fb2f1e5479954ebda33986d0ea971fa5",
            "fec143ecdf5a44bbb9a146f9e2010287",
            "7a7214e561aa492589633823e89c2b21",
            "7db47eb0d682480ca1800dc9864c09c5",
            "7fc9f1de29f6443eb8b628fa06c4dfe2",
            "195fab2a44644458a12c531e049c88b9",
            "957c5af841ec43bc9615dc5d6597b4bb",
            "bf9ecce2a883415fa417da7888545524",
            "549c6aa01a3b4301808eb08957981266",
            "31a25db5fe774c82b54d482fe39bb695",
            "60073767b0a6403dbe2459b7f59f8be2",
            "04f9e98cc1b34ca0aa91936941805b34",
            "d3c046dd25ab417db1e0c665a9efdd9f",
            "853a1252e2de42348e57b70c1905a1e8",
            "eae47e96a6584f5fbbb565910dea65bb",
            "be76992ad5d34cc2b74cdc9fc0416065",
            "ee764f804de8463487e81ef0ee108149",
            "1badc4c28ced49028546abcde5201d2c",
            "5539f1675ada405f8852cd53be5991af",
            "269b171ebc6942bd9ddeada5ee6ea0b4",
            "ad2460317ac84f70b3fff64d6263a560",
            "b4672b5fba9348af9d116a590fa0e14b",
            "4bb5397a94bc4386a7a6f6db351d41ac",
            "14638c3dd2ac49d5875dad949b29ab96",
            "07ca1bb330d44650ad9d3923b3d88c06",
            "231867e28ae34509bbddfe0428524b27",
            "a9aa174885144bc5bb26e7ce747032ce",
            "68388dd0f4794637b1b10f1c276f8a30",
            "a703d9f5a276489f80e2488e58652f94",
            "abf9f53569414cef95a6db9e947a60a9",
            "37e855cd31b04b7c896fdc1f579b759a",
            "646b55468e0b43c9bf78464fa1f6f66b",
            "7f9add2bf90f4db3b94fc4764e003d86",
            "df4833701da7439abf906ddf9d56435c",
            "02148f805ea24a46a21158f8b67858ad",
            "209f0e678ddd47a794bd20d2bae3a1b9",
            "3736803b435e4869b486adeca9244d29",
            "63ec468a090b4d9a9d590a4abf64693b",
            "591cd810546a49aca7c6fe349bf47248",
            "29aca8f09d0d4ddd9bd2805c177f4b89",
            "4bdbd6c090d94eab82b243462178cdf7",
            "918009a5ef8847b58ba90cdc1a71d8dd",
            "0b0c550ac4e24d6f8f61dca6d56b7cf2"
          ]
        },
        "id": "_-qsFXLCrXfh",
        "outputId": "3841de47-613d-4816-87dc-a95df61e460e"
      },
      "outputs": [],
      "source": [
        "dataset = datasets.load_dataset(\"bentrevett/multi30k\")"
      ]
    },
    {
      "cell_type": "code",
      "execution_count": 66,
      "metadata": {
        "colab": {
          "base_uri": "https://localhost:8080/"
        },
        "id": "A3bZtDWZrABV",
        "outputId": "5971fb3e-7c36-4310-f685-fcd330c31627"
      },
      "outputs": [
        {
          "data": {
            "text/plain": [
              "DatasetDict({\n",
              "    train: Dataset({\n",
              "        features: ['en', 'de'],\n",
              "        num_rows: 29000\n",
              "    })\n",
              "    validation: Dataset({\n",
              "        features: ['en', 'de'],\n",
              "        num_rows: 1014\n",
              "    })\n",
              "    test: Dataset({\n",
              "        features: ['en', 'de'],\n",
              "        num_rows: 1000\n",
              "    })\n",
              "})"
            ]
          },
          "execution_count": 66,
          "metadata": {},
          "output_type": "execute_result"
        }
      ],
      "source": [
        "dataset"
      ]
    },
    {
      "cell_type": "code",
      "execution_count": 67,
      "metadata": {
        "id": "Yf9UyxZTq__f"
      },
      "outputs": [],
      "source": [
        "train_data,valid_data,test_data=(dataset[\"train\"],dataset[\"validation\"],dataset[\"test\"])"
      ]
    },
    {
      "cell_type": "code",
      "execution_count": 68,
      "metadata": {
        "colab": {
          "base_uri": "https://localhost:8080/"
        },
        "id": "SVrnBg45q_9u",
        "outputId": "b45c2142-ca46-4fcf-bb6a-95b08c03dd92"
      },
      "outputs": [
        {
          "data": {
            "text/plain": [
              "Dataset({\n",
              "    features: ['en', 'de'],\n",
              "    num_rows: 29000\n",
              "})"
            ]
          },
          "execution_count": 68,
          "metadata": {},
          "output_type": "execute_result"
        }
      ],
      "source": [
        "train_data"
      ]
    },
    {
      "cell_type": "code",
      "execution_count": 69,
      "metadata": {
        "colab": {
          "base_uri": "https://localhost:8080/"
        },
        "id": "OvsDMezwq_7p",
        "outputId": "4a7b5c1d-b417-4905-f6de-0c107c1099de"
      },
      "outputs": [
        {
          "data": {
            "text/plain": [
              "Dataset({\n",
              "    features: ['en', 'de'],\n",
              "    num_rows: 1014\n",
              "})"
            ]
          },
          "execution_count": 69,
          "metadata": {},
          "output_type": "execute_result"
        }
      ],
      "source": [
        "valid_data"
      ]
    },
    {
      "cell_type": "code",
      "execution_count": 70,
      "metadata": {
        "colab": {
          "base_uri": "https://localhost:8080/"
        },
        "id": "bxJfGmaXq_5K",
        "outputId": "620f1182-001b-4b88-a103-b48b558f7066"
      },
      "outputs": [
        {
          "data": {
            "text/plain": [
              "Dataset({\n",
              "    features: ['en', 'de'],\n",
              "    num_rows: 1000\n",
              "})"
            ]
          },
          "execution_count": 70,
          "metadata": {},
          "output_type": "execute_result"
        }
      ],
      "source": [
        "test_data"
      ]
    },
    {
      "cell_type": "code",
      "execution_count": 71,
      "metadata": {
        "colab": {
          "base_uri": "https://localhost:8080/"
        },
        "id": "_ktG2NCdq_25",
        "outputId": "128d3a35-a9b8-4fc7-d493-b6bf301dddf6"
      },
      "outputs": [
        {
          "data": {
            "text/plain": [
              "{'en': 'Two young, White males are outside near many bushes.',\n",
              " 'de': 'Zwei junge weiße Männer sind im Freien in der Nähe vieler Büsche.'}"
            ]
          },
          "execution_count": 71,
          "metadata": {},
          "output_type": "execute_result"
        }
      ],
      "source": [
        "train_data[0]"
      ]
    },
    {
      "cell_type": "code",
      "execution_count": 72,
      "metadata": {
        "colab": {
          "base_uri": "https://localhost:8080/"
        },
        "id": "KKtqaLneq_y7",
        "outputId": "91fd5664-f570-468e-c639-8b63f42d93dd"
      },
      "outputs": [
        {
          "data": {
            "text/plain": [
              "{'en': 'A man in an orange hat starring at something.',\n",
              " 'de': 'Ein Mann mit einem orangefarbenen Hut, der etwas anstarrt.'}"
            ]
          },
          "execution_count": 72,
          "metadata": {},
          "output_type": "execute_result"
        }
      ],
      "source": [
        "test_data[0]"
      ]
    },
    {
      "cell_type": "markdown",
      "metadata": {
        "id": "WPA84EW8s9G4"
      },
      "source": [
        "**Tokenize Data**"
      ]
    },
    {
      "cell_type": "code",
      "execution_count": 73,
      "metadata": {
        "colab": {
          "base_uri": "https://localhost:8080/"
        },
        "id": "-uUhIAqMq_w5",
        "outputId": "9816492c-71e6-48b5-9522-25bdcc671f6e"
      },
      "outputs": [
        {
          "name": "stdout",
          "output_type": "stream",
          "text": [
            "Collecting en-core-web-sm==3.7.1\n",
            "  Downloading https://github.com/explosion/spacy-models/releases/download/en_core_web_sm-3.7.1/en_core_web_sm-3.7.1-py3-none-any.whl (12.8 MB)\n",
            "\u001b[2K     \u001b[90m━━━━━━━━━━━━━━━━━━━━━━━━━━━━━━━━━━━━━━━━\u001b[0m \u001b[32m12.8/12.8 MB\u001b[0m \u001b[31m36.3 MB/s\u001b[0m eta \u001b[36m0:00:00\u001b[0m \u001b[36m0:00:01\u001b[0m\n",
            "\u001b[?25hRequirement already satisfied: spacy<3.8.0,>=3.7.2 in /Users/user/miniforge3/envs/torchtext_env/lib/python3.10/site-packages (from en-core-web-sm==3.7.1) (3.7.5)\n",
            "Requirement already satisfied: spacy-legacy<3.1.0,>=3.0.11 in /Users/user/miniforge3/envs/torchtext_env/lib/python3.10/site-packages (from spacy<3.8.0,>=3.7.2->en-core-web-sm==3.7.1) (3.0.12)\n",
            "Requirement already satisfied: spacy-loggers<2.0.0,>=1.0.0 in /Users/user/miniforge3/envs/torchtext_env/lib/python3.10/site-packages (from spacy<3.8.0,>=3.7.2->en-core-web-sm==3.7.1) (1.0.5)\n",
            "Requirement already satisfied: murmurhash<1.1.0,>=0.28.0 in /Users/user/miniforge3/envs/torchtext_env/lib/python3.10/site-packages (from spacy<3.8.0,>=3.7.2->en-core-web-sm==3.7.1) (1.0.13)\n",
            "Requirement already satisfied: cymem<2.1.0,>=2.0.2 in /Users/user/miniforge3/envs/torchtext_env/lib/python3.10/site-packages (from spacy<3.8.0,>=3.7.2->en-core-web-sm==3.7.1) (2.0.11)\n",
            "Requirement already satisfied: preshed<3.1.0,>=3.0.2 in /Users/user/miniforge3/envs/torchtext_env/lib/python3.10/site-packages (from spacy<3.8.0,>=3.7.2->en-core-web-sm==3.7.1) (3.0.10)\n",
            "Requirement already satisfied: thinc<8.3.0,>=8.2.2 in /Users/user/miniforge3/envs/torchtext_env/lib/python3.10/site-packages (from spacy<3.8.0,>=3.7.2->en-core-web-sm==3.7.1) (8.2.5)\n",
            "Requirement already satisfied: wasabi<1.2.0,>=0.9.1 in /Users/user/miniforge3/envs/torchtext_env/lib/python3.10/site-packages (from spacy<3.8.0,>=3.7.2->en-core-web-sm==3.7.1) (1.1.3)\n",
            "Requirement already satisfied: srsly<3.0.0,>=2.4.3 in /Users/user/miniforge3/envs/torchtext_env/lib/python3.10/site-packages (from spacy<3.8.0,>=3.7.2->en-core-web-sm==3.7.1) (2.5.1)\n",
            "Requirement already satisfied: catalogue<2.1.0,>=2.0.6 in /Users/user/miniforge3/envs/torchtext_env/lib/python3.10/site-packages (from spacy<3.8.0,>=3.7.2->en-core-web-sm==3.7.1) (2.0.10)\n",
            "Requirement already satisfied: weasel<0.5.0,>=0.1.0 in /Users/user/miniforge3/envs/torchtext_env/lib/python3.10/site-packages (from spacy<3.8.0,>=3.7.2->en-core-web-sm==3.7.1) (0.4.1)\n",
            "Requirement already satisfied: typer<1.0.0,>=0.3.0 in /Users/user/miniforge3/envs/torchtext_env/lib/python3.10/site-packages (from spacy<3.8.0,>=3.7.2->en-core-web-sm==3.7.1) (0.16.0)\n",
            "Requirement already satisfied: tqdm<5.0.0,>=4.38.0 in /Users/user/miniforge3/envs/torchtext_env/lib/python3.10/site-packages (from spacy<3.8.0,>=3.7.2->en-core-web-sm==3.7.1) (4.67.1)\n",
            "Requirement already satisfied: requests<3.0.0,>=2.13.0 in /Users/user/miniforge3/envs/torchtext_env/lib/python3.10/site-packages (from spacy<3.8.0,>=3.7.2->en-core-web-sm==3.7.1) (2.32.4)\n",
            "Requirement already satisfied: pydantic!=1.8,!=1.8.1,<3.0.0,>=1.7.4 in /Users/user/miniforge3/envs/torchtext_env/lib/python3.10/site-packages (from spacy<3.8.0,>=3.7.2->en-core-web-sm==3.7.1) (2.11.7)\n",
            "Requirement already satisfied: jinja2 in /Users/user/miniforge3/envs/torchtext_env/lib/python3.10/site-packages (from spacy<3.8.0,>=3.7.2->en-core-web-sm==3.7.1) (3.1.6)\n",
            "Requirement already satisfied: setuptools in /Users/user/miniforge3/envs/torchtext_env/lib/python3.10/site-packages (from spacy<3.8.0,>=3.7.2->en-core-web-sm==3.7.1) (80.9.0)\n",
            "Requirement already satisfied: packaging>=20.0 in /Users/user/miniforge3/envs/torchtext_env/lib/python3.10/site-packages (from spacy<3.8.0,>=3.7.2->en-core-web-sm==3.7.1) (25.0)\n",
            "Requirement already satisfied: langcodes<4.0.0,>=3.2.0 in /Users/user/miniforge3/envs/torchtext_env/lib/python3.10/site-packages (from spacy<3.8.0,>=3.7.2->en-core-web-sm==3.7.1) (3.5.0)\n",
            "Requirement already satisfied: numpy>=1.19.0 in /Users/user/miniforge3/envs/torchtext_env/lib/python3.10/site-packages (from spacy<3.8.0,>=3.7.2->en-core-web-sm==3.7.1) (1.26.4)\n",
            "Requirement already satisfied: language-data>=1.2 in /Users/user/miniforge3/envs/torchtext_env/lib/python3.10/site-packages (from langcodes<4.0.0,>=3.2.0->spacy<3.8.0,>=3.7.2->en-core-web-sm==3.7.1) (1.3.0)\n",
            "Requirement already satisfied: annotated-types>=0.6.0 in /Users/user/miniforge3/envs/torchtext_env/lib/python3.10/site-packages (from pydantic!=1.8,!=1.8.1,<3.0.0,>=1.7.4->spacy<3.8.0,>=3.7.2->en-core-web-sm==3.7.1) (0.7.0)\n",
            "Requirement already satisfied: pydantic-core==2.33.2 in /Users/user/miniforge3/envs/torchtext_env/lib/python3.10/site-packages (from pydantic!=1.8,!=1.8.1,<3.0.0,>=1.7.4->spacy<3.8.0,>=3.7.2->en-core-web-sm==3.7.1) (2.33.2)\n",
            "Requirement already satisfied: typing-extensions>=4.12.2 in /Users/user/miniforge3/envs/torchtext_env/lib/python3.10/site-packages (from pydantic!=1.8,!=1.8.1,<3.0.0,>=1.7.4->spacy<3.8.0,>=3.7.2->en-core-web-sm==3.7.1) (4.14.1)\n",
            "Requirement already satisfied: typing-inspection>=0.4.0 in /Users/user/miniforge3/envs/torchtext_env/lib/python3.10/site-packages (from pydantic!=1.8,!=1.8.1,<3.0.0,>=1.7.4->spacy<3.8.0,>=3.7.2->en-core-web-sm==3.7.1) (0.4.1)\n",
            "Requirement already satisfied: charset_normalizer<4,>=2 in /Users/user/miniforge3/envs/torchtext_env/lib/python3.10/site-packages (from requests<3.0.0,>=2.13.0->spacy<3.8.0,>=3.7.2->en-core-web-sm==3.7.1) (3.4.2)\n",
            "Requirement already satisfied: idna<4,>=2.5 in /Users/user/miniforge3/envs/torchtext_env/lib/python3.10/site-packages (from requests<3.0.0,>=2.13.0->spacy<3.8.0,>=3.7.2->en-core-web-sm==3.7.1) (3.10)\n",
            "Requirement already satisfied: urllib3<3,>=1.21.1 in /Users/user/miniforge3/envs/torchtext_env/lib/python3.10/site-packages (from requests<3.0.0,>=2.13.0->spacy<3.8.0,>=3.7.2->en-core-web-sm==3.7.1) (2.5.0)\n",
            "Requirement already satisfied: certifi>=2017.4.17 in /Users/user/miniforge3/envs/torchtext_env/lib/python3.10/site-packages (from requests<3.0.0,>=2.13.0->spacy<3.8.0,>=3.7.2->en-core-web-sm==3.7.1) (2025.6.15)\n",
            "Requirement already satisfied: blis<0.8.0,>=0.7.8 in /Users/user/miniforge3/envs/torchtext_env/lib/python3.10/site-packages (from thinc<8.3.0,>=8.2.2->spacy<3.8.0,>=3.7.2->en-core-web-sm==3.7.1) (0.7.11)\n",
            "Requirement already satisfied: confection<1.0.0,>=0.0.1 in /Users/user/miniforge3/envs/torchtext_env/lib/python3.10/site-packages (from thinc<8.3.0,>=8.2.2->spacy<3.8.0,>=3.7.2->en-core-web-sm==3.7.1) (0.1.5)\n",
            "Requirement already satisfied: click>=8.0.0 in /Users/user/miniforge3/envs/torchtext_env/lib/python3.10/site-packages (from typer<1.0.0,>=0.3.0->spacy<3.8.0,>=3.7.2->en-core-web-sm==3.7.1) (8.2.1)\n",
            "Requirement already satisfied: shellingham>=1.3.0 in /Users/user/miniforge3/envs/torchtext_env/lib/python3.10/site-packages (from typer<1.0.0,>=0.3.0->spacy<3.8.0,>=3.7.2->en-core-web-sm==3.7.1) (1.5.4)\n",
            "Requirement already satisfied: rich>=10.11.0 in /Users/user/miniforge3/envs/torchtext_env/lib/python3.10/site-packages (from typer<1.0.0,>=0.3.0->spacy<3.8.0,>=3.7.2->en-core-web-sm==3.7.1) (14.0.0)\n",
            "Requirement already satisfied: cloudpathlib<1.0.0,>=0.7.0 in /Users/user/miniforge3/envs/torchtext_env/lib/python3.10/site-packages (from weasel<0.5.0,>=0.1.0->spacy<3.8.0,>=3.7.2->en-core-web-sm==3.7.1) (0.21.1)\n",
            "Requirement already satisfied: smart-open<8.0.0,>=5.2.1 in /Users/user/miniforge3/envs/torchtext_env/lib/python3.10/site-packages (from weasel<0.5.0,>=0.1.0->spacy<3.8.0,>=3.7.2->en-core-web-sm==3.7.1) (7.3.0.post1)\n",
            "Requirement already satisfied: wrapt in /Users/user/miniforge3/envs/torchtext_env/lib/python3.10/site-packages (from smart-open<8.0.0,>=5.2.1->weasel<0.5.0,>=0.1.0->spacy<3.8.0,>=3.7.2->en-core-web-sm==3.7.1) (1.17.2)\n",
            "Requirement already satisfied: marisa-trie>=1.1.0 in /Users/user/miniforge3/envs/torchtext_env/lib/python3.10/site-packages (from language-data>=1.2->langcodes<4.0.0,>=3.2.0->spacy<3.8.0,>=3.7.2->en-core-web-sm==3.7.1) (1.2.1)\n",
            "Requirement already satisfied: markdown-it-py>=2.2.0 in /Users/user/miniforge3/envs/torchtext_env/lib/python3.10/site-packages (from rich>=10.11.0->typer<1.0.0,>=0.3.0->spacy<3.8.0,>=3.7.2->en-core-web-sm==3.7.1) (3.0.0)\n",
            "Requirement already satisfied: pygments<3.0.0,>=2.13.0 in /Users/user/miniforge3/envs/torchtext_env/lib/python3.10/site-packages (from rich>=10.11.0->typer<1.0.0,>=0.3.0->spacy<3.8.0,>=3.7.2->en-core-web-sm==3.7.1) (2.19.2)\n",
            "Requirement already satisfied: mdurl~=0.1 in /Users/user/miniforge3/envs/torchtext_env/lib/python3.10/site-packages (from markdown-it-py>=2.2.0->rich>=10.11.0->typer<1.0.0,>=0.3.0->spacy<3.8.0,>=3.7.2->en-core-web-sm==3.7.1) (0.1.2)\n",
            "Requirement already satisfied: MarkupSafe>=2.0 in /Users/user/miniforge3/envs/torchtext_env/lib/python3.10/site-packages (from jinja2->spacy<3.8.0,>=3.7.2->en-core-web-sm==3.7.1) (3.0.2)\n",
            "\u001b[38;5;2m✔ Download and installation successful\u001b[0m\n",
            "You can now load the package via spacy.load('en_core_web_sm')\n",
            "Collecting de-core-news-sm==3.7.0\n",
            "  Downloading https://github.com/explosion/spacy-models/releases/download/de_core_news_sm-3.7.0/de_core_news_sm-3.7.0-py3-none-any.whl (14.6 MB)\n",
            "\u001b[2K     \u001b[90m━━━━━━━━━━━━━━━━━━━━━━━━━━━━━━━━━━━━━━━━\u001b[0m \u001b[32m14.6/14.6 MB\u001b[0m \u001b[31m36.0 MB/s\u001b[0m eta \u001b[36m0:00:00\u001b[0m \u001b[36m0:00:01\u001b[0m\n",
            "\u001b[?25hRequirement already satisfied: spacy<3.8.0,>=3.7.0 in /Users/user/miniforge3/envs/torchtext_env/lib/python3.10/site-packages (from de-core-news-sm==3.7.0) (3.7.5)\n",
            "Requirement already satisfied: spacy-legacy<3.1.0,>=3.0.11 in /Users/user/miniforge3/envs/torchtext_env/lib/python3.10/site-packages (from spacy<3.8.0,>=3.7.0->de-core-news-sm==3.7.0) (3.0.12)\n",
            "Requirement already satisfied: spacy-loggers<2.0.0,>=1.0.0 in /Users/user/miniforge3/envs/torchtext_env/lib/python3.10/site-packages (from spacy<3.8.0,>=3.7.0->de-core-news-sm==3.7.0) (1.0.5)\n",
            "Requirement already satisfied: murmurhash<1.1.0,>=0.28.0 in /Users/user/miniforge3/envs/torchtext_env/lib/python3.10/site-packages (from spacy<3.8.0,>=3.7.0->de-core-news-sm==3.7.0) (1.0.13)\n",
            "Requirement already satisfied: cymem<2.1.0,>=2.0.2 in /Users/user/miniforge3/envs/torchtext_env/lib/python3.10/site-packages (from spacy<3.8.0,>=3.7.0->de-core-news-sm==3.7.0) (2.0.11)\n",
            "Requirement already satisfied: preshed<3.1.0,>=3.0.2 in /Users/user/miniforge3/envs/torchtext_env/lib/python3.10/site-packages (from spacy<3.8.0,>=3.7.0->de-core-news-sm==3.7.0) (3.0.10)\n",
            "Requirement already satisfied: thinc<8.3.0,>=8.2.2 in /Users/user/miniforge3/envs/torchtext_env/lib/python3.10/site-packages (from spacy<3.8.0,>=3.7.0->de-core-news-sm==3.7.0) (8.2.5)\n",
            "Requirement already satisfied: wasabi<1.2.0,>=0.9.1 in /Users/user/miniforge3/envs/torchtext_env/lib/python3.10/site-packages (from spacy<3.8.0,>=3.7.0->de-core-news-sm==3.7.0) (1.1.3)\n",
            "Requirement already satisfied: srsly<3.0.0,>=2.4.3 in /Users/user/miniforge3/envs/torchtext_env/lib/python3.10/site-packages (from spacy<3.8.0,>=3.7.0->de-core-news-sm==3.7.0) (2.5.1)\n",
            "Requirement already satisfied: catalogue<2.1.0,>=2.0.6 in /Users/user/miniforge3/envs/torchtext_env/lib/python3.10/site-packages (from spacy<3.8.0,>=3.7.0->de-core-news-sm==3.7.0) (2.0.10)\n",
            "Requirement already satisfied: weasel<0.5.0,>=0.1.0 in /Users/user/miniforge3/envs/torchtext_env/lib/python3.10/site-packages (from spacy<3.8.0,>=3.7.0->de-core-news-sm==3.7.0) (0.4.1)\n",
            "Requirement already satisfied: typer<1.0.0,>=0.3.0 in /Users/user/miniforge3/envs/torchtext_env/lib/python3.10/site-packages (from spacy<3.8.0,>=3.7.0->de-core-news-sm==3.7.0) (0.16.0)\n",
            "Requirement already satisfied: tqdm<5.0.0,>=4.38.0 in /Users/user/miniforge3/envs/torchtext_env/lib/python3.10/site-packages (from spacy<3.8.0,>=3.7.0->de-core-news-sm==3.7.0) (4.67.1)\n",
            "Requirement already satisfied: requests<3.0.0,>=2.13.0 in /Users/user/miniforge3/envs/torchtext_env/lib/python3.10/site-packages (from spacy<3.8.0,>=3.7.0->de-core-news-sm==3.7.0) (2.32.4)\n",
            "Requirement already satisfied: pydantic!=1.8,!=1.8.1,<3.0.0,>=1.7.4 in /Users/user/miniforge3/envs/torchtext_env/lib/python3.10/site-packages (from spacy<3.8.0,>=3.7.0->de-core-news-sm==3.7.0) (2.11.7)\n",
            "Requirement already satisfied: jinja2 in /Users/user/miniforge3/envs/torchtext_env/lib/python3.10/site-packages (from spacy<3.8.0,>=3.7.0->de-core-news-sm==3.7.0) (3.1.6)\n",
            "Requirement already satisfied: setuptools in /Users/user/miniforge3/envs/torchtext_env/lib/python3.10/site-packages (from spacy<3.8.0,>=3.7.0->de-core-news-sm==3.7.0) (80.9.0)\n",
            "Requirement already satisfied: packaging>=20.0 in /Users/user/miniforge3/envs/torchtext_env/lib/python3.10/site-packages (from spacy<3.8.0,>=3.7.0->de-core-news-sm==3.7.0) (25.0)\n",
            "Requirement already satisfied: langcodes<4.0.0,>=3.2.0 in /Users/user/miniforge3/envs/torchtext_env/lib/python3.10/site-packages (from spacy<3.8.0,>=3.7.0->de-core-news-sm==3.7.0) (3.5.0)\n",
            "Requirement already satisfied: numpy>=1.19.0 in /Users/user/miniforge3/envs/torchtext_env/lib/python3.10/site-packages (from spacy<3.8.0,>=3.7.0->de-core-news-sm==3.7.0) (1.26.4)\n",
            "Requirement already satisfied: language-data>=1.2 in /Users/user/miniforge3/envs/torchtext_env/lib/python3.10/site-packages (from langcodes<4.0.0,>=3.2.0->spacy<3.8.0,>=3.7.0->de-core-news-sm==3.7.0) (1.3.0)\n",
            "Requirement already satisfied: annotated-types>=0.6.0 in /Users/user/miniforge3/envs/torchtext_env/lib/python3.10/site-packages (from pydantic!=1.8,!=1.8.1,<3.0.0,>=1.7.4->spacy<3.8.0,>=3.7.0->de-core-news-sm==3.7.0) (0.7.0)\n",
            "Requirement already satisfied: pydantic-core==2.33.2 in /Users/user/miniforge3/envs/torchtext_env/lib/python3.10/site-packages (from pydantic!=1.8,!=1.8.1,<3.0.0,>=1.7.4->spacy<3.8.0,>=3.7.0->de-core-news-sm==3.7.0) (2.33.2)\n",
            "Requirement already satisfied: typing-extensions>=4.12.2 in /Users/user/miniforge3/envs/torchtext_env/lib/python3.10/site-packages (from pydantic!=1.8,!=1.8.1,<3.0.0,>=1.7.4->spacy<3.8.0,>=3.7.0->de-core-news-sm==3.7.0) (4.14.1)\n",
            "Requirement already satisfied: typing-inspection>=0.4.0 in /Users/user/miniforge3/envs/torchtext_env/lib/python3.10/site-packages (from pydantic!=1.8,!=1.8.1,<3.0.0,>=1.7.4->spacy<3.8.0,>=3.7.0->de-core-news-sm==3.7.0) (0.4.1)\n",
            "Requirement already satisfied: charset_normalizer<4,>=2 in /Users/user/miniforge3/envs/torchtext_env/lib/python3.10/site-packages (from requests<3.0.0,>=2.13.0->spacy<3.8.0,>=3.7.0->de-core-news-sm==3.7.0) (3.4.2)\n",
            "Requirement already satisfied: idna<4,>=2.5 in /Users/user/miniforge3/envs/torchtext_env/lib/python3.10/site-packages (from requests<3.0.0,>=2.13.0->spacy<3.8.0,>=3.7.0->de-core-news-sm==3.7.0) (3.10)\n",
            "Requirement already satisfied: urllib3<3,>=1.21.1 in /Users/user/miniforge3/envs/torchtext_env/lib/python3.10/site-packages (from requests<3.0.0,>=2.13.0->spacy<3.8.0,>=3.7.0->de-core-news-sm==3.7.0) (2.5.0)\n",
            "Requirement already satisfied: certifi>=2017.4.17 in /Users/user/miniforge3/envs/torchtext_env/lib/python3.10/site-packages (from requests<3.0.0,>=2.13.0->spacy<3.8.0,>=3.7.0->de-core-news-sm==3.7.0) (2025.6.15)\n",
            "Requirement already satisfied: blis<0.8.0,>=0.7.8 in /Users/user/miniforge3/envs/torchtext_env/lib/python3.10/site-packages (from thinc<8.3.0,>=8.2.2->spacy<3.8.0,>=3.7.0->de-core-news-sm==3.7.0) (0.7.11)\n",
            "Requirement already satisfied: confection<1.0.0,>=0.0.1 in /Users/user/miniforge3/envs/torchtext_env/lib/python3.10/site-packages (from thinc<8.3.0,>=8.2.2->spacy<3.8.0,>=3.7.0->de-core-news-sm==3.7.0) (0.1.5)\n",
            "Requirement already satisfied: click>=8.0.0 in /Users/user/miniforge3/envs/torchtext_env/lib/python3.10/site-packages (from typer<1.0.0,>=0.3.0->spacy<3.8.0,>=3.7.0->de-core-news-sm==3.7.0) (8.2.1)\n",
            "Requirement already satisfied: shellingham>=1.3.0 in /Users/user/miniforge3/envs/torchtext_env/lib/python3.10/site-packages (from typer<1.0.0,>=0.3.0->spacy<3.8.0,>=3.7.0->de-core-news-sm==3.7.0) (1.5.4)\n",
            "Requirement already satisfied: rich>=10.11.0 in /Users/user/miniforge3/envs/torchtext_env/lib/python3.10/site-packages (from typer<1.0.0,>=0.3.0->spacy<3.8.0,>=3.7.0->de-core-news-sm==3.7.0) (14.0.0)\n",
            "Requirement already satisfied: cloudpathlib<1.0.0,>=0.7.0 in /Users/user/miniforge3/envs/torchtext_env/lib/python3.10/site-packages (from weasel<0.5.0,>=0.1.0->spacy<3.8.0,>=3.7.0->de-core-news-sm==3.7.0) (0.21.1)\n",
            "Requirement already satisfied: smart-open<8.0.0,>=5.2.1 in /Users/user/miniforge3/envs/torchtext_env/lib/python3.10/site-packages (from weasel<0.5.0,>=0.1.0->spacy<3.8.0,>=3.7.0->de-core-news-sm==3.7.0) (7.3.0.post1)\n",
            "Requirement already satisfied: wrapt in /Users/user/miniforge3/envs/torchtext_env/lib/python3.10/site-packages (from smart-open<8.0.0,>=5.2.1->weasel<0.5.0,>=0.1.0->spacy<3.8.0,>=3.7.0->de-core-news-sm==3.7.0) (1.17.2)\n",
            "Requirement already satisfied: marisa-trie>=1.1.0 in /Users/user/miniforge3/envs/torchtext_env/lib/python3.10/site-packages (from language-data>=1.2->langcodes<4.0.0,>=3.2.0->spacy<3.8.0,>=3.7.0->de-core-news-sm==3.7.0) (1.2.1)\n",
            "Requirement already satisfied: markdown-it-py>=2.2.0 in /Users/user/miniforge3/envs/torchtext_env/lib/python3.10/site-packages (from rich>=10.11.0->typer<1.0.0,>=0.3.0->spacy<3.8.0,>=3.7.0->de-core-news-sm==3.7.0) (3.0.0)\n",
            "Requirement already satisfied: pygments<3.0.0,>=2.13.0 in /Users/user/miniforge3/envs/torchtext_env/lib/python3.10/site-packages (from rich>=10.11.0->typer<1.0.0,>=0.3.0->spacy<3.8.0,>=3.7.0->de-core-news-sm==3.7.0) (2.19.2)\n",
            "Requirement already satisfied: mdurl~=0.1 in /Users/user/miniforge3/envs/torchtext_env/lib/python3.10/site-packages (from markdown-it-py>=2.2.0->rich>=10.11.0->typer<1.0.0,>=0.3.0->spacy<3.8.0,>=3.7.0->de-core-news-sm==3.7.0) (0.1.2)\n",
            "Requirement already satisfied: MarkupSafe>=2.0 in /Users/user/miniforge3/envs/torchtext_env/lib/python3.10/site-packages (from jinja2->spacy<3.8.0,>=3.7.0->de-core-news-sm==3.7.0) (3.0.2)\n",
            "\u001b[38;5;2m✔ Download and installation successful\u001b[0m\n",
            "You can now load the package via spacy.load('de_core_news_sm')\n"
          ]
        }
      ],
      "source": [
        "!python -m spacy download en_core_web_sm\n",
        "!python -m spacy download de_core_news_sm"
      ]
    },
    {
      "cell_type": "code",
      "execution_count": 74,
      "metadata": {
        "id": "0ryH8hQrq_up"
      },
      "outputs": [],
      "source": [
        "en_nlp=spacy.load(\"en_core_web_sm\")\n",
        "de_nlp=spacy.load(\"de_core_news_sm\")"
      ]
    },
    {
      "cell_type": "code",
      "execution_count": 75,
      "metadata": {
        "id": "LAEg_Bd9q_sq"
      },
      "outputs": [],
      "source": [
        "string=\"how are you !\""
      ]
    },
    {
      "cell_type": "code",
      "execution_count": 76,
      "metadata": {
        "colab": {
          "base_uri": "https://localhost:8080/"
        },
        "id": "ZJwEGsh9q_qp",
        "outputId": "1587aa4f-f932-4e00-fe37-1014ca31b6f2"
      },
      "outputs": [
        {
          "data": {
            "text/plain": [
              "['how', 'are', 'you', '!']"
            ]
          },
          "execution_count": 76,
          "metadata": {},
          "output_type": "execute_result"
        }
      ],
      "source": [
        "[token.text for token in en_nlp.tokenizer(string)]"
      ]
    },
    {
      "cell_type": "code",
      "execution_count": 77,
      "metadata": {
        "id": "noRLyBRmq_op"
      },
      "outputs": [],
      "source": [
        "def tokenize_example(example, en_nlp, de_nlp, max_length, lower, sos_token, eos_token):\n",
        "\n",
        "    en_tokens = [token.text for token in en_nlp.tokenizer(example[\"en\"])][:max_length]\n",
        "    de_tokens = [token.text for token in de_nlp.tokenizer(example[\"de\"])][:max_length]\n",
        "\n",
        "    if lower:\n",
        "        en_tokens = [token.lower() for token in en_tokens]\n",
        "        de_tokens = [token.lower() for token in de_tokens]\n",
        "\n",
        "    en_tokens = [sos_token] + en_tokens + [eos_token]\n",
        "    de_tokens = [sos_token] + de_tokens + [eos_token]\n",
        "    \n",
        "    return {\"en_tokens\": en_tokens, \"de_tokens\": de_tokens}\n",
        "\n",
        "max_length = 1_000\n",
        "lower = True\n",
        "sos_token = \"<sos>\"\n",
        "eos_token = \"<eos>\"\n",
        "\n",
        "fn_kwargs = {\n",
        "    \"en_nlp\": en_nlp,\n",
        "    \"de_nlp\": de_nlp,\n",
        "    \"max_length\": max_length,\n",
        "    \"lower\": lower,\n",
        "    \"sos_token\": sos_token,\n",
        "    \"eos_token\": eos_token,\n",
        "}\n",
        "\n",
        "train_data = train_data.map(tokenize_example, fn_kwargs=fn_kwargs)\n",
        "valid_data = valid_data.map(tokenize_example, fn_kwargs=fn_kwargs)\n",
        "test_data = test_data.map(tokenize_example, fn_kwargs=fn_kwargs)"
      ]
    },
    {
      "cell_type": "code",
      "execution_count": 78,
      "metadata": {
        "colab": {
          "base_uri": "https://localhost:8080/"
        },
        "id": "jGy9GDZqvx7N",
        "outputId": "b770d9ec-fc4e-481c-c47d-b31b56c00764"
      },
      "outputs": [
        {
          "data": {
            "text/plain": [
              "Dataset({\n",
              "    features: ['en', 'de', 'en_tokens', 'de_tokens'],\n",
              "    num_rows: 29000\n",
              "})"
            ]
          },
          "execution_count": 78,
          "metadata": {},
          "output_type": "execute_result"
        }
      ],
      "source": [
        "train_data"
      ]
    },
    {
      "cell_type": "code",
      "execution_count": 79,
      "metadata": {
        "colab": {
          "base_uri": "https://localhost:8080/"
        },
        "id": "KJzySPurv3Ll",
        "outputId": "567814c2-8704-4c29-cec9-4ae2f1e0ec41"
      },
      "outputs": [
        {
          "data": {
            "text/plain": [
              "{'en': 'Two young, White males are outside near many bushes.',\n",
              " 'de': 'Zwei junge weiße Männer sind im Freien in der Nähe vieler Büsche.',\n",
              " 'en_tokens': ['<sos>',\n",
              "  'two',\n",
              "  'young',\n",
              "  ',',\n",
              "  'white',\n",
              "  'males',\n",
              "  'are',\n",
              "  'outside',\n",
              "  'near',\n",
              "  'many',\n",
              "  'bushes',\n",
              "  '.',\n",
              "  '<eos>'],\n",
              " 'de_tokens': ['<sos>',\n",
              "  'zwei',\n",
              "  'junge',\n",
              "  'weiße',\n",
              "  'männer',\n",
              "  'sind',\n",
              "  'im',\n",
              "  'freien',\n",
              "  'in',\n",
              "  'der',\n",
              "  'nähe',\n",
              "  'vieler',\n",
              "  'büsche',\n",
              "  '.',\n",
              "  '<eos>']}"
            ]
          },
          "execution_count": 79,
          "metadata": {},
          "output_type": "execute_result"
        }
      ],
      "source": [
        "train_data[0]"
      ]
    },
    {
      "cell_type": "markdown",
      "metadata": {
        "id": "E6cBc-jDv8YM"
      },
      "source": [
        "**creating vocabulary**"
      ]
    },
    {
      "cell_type": "code",
      "execution_count": 80,
      "metadata": {
        "colab": {
          "base_uri": "https://localhost:8080/"
        },
        "id": "NAqJ27_9wVmM",
        "outputId": "a25a35a3-af65-4cd4-b17c-3a3ab71b58c1"
      },
      "outputs": [],
      "source": [
        "from torchtext.vocab import build_vocab_from_iterator"
      ]
    },
    {
      "cell_type": "code",
      "execution_count": 81,
      "metadata": {
        "id": "Kl8GM81Cv7Cs"
      },
      "outputs": [],
      "source": [
        "min_freq = 2\n",
        "unk_token = \"<unk>\"\n",
        "pad_token = \"<pad>\"\n",
        "\n",
        "special_tokens = [\n",
        "    unk_token,\n",
        "    pad_token,\n",
        "    sos_token,\n",
        "    eos_token,\n",
        "]\n",
        "\n",
        "en_vocab = build_vocab_from_iterator(\n",
        "    train_data[\"en_tokens\"],\n",
        "    min_freq=min_freq,\n",
        "    specials=special_tokens,\n",
        ")\n",
        "\n",
        "de_vocab = build_vocab_from_iterator(\n",
        "    train_data[\"de_tokens\"],\n",
        "    min_freq=min_freq,\n",
        "    specials=special_tokens,\n",
        ")"
      ]
    },
    {
      "cell_type": "code",
      "execution_count": 82,
      "metadata": {
        "colab": {
          "base_uri": "https://localhost:8080/"
        },
        "id": "nyzlLCGPwbFz",
        "outputId": "e78e880a-9236-410b-f2ce-26dd801f6e54"
      },
      "outputs": [
        {
          "data": {
            "text/plain": [
              "5893"
            ]
          },
          "execution_count": 82,
          "metadata": {},
          "output_type": "execute_result"
        }
      ],
      "source": [
        "len(en_vocab)"
      ]
    },
    {
      "cell_type": "code",
      "execution_count": 83,
      "metadata": {
        "colab": {
          "base_uri": "https://localhost:8080/"
        },
        "id": "eVzb0-zkwdoj",
        "outputId": "b056e697-7c6a-40ef-a9ed-9beb79a0646d"
      },
      "outputs": [
        {
          "data": {
            "text/plain": [
              "7853"
            ]
          },
          "execution_count": 83,
          "metadata": {},
          "output_type": "execute_result"
        }
      ],
      "source": [
        "len(de_vocab)"
      ]
    },
    {
      "cell_type": "code",
      "execution_count": 84,
      "metadata": {},
      "outputs": [
        {
          "data": {
            "text/plain": [
              "['<unk>', '<pad>', '<sos>', '<eos>', 'a', '.', 'in', 'the', 'on', 'man']"
            ]
          },
          "execution_count": 84,
          "metadata": {},
          "output_type": "execute_result"
        }
      ],
      "source": [
        "en_vocab.get_itos()[:10]"
      ]
    },
    {
      "cell_type": "code",
      "execution_count": 85,
      "metadata": {},
      "outputs": [
        {
          "data": {
            "text/plain": [
              "'man'"
            ]
          },
          "execution_count": 85,
          "metadata": {},
          "output_type": "execute_result"
        }
      ],
      "source": [
        "en_vocab.get_itos()[9]"
      ]
    },
    {
      "cell_type": "code",
      "execution_count": 86,
      "metadata": {},
      "outputs": [
        {
          "data": {
            "text/plain": [
              "9"
            ]
          },
          "execution_count": 86,
          "metadata": {},
          "output_type": "execute_result"
        }
      ],
      "source": [
        "en_vocab.get_stoi()[\"man\"]"
      ]
    },
    {
      "cell_type": "code",
      "execution_count": 87,
      "metadata": {},
      "outputs": [
        {
          "data": {
            "text/plain": [
              "['<unk>', '<pad>', '<sos>', '<eos>', 'a', '.', 'in', 'the', 'on', 'man']"
            ]
          },
          "execution_count": 87,
          "metadata": {},
          "output_type": "execute_result"
        }
      ],
      "source": [
        "en_vocab.get_itos()[:10]"
      ]
    },
    {
      "cell_type": "code",
      "execution_count": 88,
      "metadata": {
        "id": "mGGwRRqGwg3T"
      },
      "outputs": [],
      "source": [
        "# Checking the unkown and padding token indexing. \n",
        "assert en_vocab[unk_token] == de_vocab[unk_token]\n",
        "assert en_vocab[pad_token] == de_vocab[pad_token]\n",
        "\n",
        "unk_index = en_vocab[unk_token]\n",
        "pad_index = en_vocab[pad_token]"
      ]
    },
    {
      "cell_type": "code",
      "execution_count": 89,
      "metadata": {},
      "outputs": [],
      "source": [
        "# setting the unknown indexing as zero. \n",
        "en_vocab.set_default_index(unk_index)\n",
        "de_vocab.set_default_index(pad_index)"
      ]
    },
    {
      "cell_type": "code",
      "execution_count": 90,
      "metadata": {},
      "outputs": [
        {
          "data": {
            "text/plain": [
              "0"
            ]
          },
          "execution_count": 90,
          "metadata": {},
          "output_type": "execute_result"
        }
      ],
      "source": [
        "en_vocab[\"nsdjksf\"]"
      ]
    },
    {
      "cell_type": "code",
      "execution_count": 91,
      "metadata": {},
      "outputs": [
        {
          "data": {
            "text/plain": [
              "1"
            ]
          },
          "execution_count": 91,
          "metadata": {},
          "output_type": "execute_result"
        }
      ],
      "source": [
        "de_vocab[\"nsdjksf\"]"
      ]
    },
    {
      "cell_type": "code",
      "execution_count": 92,
      "metadata": {},
      "outputs": [
        {
          "data": {
            "text/plain": [
              "[0, 1507, 10, 0]"
            ]
          },
          "execution_count": 92,
          "metadata": {},
          "output_type": "execute_result"
        }
      ],
      "source": [
        "tokens = [\"My\", \"name\", \"is\", \"Netra Khatri\"]\n",
        "en_vocab.lookup_indices(tokens)"
      ]
    },
    {
      "cell_type": "markdown",
      "metadata": {},
      "source": [
        "### **Numericalizing Data**"
      ]
    },
    {
      "cell_type": "code",
      "execution_count": 93,
      "metadata": {},
      "outputs": [],
      "source": [
        "def numericalize_example(example, en_vocab, de_vocab):\n",
        "\n",
        "    en_ids = en_vocab.lookup_indices(example[\"en_tokens\"])\n",
        "    de_ids = de_vocab.lookup_indices(example[\"de_tokens\"])\n",
        "    \n",
        "    return {\n",
        "        \"en_ids\": en_ids,\n",
        "        \"de_ids\": de_ids\n",
        "    }\n",
        "\n",
        "fn_kwargs = {\n",
        "    \"en_vocab\": en_vocab, \n",
        "    \"de_vocab\": de_vocab\n",
        "}\n",
        "\n",
        "# map always takes: function name, and function arugments. \n",
        "train_data = train_data.map(\n",
        "    numericalize_example, \n",
        "    fn_kwargs = fn_kwargs\n",
        ")\n",
        "\n",
        "test_data = test_data.map(\n",
        "    numericalize_example, \n",
        "    fn_kwargs = fn_kwargs\n",
        ")\n",
        "\n",
        "valid_data = valid_data.map(\n",
        "    numericalize_example, \n",
        "    fn_kwargs = fn_kwargs\n",
        ")"
      ]
    },
    {
      "cell_type": "code",
      "execution_count": 94,
      "metadata": {},
      "outputs": [
        {
          "data": {
            "text/plain": [
              "Dataset({\n",
              "    features: ['en', 'de', 'en_tokens', 'de_tokens', 'en_ids', 'de_ids'],\n",
              "    num_rows: 29000\n",
              "})"
            ]
          },
          "execution_count": 94,
          "metadata": {},
          "output_type": "execute_result"
        }
      ],
      "source": [
        "train_data"
      ]
    },
    {
      "cell_type": "code",
      "execution_count": 95,
      "metadata": {},
      "outputs": [
        {
          "data": {
            "text/plain": [
              "[2, 16, 24, 15, 25, 778, 17, 57, 80, 202, 1312, 5, 3]"
            ]
          },
          "execution_count": 95,
          "metadata": {},
          "output_type": "execute_result"
        }
      ],
      "source": [
        "train_data[0][\"en_ids\"]"
      ]
    },
    {
      "cell_type": "code",
      "execution_count": 96,
      "metadata": {},
      "outputs": [
        {
          "data": {
            "text/plain": [
              "{'en': 'Two young, White males are outside near many bushes.',\n",
              " 'de': 'Zwei junge weiße Männer sind im Freien in der Nähe vieler Büsche.',\n",
              " 'en_tokens': ['<sos>',\n",
              "  'two',\n",
              "  'young',\n",
              "  ',',\n",
              "  'white',\n",
              "  'males',\n",
              "  'are',\n",
              "  'outside',\n",
              "  'near',\n",
              "  'many',\n",
              "  'bushes',\n",
              "  '.',\n",
              "  '<eos>'],\n",
              " 'de_tokens': ['<sos>',\n",
              "  'zwei',\n",
              "  'junge',\n",
              "  'weiße',\n",
              "  'männer',\n",
              "  'sind',\n",
              "  'im',\n",
              "  'freien',\n",
              "  'in',\n",
              "  'der',\n",
              "  'nähe',\n",
              "  'vieler',\n",
              "  'büsche',\n",
              "  '.',\n",
              "  '<eos>'],\n",
              " 'en_ids': [2, 16, 24, 15, 25, 778, 17, 57, 80, 202, 1312, 5, 3],\n",
              " 'de_ids': [2, 18, 26, 253, 30, 84, 20, 88, 7, 15, 110, 7647, 3171, 4, 3]}"
            ]
          },
          "execution_count": 96,
          "metadata": {},
          "output_type": "execute_result"
        }
      ],
      "source": [
        "train_data[0]"
      ]
    },
    {
      "cell_type": "markdown",
      "metadata": {
        "id": "t2gk3e9Sy3iK"
      },
      "source": [
        "### **Convert Data into tensors**"
      ]
    },
    {
      "cell_type": "code",
      "execution_count": 97,
      "metadata": {},
      "outputs": [
        {
          "data": {
            "text/plain": [
              "Dataset({\n",
              "    features: ['en', 'de', 'en_tokens', 'de_tokens', 'en_ids', 'de_ids'],\n",
              "    num_rows: 29000\n",
              "})"
            ]
          },
          "execution_count": 97,
          "metadata": {},
          "output_type": "execute_result"
        }
      ],
      "source": [
        "train_data"
      ]
    },
    {
      "cell_type": "code",
      "execution_count": 98,
      "metadata": {},
      "outputs": [],
      "source": [
        "data_type = \"torch\"\n",
        "format_columns = [\"en_ids\", \"de_ids\"]\n",
        "\n",
        "train_data = train_data.with_format(\n",
        "    type = data_type, \n",
        "    columns = format_columns,\n",
        "    output_all_columns = True\n",
        ")\n",
        "\n",
        "valid_data = valid_data.with_format(\n",
        "    type = data_type,\n",
        "    columns = format_columns, \n",
        "    output_all_columns = True\n",
        ")\n",
        "\n",
        "test_data = test_data.with_format(\n",
        "    type = data_type, \n",
        "    columns = format_columns, \n",
        "    output_all_columns = True\n",
        ")"
      ]
    },
    {
      "cell_type": "code",
      "execution_count": 99,
      "metadata": {},
      "outputs": [
        {
          "data": {
            "text/plain": [
              "{'en_ids': tensor([   2,   16,   24,   15,   25,  778,   17,   57,   80,  202, 1312,    5,\n",
              "            3]),\n",
              " 'de_ids': tensor([   2,   18,   26,  253,   30,   84,   20,   88,    7,   15,  110, 7647,\n",
              "         3171,    4,    3]),\n",
              " 'en': 'Two young, White males are outside near many bushes.',\n",
              " 'de': 'Zwei junge weiße Männer sind im Freien in der Nähe vieler Büsche.',\n",
              " 'en_tokens': ['<sos>',\n",
              "  'two',\n",
              "  'young',\n",
              "  ',',\n",
              "  'white',\n",
              "  'males',\n",
              "  'are',\n",
              "  'outside',\n",
              "  'near',\n",
              "  'many',\n",
              "  'bushes',\n",
              "  '.',\n",
              "  '<eos>'],\n",
              " 'de_tokens': ['<sos>',\n",
              "  'zwei',\n",
              "  'junge',\n",
              "  'weiße',\n",
              "  'männer',\n",
              "  'sind',\n",
              "  'im',\n",
              "  'freien',\n",
              "  'in',\n",
              "  'der',\n",
              "  'nähe',\n",
              "  'vieler',\n",
              "  'büsche',\n",
              "  '.',\n",
              "  '<eos>']}"
            ]
          },
          "execution_count": 99,
          "metadata": {},
          "output_type": "execute_result"
        }
      ],
      "source": [
        "train_data[0]"
      ]
    },
    {
      "cell_type": "code",
      "execution_count": 100,
      "metadata": {},
      "outputs": [
        {
          "data": {
            "text/plain": [
              "torch.Tensor"
            ]
          },
          "execution_count": 100,
          "metadata": {},
          "output_type": "execute_result"
        }
      ],
      "source": [
        "type(train_data[0][\"de_ids\"])"
      ]
    },
    {
      "cell_type": "markdown",
      "metadata": {},
      "source": [
        "### **Creating a DataLoaders**"
      ]
    },
    {
      "cell_type": "code",
      "execution_count": 101,
      "metadata": {},
      "outputs": [],
      "source": [
        "batch_size = 128\n",
        "\n",
        "def get_collate_fn(pad_index):\n",
        "\n",
        "    def collate_fn(batch):\n",
        "\n",
        "        batch_en_ids = [example[\"en_ids\"] for example in batch] \n",
        "        batch_de_ids = [example[\"de_ids\"] for example in batch]\n",
        "\n",
        "        batch_en_ids = nn.utils.rnn.pad_sequence(batch_en_ids, padding_value=pad_index)\n",
        "        batch_de_ids = nn.utils.rnn.pad_sequence(batch_de_ids, padding_value=pad_index)\n",
        "\n",
        "        return {\n",
        "            \"en_ids\": batch_en_ids, \n",
        "            \"de_ids\": batch_de_ids\n",
        "        }\n",
        "    \n",
        "    return collate_fn\n",
        "\n",
        "def get_data_loader(dataset, batch_size, pad_index, shuffle=False):\n",
        "\n",
        "    collate_fn = get_collate_fn(pad_index)\n",
        "    \n",
        "    # Convert the data into the batches. \n",
        "    data_loader = torch.utils.data.DataLoader(\n",
        "        dataset = dataset,\n",
        "        batch_size = batch_size, \n",
        "        collate_fn = collate_fn, # Convert each rows into the numbers. \n",
        "        shuffle = shuffle\n",
        "    ) # DataLoader helps to make the batches.\n",
        "\n",
        "    return data_loader\n",
        "\n",
        "train_data_loader = get_data_loader(\n",
        "    train_data, \n",
        "    batch_size, \n",
        "    pad_index, # some of the rows are short and some are long, so adding pad_index = 1 is added. \n",
        "    shuffle=True\n",
        ")\n",
        "\n",
        "valid_data_loader = get_data_loader(\n",
        "    valid_data, \n",
        "    batch_size, \n",
        "    pad_index\n",
        ")\n",
        "\n",
        "test_data_loader = get_data_loader(\n",
        "    test_data, \n",
        "    batch_size, \n",
        "    pad_index\n",
        ")"
      ]
    },
    {
      "cell_type": "code",
      "execution_count": 102,
      "metadata": {},
      "outputs": [
        {
          "data": {
            "text/plain": [
              "227"
            ]
          },
          "execution_count": 102,
          "metadata": {},
          "output_type": "execute_result"
        }
      ],
      "source": [
        "len(train_data_loader) # 227 batches, each batches contains 128 rows. "
      ]
    },
    {
      "cell_type": "code",
      "execution_count": 103,
      "metadata": {},
      "outputs": [
        {
          "data": {
            "text/plain": [
              "8"
            ]
          },
          "execution_count": 103,
          "metadata": {},
          "output_type": "execute_result"
        }
      ],
      "source": [
        "len(test_data_loader) "
      ]
    },
    {
      "cell_type": "code",
      "execution_count": 104,
      "metadata": {},
      "outputs": [
        {
          "data": {
            "text/plain": [
              "8"
            ]
          },
          "execution_count": 104,
          "metadata": {},
          "output_type": "execute_result"
        }
      ],
      "source": [
        "len(valid_data_loader)"
      ]
    },
    {
      "attachments": {
        "Encoder and Decoder.png": {
          "image/png": "[encoded data removed]"
        }
      },
      "cell_type": "markdown",
      "metadata": {},
      "source": [
        "### **Model Sequence to Sequence Models**\n",
        "\n",
        "![Encoder and Decoder.png](<attachment:Encoder and Decoder.png>)"
      ]
    },
    {
      "cell_type": "markdown",
      "metadata": {},
      "source": [
        "![image.png](data:image/png;base64,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)"
      ]
    },
    {
      "cell_type": "markdown",
      "metadata": {},
      "source": [
        "### **`Building Encoder`**"
      ]
    },
    {
      "cell_type": "code",
      "execution_count": null,
      "metadata": {},
      "outputs": [],
      "source": [
        "class Encoder(nn.Module):\n",
        "    def __init__(self, input_dim, embedding_dim, hidden_dim, n_layers, dropout):\n",
        "        super().__init__()\n",
        "\n",
        "        self.hidden_dim = hidden_dim\n",
        "        self.n_layers = n_layers\n",
        "\n",
        "        self.embedding = nn.Embedding(input_dim, embedding_dim)\n",
        "\n",
        "        self.lstm = nn.LSTM(embedding_dim, hidden_dim, n_layers, dropout=dropout)\n",
        "\n",
        "        self.dropout = nn.Dropout(dropout)\n",
        "\n",
        "    def forward(self, src):\n",
        "\n",
        "        # src = [src length, batch size]\n",
        "\n",
        "        embedded = self.dropout(self.embedding(src))\n",
        "        # embedded = [src length, batch size, embedding dim]\n",
        "\n",
        "        outputs, (hidden, cell) = self.lstm(embedded)\n",
        "\n",
        "        # outputs = [src length, batch size, hidden dim * n directions]\n",
        "        # hidden = [n layers * n directions, batch size, hidden dim]\n",
        "        # cell = [n layers * n directions, batch size, hidden dim]\n",
        "        # outputs are always from the top hidden layer\n",
        "\n",
        "        return hidden, cell"
      ]
    },
    {
      "cell_type": "markdown",
      "metadata": {},
      "source": [
        "### **`Building Decoder`**"
      ]
    },
    {
      "cell_type": "code",
      "execution_count": null,
      "metadata": {},
      "outputs": [],
      "source": [
        "# Decoder does not take whole input at once. \n",
        "# It takes one input at once. so that we have to add one dimension.\n",
        "# we pass the <sos> at first. \n",
        "class Decoder(nn.Module):\n",
        "    def __init__(self, output_dim, embedding_dim, hidden_dim, n_layers, dropout):\n",
        "        super().__init__()\n",
        "        self.output_dim = output_dim\n",
        "        self.hidden_dim = hidden_dim\n",
        "        self.n_layers = n_layers\n",
        "        self.embedding = nn.Embedding(output_dim, embedding_dim)\n",
        "        self.lstm = nn.LSTM(embedding_dim, hidden_dim, n_layers, dropout=dropout)\n",
        "        self.fc_out = nn.Linear(hidden_dim, output_dim)\n",
        "        self.dropout = nn.Dropout(dropout)\n",
        "\n",
        "    def forward(self, input, hidden, cell):\n",
        "        # input = [batch size]\n",
        "        # hidden = [n layers * n directions, batch size, hidden dim]\n",
        "        # cell = [n layers * n directions, batch size, hidden dim]\n",
        "        # n directions in the decoder will both always be 1, therefore:\n",
        "        # hidden = [n layers, batch size, hidden dim]\n",
        "        # context = [n layers, batch size, hidden dim]\n",
        "        input = input.unsqueeze(0)\n",
        "        # input = [1, batch size]\n",
        "        embedded = self.dropout(self.embedding(input))\n",
        "        # embedded = [1, batch size, embedding dim]\n",
        "        output, (hidden, cell) = self.lstm(embedded, (hidden, cell))\n",
        "        # output = [seq length, batch size, hidden dim * n directions]\n",
        "        # hidden = [n layers * n directions, batch size, hidden dim]\n",
        "        # cell = [n layers * n directions, batch size, hidden dim]\n",
        "        # seq length and n directions will always be 1 in this decoder, therefore:\n",
        "        # output = [1, batch size, hidden dim]\n",
        "        # hidden = [n layers, batch size, hidden dim]\n",
        "        # cell = [n layers, batch size, hidden dim]\n",
        "        prediction = self.fc_out(output.squeeze(0))\n",
        "        # prediction = [batch size, output dim]\n",
        "        return prediction, hidden, cell\n"
      ]
    },
    {
      "cell_type": "markdown",
      "metadata": {},
      "source": [
        "### **`Sequence2Sequence Model`**"
      ]
    },
    {
      "cell_type": "code",
      "execution_count": 110,
      "metadata": {},
      "outputs": [],
      "source": [
        "class Seq2Seq(nn.Module):\n",
        "    def __init__(self, encoder, decoder, device):\n",
        "        super().__init__()\n",
        "        self.encoder = encoder\n",
        "        self.decoder = decoder\n",
        "        self.device = device\n",
        "        assert (\n",
        "            encoder.hidden_dim == decoder.hidden_dim\n",
        "        ), \"Hidden dimensions of encoder and decoder must be equal!\"\n",
        "        assert (\n",
        "            encoder.n_layers == decoder.n_layers\n",
        "        ), \"Encoder and decoder must have equal number of layers!\"\n",
        "\n",
        "    def forward(self, src, trg, teacher_forcing_ratio):\n",
        "        # src = [src length, batch size]\n",
        "        # trg = [trg length, batch size]\n",
        "        # teacher_forcing_ratio is probability to use teacher forcing\n",
        "        # e.g. if teacher_forcing_ratio is 0.75 we use ground-truth inputs 75% of the time\n",
        "        batch_size = trg.shape[1]\n",
        "        trg_length = trg.shape[0]\n",
        "        trg_vocab_size = self.decoder.output_dim\n",
        "        # tensor to store decoder outputs\n",
        "        outputs = torch.zeros(trg_length, batch_size, trg_vocab_size).to(self.device)\n",
        "        # last hidden state of the encoder is used as the initial hidden state of the decoder\n",
        "        hidden, cell = self.encoder(src)\n",
        "        # hidden = [n layers * n directions, batch size, hidden dim]\n",
        "        # cell = [n layers * n directions, batch size, hidden dim]\n",
        "        # first input to the decoder is the <sos> tokens\n",
        "        input = trg[0, :]\n",
        "        # input = [batch size]\n",
        "        for t in range(1, trg_length):\n",
        "            # insert input token embedding, previous hidden and previous cell states\n",
        "            # receive output tensor (predictions) and new hidden and cell states\n",
        "            output, hidden, cell = self.decoder(input, hidden, cell)\n",
        "            # output = [batch size, output dim]\n",
        "            # hidden = [n layers, batch size, hidden dim]\n",
        "            # cell = [n layers, batch size, hidden dim]\n",
        "            # place predictions in a tensor holding predictions for each token\n",
        "            outputs[t] = output\n",
        "            # decide if we are going to use teacher forcing or not\n",
        "            teacher_force = random.random() < teacher_forcing_ratio\n",
        "            # get the highest predicted token from our predictions\n",
        "            top1 = output.argmax(1)\n",
        "            # if teacher forcing, use actual next token as next input\n",
        "            # if not, use predicted token\n",
        "            input = trg[t] if teacher_force else top1\n",
        "            # input = [batch size]\n",
        "        return outputs"
      ]
    },
    {
      "cell_type": "markdown",
      "metadata": {},
      "source": [
        "### **`Model Initialialization`**"
      ]
    },
    {
      "cell_type": "code",
      "execution_count": 111,
      "metadata": {},
      "outputs": [],
      "source": [
        "input_dim = len(de_vocab)\n",
        "output_dim = len(en_vocab)\n",
        "encoder_embedding_dim = 256\n",
        "decoder_embedding_dim = 256\n",
        "hidden_dim = 512\n",
        "n_layers = 2\n",
        "encoder_dropout = 0.5\n",
        "decoder_dropout = 0.5\n",
        "device = torch.device(\"cuda\" if torch.cuda.is_available() else \"cpu\")\n",
        "\n",
        "encoder = Encoder(\n",
        "    input_dim,\n",
        "    encoder_embedding_dim,\n",
        "    hidden_dim,\n",
        "    n_layers,\n",
        "    encoder_dropout,\n",
        ")\n",
        "\n",
        "decoder = Decoder(\n",
        "    output_dim,\n",
        "    decoder_embedding_dim,\n",
        "    hidden_dim,\n",
        "    n_layers,\n",
        "    decoder_dropout,\n",
        ")\n",
        "\n",
        "model = Seq2Seq(encoder, decoder, device).to(device)"
      ]
    },
    {
      "cell_type": "markdown",
      "metadata": {},
      "source": [
        "### **`Weight Initialization`**"
      ]
    },
    {
      "cell_type": "code",
      "execution_count": null,
      "metadata": {},
      "outputs": [
        {
          "data": {
            "text/plain": [
              "'Uniform Distribution (-0.08 +0.08)'"
            ]
          },
          "execution_count": 112,
          "metadata": {},
          "output_type": "execute_result"
        }
      ],
      "source": [
        "'''Uniform Distribution (-0.08 +0.08)'''\n"
      ]
    },
    {
      "cell_type": "code",
      "execution_count": 113,
      "metadata": {},
      "outputs": [
        {
          "data": {
            "text/plain": [
              "Seq2Seq(\n",
              "  (encoder): Encoder(\n",
              "    (embedding): Embedding(7853, 256)\n",
              "    (lstm): LSTM(256, 512, num_layers=2, dropout=0.5)\n",
              "    (dropout): Dropout(p=0.5, inplace=False)\n",
              "  )\n",
              "  (decoder): Decoder(\n",
              "    (embedding): Embedding(5893, 256)\n",
              "    (lstm): LSTM(256, 512, num_layers=2, dropout=0.5)\n",
              "    (fc_out): Linear(in_features=512, out_features=5893, bias=True)\n",
              "    (dropout): Dropout(p=0.5, inplace=False)\n",
              "  )\n",
              ")"
            ]
          },
          "execution_count": 113,
          "metadata": {},
          "output_type": "execute_result"
        }
      ],
      "source": [
        "def init_weights(m):\n",
        "    for name, param in m.named_parameters():\n",
        "        nn.init.uniform_(param.data, -0.08, 0.08)\n",
        "\n",
        "model.apply(init_weights)"
      ]
    },
    {
      "cell_type": "code",
      "execution_count": 116,
      "metadata": {},
      "outputs": [
        {
          "data": {
            "text/plain": [
              "[Parameter containing:\n",
              " tensor([[ 0.0631, -0.0533, -0.0726,  ..., -0.0640, -0.0503,  0.0469],\n",
              "         [-0.0087,  0.0051, -0.0387,  ..., -0.0144, -0.0241, -0.0317],\n",
              "         [ 0.0781, -0.0258,  0.0631,  ...,  0.0606,  0.0558, -0.0786],\n",
              "         ...,\n",
              "         [-0.0474,  0.0574, -0.0739,  ..., -0.0197, -0.0330, -0.0701],\n",
              "         [ 0.0045,  0.0675, -0.0421,  ..., -0.0179, -0.0033,  0.0527],\n",
              "         [ 0.0496,  0.0175, -0.0482,  ..., -0.0683,  0.0259,  0.0072]],\n",
              "        requires_grad=True),\n",
              " Parameter containing:\n",
              " tensor([[ 0.0702,  0.0629, -0.0658,  ..., -0.0346,  0.0394, -0.0783],\n",
              "         [-0.0016, -0.0176,  0.0049,  ..., -0.0748,  0.0215, -0.0660],\n",
              "         [ 0.0539, -0.0531,  0.0239,  ...,  0.0179, -0.0068, -0.0790],\n",
              "         ...,\n",
              "         [ 0.0663, -0.0499, -0.0314,  ..., -0.0007,  0.0297,  0.0164],\n",
              "         [ 0.0478,  0.0796,  0.0246,  ..., -0.0761,  0.0042,  0.0754],\n",
              "         [ 0.0296,  0.0270,  0.0428,  ..., -0.0606, -0.0023, -0.0008]],\n",
              "        requires_grad=True),\n",
              " Parameter containing:\n",
              " tensor([[-6.9576e-02,  3.4933e-02,  2.0284e-02,  ..., -6.7194e-02,\n",
              "          -1.7244e-02, -6.7860e-02],\n",
              "         [-3.7818e-02, -1.6619e-02, -3.0666e-04,  ...,  5.0893e-02,\n",
              "           7.2189e-03,  2.2232e-02],\n",
              "         [-7.4065e-02,  1.9490e-02, -5.3537e-02,  ...,  4.6430e-02,\n",
              "          -1.7328e-05,  3.8233e-02],\n",
              "         ...,\n",
              "         [ 6.0296e-02,  1.3135e-02, -2.8761e-02,  ..., -7.1438e-03,\n",
              "          -4.7945e-02, -3.2503e-02],\n",
              "         [-7.0082e-02,  5.0021e-02, -2.7490e-02,  ...,  7.4715e-02,\n",
              "          -5.2320e-02,  5.5830e-02],\n",
              "         [-6.8362e-02, -1.7473e-02, -2.4269e-02,  ...,  2.7853e-02,\n",
              "          -7.7127e-02, -6.4564e-02]], requires_grad=True),\n",
              " Parameter containing:\n",
              " tensor([-0.0532, -0.0064, -0.0364,  ..., -0.0031,  0.0361,  0.0656],\n",
              "        requires_grad=True),\n",
              " Parameter containing:\n",
              " tensor([-0.0461,  0.0455,  0.0778,  ...,  0.0060, -0.0499, -0.0242],\n",
              "        requires_grad=True),\n",
              " Parameter containing:\n",
              " tensor([[ 0.0026,  0.0066,  0.0391,  ..., -0.0334,  0.0330, -0.0189],\n",
              "         [ 0.0655,  0.0369,  0.0607,  ..., -0.0279,  0.0619, -0.0008],\n",
              "         [ 0.0379,  0.0624,  0.0575,  ..., -0.0354,  0.0458,  0.0438],\n",
              "         ...,\n",
              "         [-0.0535,  0.0620,  0.0527,  ..., -0.0037, -0.0300, -0.0043],\n",
              "         [-0.0769, -0.0121,  0.0517,  ..., -0.0140, -0.0052, -0.0535],\n",
              "         [ 0.0490, -0.0412, -0.0441,  ..., -0.0629,  0.0328,  0.0544]],\n",
              "        requires_grad=True),\n",
              " Parameter containing:\n",
              " tensor([[-0.0705, -0.0758,  0.0502,  ..., -0.0695, -0.0327,  0.0544],\n",
              "         [-0.0068, -0.0254, -0.0460,  ..., -0.0775, -0.0466,  0.0431],\n",
              "         [ 0.0012, -0.0698,  0.0532,  ...,  0.0437,  0.0210,  0.0525],\n",
              "         ...,\n",
              "         [-0.0467,  0.0018,  0.0673,  ...,  0.0274, -0.0144,  0.0635],\n",
              "         [ 0.0565,  0.0654, -0.0430,  ..., -0.0284,  0.0077,  0.0357],\n",
              "         [-0.0332,  0.0752, -0.0167,  ..., -0.0050, -0.0162, -0.0478]],\n",
              "        requires_grad=True),\n",
              " Parameter containing:\n",
              " tensor([-0.0249, -0.0549, -0.0566,  ...,  0.0349, -0.0410,  0.0422],\n",
              "        requires_grad=True),\n",
              " Parameter containing:\n",
              " tensor([-0.0572,  0.0193, -0.0716,  ..., -0.0228,  0.0038,  0.0360],\n",
              "        requires_grad=True),\n",
              " Parameter containing:\n",
              " tensor([[-0.0329, -0.0570, -0.0447,  ..., -0.0596,  0.0798, -0.0351],\n",
              "         [ 0.0626,  0.0027, -0.0270,  ...,  0.0735,  0.0476,  0.0598],\n",
              "         [ 0.0389,  0.0428,  0.0366,  ...,  0.0668,  0.0796,  0.0262],\n",
              "         ...,\n",
              "         [ 0.0111, -0.0408, -0.0604,  ..., -0.0131, -0.0585, -0.0468],\n",
              "         [-0.0195,  0.0115, -0.0355,  ...,  0.0313, -0.0106, -0.0279],\n",
              "         [ 0.0674, -0.0271,  0.0211,  ..., -0.0428, -0.0257, -0.0265]],\n",
              "        requires_grad=True),\n",
              " Parameter containing:\n",
              " tensor([[ 0.0467, -0.0263, -0.0712,  ..., -0.0488, -0.0463,  0.0581],\n",
              "         [-0.0084,  0.0042, -0.0372,  ..., -0.0732,  0.0482, -0.0530],\n",
              "         [-0.0134, -0.0191, -0.0261,  ...,  0.0241,  0.0417, -0.0310],\n",
              "         ...,\n",
              "         [ 0.0413, -0.0667,  0.0515,  ...,  0.0186, -0.0359, -0.0072],\n",
              "         [ 0.0268,  0.0669,  0.0677,  ...,  0.0045,  0.0799, -0.0323],\n",
              "         [ 0.0298, -0.0524, -0.0748,  ...,  0.0362, -0.0112, -0.0060]],\n",
              "        requires_grad=True),\n",
              " Parameter containing:\n",
              " tensor([[-0.0140, -0.0322, -0.0504,  ..., -0.0476,  0.0521,  0.0321],\n",
              "         [ 0.0331, -0.0142,  0.0539,  ...,  0.0662, -0.0394, -0.0297],\n",
              "         [ 0.0617, -0.0190, -0.0787,  ..., -0.0209,  0.0534,  0.0289],\n",
              "         ...,\n",
              "         [-0.0132,  0.0614,  0.0380,  ...,  0.0024, -0.0593, -0.0392],\n",
              "         [ 0.0082,  0.0697, -0.0489,  ...,  0.0754,  0.0738,  0.0304],\n",
              "         [ 0.0026,  0.0375, -0.0319,  ...,  0.0073,  0.0480, -0.0023]],\n",
              "        requires_grad=True),\n",
              " Parameter containing:\n",
              " tensor([-0.0068, -0.0721, -0.0499,  ...,  0.0539, -0.0051,  0.0468],\n",
              "        requires_grad=True),\n",
              " Parameter containing:\n",
              " tensor([ 0.0439,  0.0749,  0.0135,  ...,  0.0408,  0.0104, -0.0344],\n",
              "        requires_grad=True),\n",
              " Parameter containing:\n",
              " tensor([[ 0.0306,  0.0360,  0.0229,  ...,  0.0499, -0.0212,  0.0296],\n",
              "         [-0.0008, -0.0243, -0.0070,  ..., -0.0424, -0.0352,  0.0757],\n",
              "         [-0.0300, -0.0243, -0.0274,  ...,  0.0495, -0.0411, -0.0061],\n",
              "         ...,\n",
              "         [ 0.0467,  0.0147,  0.0314,  ..., -0.0664,  0.0627,  0.0696],\n",
              "         [-0.0294, -0.0629, -0.0704,  ...,  0.0244,  0.0121, -0.0269],\n",
              "         [-0.0337,  0.0084,  0.0098,  ...,  0.0464, -0.0279, -0.0602]],\n",
              "        requires_grad=True),\n",
              " Parameter containing:\n",
              " tensor([[-0.0505,  0.0507, -0.0633,  ..., -0.0358,  0.0700,  0.0384],\n",
              "         [ 0.0163, -0.0193, -0.0717,  ...,  0.0408,  0.0543, -0.0541],\n",
              "         [ 0.0642, -0.0121, -0.0430,  ..., -0.0494, -0.0780, -0.0437],\n",
              "         ...,\n",
              "         [-0.0098,  0.0739, -0.0059,  ..., -0.0416, -0.0460,  0.0737],\n",
              "         [-0.0331, -0.0238,  0.0332,  ...,  0.0028,  0.0781, -0.0503],\n",
              "         [ 0.0053,  0.0246, -0.0081,  ...,  0.0523,  0.0364,  0.0054]],\n",
              "        requires_grad=True),\n",
              " Parameter containing:\n",
              " tensor([-0.0175,  0.0460, -0.0019,  ..., -0.0374, -0.0460, -0.0427],\n",
              "        requires_grad=True),\n",
              " Parameter containing:\n",
              " tensor([ 0.0508, -0.0014, -0.0150,  ..., -0.0723, -0.0421,  0.0649],\n",
              "        requires_grad=True),\n",
              " Parameter containing:\n",
              " tensor([[-0.0191, -0.0573, -0.0411,  ...,  0.0751, -0.0471, -0.0674],\n",
              "         [ 0.0147,  0.0611, -0.0252,  ...,  0.0373,  0.0707,  0.0202],\n",
              "         [-0.0646, -0.0221,  0.0130,  ...,  0.0296,  0.0063,  0.0183],\n",
              "         ...,\n",
              "         [ 0.0125,  0.0235, -0.0436,  ..., -0.0773, -0.0364,  0.0660],\n",
              "         [ 0.0329,  0.0468,  0.0324,  ..., -0.0561, -0.0377, -0.0746],\n",
              "         [-0.0651,  0.0731, -0.0741,  ..., -0.0590, -0.0521,  0.0046]],\n",
              "        requires_grad=True),\n",
              " Parameter containing:\n",
              " tensor([ 0.0242,  0.0109, -0.0346,  ..., -0.0732,  0.0235,  0.0342],\n",
              "        requires_grad=True)]"
            ]
          },
          "execution_count": 116,
          "metadata": {},
          "output_type": "execute_result"
        }
      ],
      "source": [
        "list(model.parameters())"
      ]
    },
    {
      "cell_type": "code",
      "execution_count": 117,
      "metadata": {},
      "outputs": [
        {
          "name": "stdout",
          "output_type": "stream",
          "text": [
            "The model has  13,898,501 trainable parameters\n"
          ]
        }
      ],
      "source": [
        "def count_parameters(model):\n",
        "    return sum(p.numel() for p in model.parameters() if p.requires_grad)\n",
        "\n",
        "print(f\"The model has {count_parameters(model): ,} trainable parameters\")"
      ]
    },
    {
      "cell_type": "markdown",
      "metadata": {},
      "source": [
        "### **`Loss function & Optimizer`**"
      ]
    },
    {
      "cell_type": "code",
      "execution_count": 118,
      "metadata": {},
      "outputs": [],
      "source": [
        "optimizer = optim.Adam(model.parameters())\n",
        "criterion =nn.CrossEntropyLoss(ignore_index=pad_index)"
      ]
    },
    {
      "cell_type": "code",
      "execution_count": 119,
      "metadata": {},
      "outputs": [
        {
          "data": {
            "text/plain": [
              "Adam (\n",
              "Parameter Group 0\n",
              "    amsgrad: False\n",
              "    betas: (0.9, 0.999)\n",
              "    capturable: False\n",
              "    differentiable: False\n",
              "    eps: 1e-08\n",
              "    foreach: None\n",
              "    fused: None\n",
              "    lr: 0.001\n",
              "    maximize: False\n",
              "    weight_decay: 0\n",
              ")"
            ]
          },
          "execution_count": 119,
          "metadata": {},
          "output_type": "execute_result"
        }
      ],
      "source": [
        "optimizer"
      ]
    },
    {
      "cell_type": "code",
      "execution_count": 120,
      "metadata": {},
      "outputs": [
        {
          "data": {
            "text/plain": [
              "CrossEntropyLoss()"
            ]
          },
          "execution_count": 120,
          "metadata": {},
          "output_type": "execute_result"
        }
      ],
      "source": [
        "criterion"
      ]
    },
    {
      "cell_type": "markdown",
      "metadata": {},
      "source": [
        "### **`Training and Evaluating Functions`**"
      ]
    },
    {
      "cell_type": "code",
      "execution_count": 144,
      "metadata": {},
      "outputs": [
        {
          "data": {
            "text/plain": [
              "Dataset({\n",
              "    features: ['en', 'de', 'en_tokens', 'de_tokens', 'en_ids', 'de_ids'],\n",
              "    num_rows: 29000\n",
              "})"
            ]
          },
          "execution_count": 144,
          "metadata": {},
          "output_type": "execute_result"
        }
      ],
      "source": [
        "train_data"
      ]
    },
    {
      "cell_type": "code",
      "execution_count": 143,
      "metadata": {},
      "outputs": [
        {
          "data": {
            "text/plain": [
              "227"
            ]
          },
          "execution_count": 143,
          "metadata": {},
          "output_type": "execute_result"
        }
      ],
      "source": [
        "len(train_data_loader)"
      ]
    },
    {
      "cell_type": "code",
      "execution_count": null,
      "metadata": {},
      "outputs": [
        {
          "name": "stdout",
          "output_type": "stream",
          "text": [
            "Index:  0\n",
            "Batch:  tensor([[   2,    2,    2,  ...,    2,    2,    2],\n",
            "        [   4,   34,    4,  ...,   21,    4,    4],\n",
            "        [ 221,   11,    9,  ...,  106,    9, 1861],\n",
            "        ...,\n",
            "        [   1,    1,    1,  ...,    1,    1,    1],\n",
            "        [   1,    1,    1,  ...,    1,    1,    1],\n",
            "        [   1,    1,    1,  ...,    1,    1,    1]])\n"
          ]
        }
      ],
      "source": [
        "for i, batch in enumerate(train_data_loader):\n",
        "    print(\"Index: \", i)\n",
        "    print(\"Batch: \", batch[\"en_ids\"])\n",
        "    # [src_length, batch]\n",
        "    break"
      ]
    },
    {
      "cell_type": "code",
      "execution_count": null,
      "metadata": {},
      "outputs": [],
      "source": [
        "clip = 1.0\n",
        "teacher_forcing_ratio = 0.5\n",
        "\n",
        "def training_fn(model, data_loader, optimizer, criterion, clip, teacher_forcing_ratio, device):\n",
        "    model.train()\n",
        "    epoch_loss = 0\n",
        "    for i, batch in enumerate(train_data_loader):\n",
        "        src = batch[\"de_ids\"].to(device)\n",
        "        trg = batch[\"en_ids\"].to(device)\n",
        "        \n",
        "        optimizer.zero_grad() \n",
        "\n",
        "        # model = Seq2Seq(encoder, decoder, device).to(device)\n",
        "        output = model(src, trg, teacher_forcing_ratio)\n",
        "\n",
        "def evaluating_fn():\n",
        "    pass"
      ]
    },
    {
      "cell_type": "code",
      "execution_count": null,
      "metadata": {},
      "outputs": [],
      "source": []
    },
    {
      "cell_type": "code",
      "execution_count": null,
      "metadata": {},
      "outputs": [],
      "source": []
    },
    {
      "cell_type": "code",
      "execution_count": null,
      "metadata": {},
      "outputs": [],
      "source": []
    },
    {
      "cell_type": "code",
      "execution_count": null,
      "metadata": {},
      "outputs": [],
      "source": []
    },
    {
      "cell_type": "code",
      "execution_count": null,
      "metadata": {},
      "outputs": [],
      "source": []
    },
    {
      "cell_type": "code",
      "execution_count": null,
      "metadata": {},
      "outputs": [],
      "source": []
    },
    {
      "cell_type": "code",
      "execution_count": null,
      "metadata": {},
      "outputs": [],
      "source": []
    },
    {
      "cell_type": "code",
      "execution_count": null,
      "metadata": {},
      "outputs": [],
      "source": []
    },
    {
      "cell_type": "code",
      "execution_count": null,
      "metadata": {},
      "outputs": [],
      "source": []
    },
    {
      "cell_type": "code",
      "execution_count": null,
      "metadata": {},
      "outputs": [],
      "source": []
    },
    {
      "cell_type": "code",
      "execution_count": null,
      "metadata": {},
      "outputs": [],
      "source": []
    },
    {
      "cell_type": "code",
      "execution_count": null,
      "metadata": {},
      "outputs": [],
      "source": []
    },
    {
      "cell_type": "code",
      "execution_count": null,
      "metadata": {},
      "outputs": [],
      "source": []
    },
    {
      "cell_type": "markdown",
      "metadata": {
        "id": "azFPh3kW7zqC"
      },
      "source": [
        "**Encoder**"
      ]
    },
    {
      "cell_type": "markdown",
      "metadata": {
        "id": "zmK0vtff733n"
      },
      "source": [
        "![image.png](data:image/png;base64,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)"
      ]
    },
    {
      "cell_type": "code",
      "execution_count": null,
      "metadata": {
        "id": "FBPzDpWW753p"
      },
      "outputs": [],
      "source": [
        "class Encoder(nn.Module):\n",
        "    def __init__(self, input_dim, embedding_dim, hidden_dim, n_layers, dropout):\n",
        "        super().__init__()\n",
        "        self.hidden_dim = hidden_dim\n",
        "        self.n_layers = n_layers\n",
        "        self.embedding = nn.Embedding(input_dim, embedding_dim)\n",
        "        self.lstm = nn.LSTM(embedding_dim, hidden_dim, n_layers, dropout=dropout)\n",
        "        self.dropout = nn.Dropout(dropout)\n",
        "\n",
        "    def forward(self, src):\n",
        "        # src = [src length, batch size]\n",
        "        embedded = self.dropout(self.embedding(src))\n",
        "        # embedded = [src length, batch size, embedding dim]\n",
        "        outputs, (hidden, cell) = self.lstm(embedded)\n",
        "        # outputs = [src length, batch size, hidden dim * n directions]\n",
        "        # hidden = [n layers * n directions, batch size, hidden dim]\n",
        "        # cell = [n layers * n directions, batch size, hidden dim]\n",
        "        # outputs are always from the top hidden layer\n",
        "        return hidden, cell\n"
      ]
    },
    {
      "cell_type": "markdown",
      "metadata": {
        "id": "GOwJ9SLy9djI"
      },
      "source": [
        "**Decoder**"
      ]
    },
    {
      "cell_type": "markdown",
      "metadata": {
        "id": "tBB1KI0h9fJe"
      },
      "source": [
        "![image.png](data:image/png;base64,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)"
      ]
    },
    {
      "cell_type": "code",
      "execution_count": null,
      "metadata": {
        "id": "vG48leykMEQw"
      },
      "outputs": [],
      "source": [
        "class Decoder(nn.Module):\n",
        "    def __init__(self, output_dim, embedding_dim, hidden_dim, n_layers, dropout):\n",
        "        super().__init__()\n",
        "        self.output_dim = output_dim\n",
        "        self.hidden_dim = hidden_dim\n",
        "        self.n_layers = n_layers\n",
        "        self.embedding = nn.Embedding(output_dim, embedding_dim)\n",
        "        self.lstm = nn.LSTM(embedding_dim, hidden_dim, n_layers, dropout=dropout)\n",
        "        self.fc_out = nn.Linear(hidden_dim, output_dim)\n",
        "        self.dropout = nn.Dropout(dropout)\n",
        "\n",
        "    def forward(self, input, hidden, cell):\n",
        "        # input = [batch size]\n",
        "        # hidden = [n layers * n directions, batch size, hidden dim]\n",
        "        # cell = [n layers * n directions, batch size, hidden dim]\n",
        "        # n directions in the decoder will both always be 1, therefore:\n",
        "        # hidden = [n layers, batch size, hidden dim]\n",
        "        # context = [n layers, batch size, hidden dim]\n",
        "        input = input.unsqueeze(0)\n",
        "        # input = [1, batch size]\n",
        "        embedded = self.dropout(self.embedding(input))\n",
        "        # embedded = [1, batch size, embedding dim]\n",
        "        output, (hidden, cell) = self.lstm(embedded, (hidden, cell))\n",
        "        # output = [seq length, batch size, hidden dim * n directions]\n",
        "        # hidden = [n layers * n directions, batch size, hidden dim]\n",
        "        # cell = [n layers * n directions, batch size, hidden dim]\n",
        "        # seq length and n directions will always be 1 in this decoder, therefore:\n",
        "        # output = [1, batch size, hidden dim]\n",
        "        # hidden = [n layers, batch size, hidden dim]\n",
        "        # cell = [n layers, batch size, hidden dim]\n",
        "        prediction = self.fc_out(output.squeeze(0))\n",
        "        # prediction = [batch size, output dim]\n",
        "        return prediction, hidden, cell\n"
      ]
    },
    {
      "cell_type": "markdown",
      "metadata": {
        "id": "qph-s1t-Ngyo"
      },
      "source": [
        "**Seq2Seq**"
      ]
    },
    {
      "cell_type": "markdown",
      "metadata": {
        "id": "uAA3S-5tNiux"
      },
      "source": [
        "![image.png](data:image/png;base64,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)"
      ]
    },
    {
      "cell_type": "code",
      "execution_count": null,
      "metadata": {
        "id": "fKqhcNsXNk-f"
      },
      "outputs": [],
      "source": [
        "class Seq2Seq(nn.Module):\n",
        "    def __init__(self, encoder, decoder, device):\n",
        "        super().__init__()\n",
        "        self.encoder = encoder\n",
        "        self.decoder = decoder\n",
        "        self.device = device\n",
        "        assert (\n",
        "            encoder.hidden_dim == decoder.hidden_dim\n",
        "        ), \"Hidden dimensions of encoder and decoder must be equal!\"\n",
        "        assert (\n",
        "            encoder.n_layers == decoder.n_layers\n",
        "        ), \"Encoder and decoder must have equal number of layers!\"\n",
        "\n",
        "    def forward(self, src, trg, teacher_forcing_ratio):\n",
        "        # src = [src length, batch size]\n",
        "        # trg = [trg length, batch size]\n",
        "        # teacher_forcing_ratio is probability to use teacher forcing\n",
        "        # e.g. if teacher_forcing_ratio is 0.75 we use ground-truth inputs 75% of the time\n",
        "        batch_size = trg.shape[1]\n",
        "        trg_length = trg.shape[0]\n",
        "        trg_vocab_size = self.decoder.output_dim\n",
        "        # tensor to store decoder outputs\n",
        "        outputs = torch.zeros(trg_length, batch_size, trg_vocab_size).to(self.device)\n",
        "        # last hidden state of the encoder is used as the initial hidden state of the decoder\n",
        "        hidden, cell = self.encoder(src)\n",
        "        # hidden = [n layers * n directions, batch size, hidden dim]\n",
        "        # cell = [n layers * n directions, batch size, hidden dim]\n",
        "        # first input to the decoder is the <sos> tokens\n",
        "        input = trg[0, :]\n",
        "        # input = [batch size]\n",
        "        for t in range(1, trg_length):\n",
        "            # insert input token embedding, previous hidden and previous cell states\n",
        "            # receive output tensor (predictions) and new hidden and cell states\n",
        "            output, hidden, cell = self.decoder(input, hidden, cell)\n",
        "            # output = [batch size, output dim]\n",
        "            # hidden = [n layers, batch size, hidden dim]\n",
        "            # cell = [n layers, batch size, hidden dim]\n",
        "            # place predictions in a tensor holding predictions for each token\n",
        "            outputs[t] = output\n",
        "            # decide if we are going to use teacher forcing or not\n",
        "            teacher_force = random.random() < teacher_forcing_ratio\n",
        "            # get the highest predicted token from our predictions\n",
        "            top1 = output.argmax(1)\n",
        "            # if teacher forcing, use actual next token as next input\n",
        "            # if not, use predicted token\n",
        "            input = trg[t] if teacher_force else top1\n",
        "            # input = [batch size]\n",
        "        return outputs"
      ]
    },
    {
      "cell_type": "markdown",
      "metadata": {
        "id": "1_EJRj72QGrn"
      },
      "source": [
        "**Training the Model**\n"
      ]
    },
    {
      "cell_type": "markdown",
      "metadata": {
        "id": "MDtRsVjTQJFP"
      },
      "source": [
        "***Model Initialization***\n"
      ]
    },
    {
      "cell_type": "code",
      "execution_count": null,
      "metadata": {
        "id": "7JDkHNQTzlWR"
      },
      "outputs": [],
      "source": [
        "input_dim = len(de_vocab)\n",
        "output_dim = len(en_vocab)\n",
        "encoder_embedding_dim = 256\n",
        "decoder_embedding_dim = 256\n",
        "hidden_dim = 512\n",
        "n_layers = 2\n",
        "encoder_dropout = 0.5\n",
        "decoder_dropout = 0.5\n",
        "device = torch.device(\"cuda\" if torch.cuda.is_available() else \"cpu\")\n",
        "\n",
        "encoder = Encoder(\n",
        "    input_dim,\n",
        "    encoder_embedding_dim,\n",
        "    hidden_dim,\n",
        "    n_layers,\n",
        "    encoder_dropout,\n",
        ")\n",
        "\n",
        "decoder = Decoder(\n",
        "    output_dim,\n",
        "    decoder_embedding_dim,\n",
        "    hidden_dim,\n",
        "    n_layers,\n",
        "    decoder_dropout,\n",
        ")\n",
        "\n",
        "model = Seq2Seq(encoder, decoder, device).to(device)"
      ]
    },
    {
      "cell_type": "markdown",
      "metadata": {
        "id": "RLWXTA2dQOd0"
      },
      "source": [
        "**Weight Initialization**\n"
      ]
    },
    {
      "cell_type": "code",
      "execution_count": null,
      "metadata": {
        "colab": {
          "base_uri": "https://localhost:8080/"
        },
        "id": "2zs6LZxMQEms",
        "outputId": "19cf1e95-9de0-4818-a3c9-6d6bf7db72ff"
      },
      "outputs": [
        {
          "data": {
            "text/plain": [
              "Seq2Seq(\n",
              "  (encoder): Encoder(\n",
              "    (embedding): Embedding(7853, 256)\n",
              "    (lstm): LSTM(256, 512, num_layers=2, dropout=0.5)\n",
              "    (dropout): Dropout(p=0.5, inplace=False)\n",
              "  )\n",
              "  (decoder): Decoder(\n",
              "    (embedding): Embedding(5893, 256)\n",
              "    (lstm): LSTM(256, 512, num_layers=2, dropout=0.5)\n",
              "    (fc_out): Linear(in_features=512, out_features=5893, bias=True)\n",
              "    (dropout): Dropout(p=0.5, inplace=False)\n",
              "  )\n",
              ")"
            ]
          },
          "execution_count": 55,
          "metadata": {},
          "output_type": "execute_result"
        }
      ],
      "source": [
        "def init_weights(m):\n",
        "    for name, param in m.named_parameters():\n",
        "        nn.init.uniform_(param.data, -0.08, 0.08)\n",
        "\n",
        "\n",
        "model.apply(init_weights)"
      ]
    },
    {
      "cell_type": "code",
      "execution_count": null,
      "metadata": {
        "colab": {
          "base_uri": "https://localhost:8080/"
        },
        "id": "TQYBJuiSQRRc",
        "outputId": "a39b4835-3686-4fd0-d1be-bed7f7694609"
      },
      "outputs": [
        {
          "name": "stdout",
          "output_type": "stream",
          "text": [
            "The model has 13,898,501 trainable parameters\n"
          ]
        }
      ],
      "source": [
        "def count_parameters(model):\n",
        "    return sum(p.numel() for p in model.parameters() if p.requires_grad)\n",
        "\n",
        "\n",
        "print(f\"The model has {count_parameters(model):,} trainable parameters\")"
      ]
    },
    {
      "cell_type": "markdown",
      "metadata": {
        "id": "1CCn9FxLQfVM"
      },
      "source": [
        "**Optimizer**\n"
      ]
    },
    {
      "cell_type": "code",
      "execution_count": null,
      "metadata": {
        "id": "5gLEY658Qd37"
      },
      "outputs": [],
      "source": [
        "optimizer = optim.Adam(model.parameters())\n"
      ]
    },
    {
      "cell_type": "markdown",
      "metadata": {
        "id": "loB41_yhQj5k"
      },
      "source": [
        "**Loss Function**"
      ]
    },
    {
      "cell_type": "code",
      "execution_count": null,
      "metadata": {
        "id": "E1ZLTKDSQiS7"
      },
      "outputs": [],
      "source": [
        "criterion = nn.CrossEntropyLoss(ignore_index=pad_index)\n"
      ]
    },
    {
      "cell_type": "markdown",
      "metadata": {
        "id": "ileqGvyrQpKl"
      },
      "source": [
        "**Training Loop**\n"
      ]
    },
    {
      "cell_type": "code",
      "execution_count": null,
      "metadata": {
        "id": "inzxhJedQnf7"
      },
      "outputs": [],
      "source": [
        "def train_fn(\n",
        "    model, data_loader, optimizer, criterion, clip, teacher_forcing_ratio, device\n",
        "):\n",
        "    model.train()\n",
        "    epoch_loss = 0\n",
        "    for i, batch in enumerate(data_loader):\n",
        "        src = batch[\"de_ids\"].to(device)\n",
        "        trg = batch[\"en_ids\"].to(device)\n",
        "        # src = [src length, batch size]\n",
        "        # trg = [trg length, batch size]\n",
        "        optimizer.zero_grad()\n",
        "        output = model(src, trg, teacher_forcing_ratio)\n",
        "        # output = [trg length, batch size, trg vocab size]\n",
        "        output_dim = output.shape[-1]\n",
        "        output = output[1:].view(-1, output_dim)\n",
        "        # output = [(trg length - 1) * batch size, trg vocab size]\n",
        "        trg = trg[1:].view(-1)\n",
        "        # trg = [(trg length - 1) * batch size]\n",
        "        loss = criterion(output, trg)\n",
        "        loss.backward()\n",
        "        torch.nn.utils.clip_grad_norm_(model.parameters(), clip)\n",
        "        optimizer.step()\n",
        "        epoch_loss += loss.item()\n",
        "    return epoch_loss / len(data_loader)"
      ]
    },
    {
      "cell_type": "code",
      "execution_count": null,
      "metadata": {
        "id": "UBPWAYRRRx4a"
      },
      "outputs": [],
      "source": [
        "def evaluate_fn(model, data_loader, criterion, device):\n",
        "    model.eval()\n",
        "    epoch_loss = 0\n",
        "    with torch.no_grad():\n",
        "        for i, batch in enumerate(data_loader):\n",
        "            src = batch[\"de_ids\"].to(device)\n",
        "            trg = batch[\"en_ids\"].to(device)\n",
        "            # src = [src length, batch size]\n",
        "            # trg = [trg length, batch size]\n",
        "            output = model(src, trg, 0)  # turn off teacher forcing\n",
        "            # output = [trg length, batch size, trg vocab size]\n",
        "            output_dim = output.shape[-1]\n",
        "            output = output[1:].view(-1, output_dim)\n",
        "            # output = [(trg length - 1) * batch size, trg vocab size]\n",
        "            trg = trg[1:].view(-1)\n",
        "            # trg = [(trg length - 1) * batch size]\n",
        "            loss = criterion(output, trg)\n",
        "            epoch_loss += loss.item()\n",
        "    return epoch_loss / len(data_loader)"
      ]
    },
    {
      "cell_type": "markdown",
      "metadata": {
        "id": "IEoZWP8QR5N2"
      },
      "source": [
        "**Model Training**\n"
      ]
    },
    {
      "cell_type": "code",
      "execution_count": null,
      "metadata": {
        "colab": {
          "base_uri": "https://localhost:8080/"
        },
        "id": "q3zhYT7KR3fa",
        "outputId": "d5df19a0-209d-4214-a540-7a0830b7f547"
      },
      "outputs": [
        {
          "name": "stderr",
          "output_type": "stream",
          "text": [
            "  0%|          | 0/10 [02:00<?, ?it/s]\n"
          ]
        },
        {
          "ename": "KeyboardInterrupt",
          "evalue": "",
          "output_type": "error",
          "traceback": [
            "\u001b[0;31m---------------------------------------------------------------------------\u001b[0m",
            "\u001b[0;31mKeyboardInterrupt\u001b[0m                         Traceback (most recent call last)",
            "Cell \u001b[0;32mIn[61], line 8\u001b[0m\n\u001b[1;32m      5\u001b[0m best_valid_loss \u001b[38;5;241m=\u001b[39m \u001b[38;5;28mfloat\u001b[39m(\u001b[38;5;124m\"\u001b[39m\u001b[38;5;124minf\u001b[39m\u001b[38;5;124m\"\u001b[39m)\n\u001b[1;32m      7\u001b[0m \u001b[38;5;28;01mfor\u001b[39;00m epoch \u001b[38;5;129;01min\u001b[39;00m tqdm\u001b[38;5;241m.\u001b[39mtqdm(\u001b[38;5;28mrange\u001b[39m(n_epochs)):\n\u001b[0;32m----> 8\u001b[0m     train_loss \u001b[38;5;241m=\u001b[39m \u001b[43mtrain_fn\u001b[49m\u001b[43m(\u001b[49m\n\u001b[1;32m      9\u001b[0m \u001b[43m        \u001b[49m\u001b[43mmodel\u001b[49m\u001b[43m,\u001b[49m\n\u001b[1;32m     10\u001b[0m \u001b[43m        \u001b[49m\u001b[43mtrain_data_loader\u001b[49m\u001b[43m,\u001b[49m\n\u001b[1;32m     11\u001b[0m \u001b[43m        \u001b[49m\u001b[43moptimizer\u001b[49m\u001b[43m,\u001b[49m\n\u001b[1;32m     12\u001b[0m \u001b[43m        \u001b[49m\u001b[43mcriterion\u001b[49m\u001b[43m,\u001b[49m\n\u001b[1;32m     13\u001b[0m \u001b[43m        \u001b[49m\u001b[43mclip\u001b[49m\u001b[43m,\u001b[49m\n\u001b[1;32m     14\u001b[0m \u001b[43m        \u001b[49m\u001b[43mteacher_forcing_ratio\u001b[49m\u001b[43m,\u001b[49m\n\u001b[1;32m     15\u001b[0m \u001b[43m        \u001b[49m\u001b[43mdevice\u001b[49m\u001b[43m,\u001b[49m\n\u001b[1;32m     16\u001b[0m \u001b[43m    \u001b[49m\u001b[43m)\u001b[49m\n\u001b[1;32m     17\u001b[0m     valid_loss \u001b[38;5;241m=\u001b[39m evaluate_fn(\n\u001b[1;32m     18\u001b[0m         model,\n\u001b[1;32m     19\u001b[0m         valid_data_loader,\n\u001b[1;32m     20\u001b[0m         criterion,\n\u001b[1;32m     21\u001b[0m         device,\n\u001b[1;32m     22\u001b[0m     )\n\u001b[1;32m     23\u001b[0m     \u001b[38;5;28;01mif\u001b[39;00m valid_loss \u001b[38;5;241m<\u001b[39m best_valid_loss:\n",
            "Cell \u001b[0;32mIn[59], line 12\u001b[0m, in \u001b[0;36mtrain_fn\u001b[0;34m(model, data_loader, optimizer, criterion, clip, teacher_forcing_ratio, device)\u001b[0m\n\u001b[1;32m      9\u001b[0m \u001b[38;5;66;03m# src = [src length, batch size]\u001b[39;00m\n\u001b[1;32m     10\u001b[0m \u001b[38;5;66;03m# trg = [trg length, batch size]\u001b[39;00m\n\u001b[1;32m     11\u001b[0m optimizer\u001b[38;5;241m.\u001b[39mzero_grad()\n\u001b[0;32m---> 12\u001b[0m output \u001b[38;5;241m=\u001b[39m \u001b[43mmodel\u001b[49m\u001b[43m(\u001b[49m\u001b[43msrc\u001b[49m\u001b[43m,\u001b[49m\u001b[43m \u001b[49m\u001b[43mtrg\u001b[49m\u001b[43m,\u001b[49m\u001b[43m \u001b[49m\u001b[43mteacher_forcing_ratio\u001b[49m\u001b[43m)\u001b[49m\n\u001b[1;32m     13\u001b[0m \u001b[38;5;66;03m# output = [trg length, batch size, trg vocab size]\u001b[39;00m\n\u001b[1;32m     14\u001b[0m output_dim \u001b[38;5;241m=\u001b[39m output\u001b[38;5;241m.\u001b[39mshape[\u001b[38;5;241m-\u001b[39m\u001b[38;5;241m1\u001b[39m]\n",
            "File \u001b[0;32m~/miniforge3/envs/torchtext_env/lib/python3.10/site-packages/torch/nn/modules/module.py:1532\u001b[0m, in \u001b[0;36mModule._wrapped_call_impl\u001b[0;34m(self, *args, **kwargs)\u001b[0m\n\u001b[1;32m   1530\u001b[0m     \u001b[38;5;28;01mreturn\u001b[39;00m \u001b[38;5;28mself\u001b[39m\u001b[38;5;241m.\u001b[39m_compiled_call_impl(\u001b[38;5;241m*\u001b[39margs, \u001b[38;5;241m*\u001b[39m\u001b[38;5;241m*\u001b[39mkwargs)  \u001b[38;5;66;03m# type: ignore[misc]\u001b[39;00m\n\u001b[1;32m   1531\u001b[0m \u001b[38;5;28;01melse\u001b[39;00m:\n\u001b[0;32m-> 1532\u001b[0m     \u001b[38;5;28;01mreturn\u001b[39;00m \u001b[38;5;28;43mself\u001b[39;49m\u001b[38;5;241;43m.\u001b[39;49m\u001b[43m_call_impl\u001b[49m\u001b[43m(\u001b[49m\u001b[38;5;241;43m*\u001b[39;49m\u001b[43margs\u001b[49m\u001b[43m,\u001b[49m\u001b[43m \u001b[49m\u001b[38;5;241;43m*\u001b[39;49m\u001b[38;5;241;43m*\u001b[39;49m\u001b[43mkwargs\u001b[49m\u001b[43m)\u001b[49m\n",
            "File \u001b[0;32m~/miniforge3/envs/torchtext_env/lib/python3.10/site-packages/torch/nn/modules/module.py:1541\u001b[0m, in \u001b[0;36mModule._call_impl\u001b[0;34m(self, *args, **kwargs)\u001b[0m\n\u001b[1;32m   1536\u001b[0m \u001b[38;5;66;03m# If we don't have any hooks, we want to skip the rest of the logic in\u001b[39;00m\n\u001b[1;32m   1537\u001b[0m \u001b[38;5;66;03m# this function, and just call forward.\u001b[39;00m\n\u001b[1;32m   1538\u001b[0m \u001b[38;5;28;01mif\u001b[39;00m \u001b[38;5;129;01mnot\u001b[39;00m (\u001b[38;5;28mself\u001b[39m\u001b[38;5;241m.\u001b[39m_backward_hooks \u001b[38;5;129;01mor\u001b[39;00m \u001b[38;5;28mself\u001b[39m\u001b[38;5;241m.\u001b[39m_backward_pre_hooks \u001b[38;5;129;01mor\u001b[39;00m \u001b[38;5;28mself\u001b[39m\u001b[38;5;241m.\u001b[39m_forward_hooks \u001b[38;5;129;01mor\u001b[39;00m \u001b[38;5;28mself\u001b[39m\u001b[38;5;241m.\u001b[39m_forward_pre_hooks\n\u001b[1;32m   1539\u001b[0m         \u001b[38;5;129;01mor\u001b[39;00m _global_backward_pre_hooks \u001b[38;5;129;01mor\u001b[39;00m _global_backward_hooks\n\u001b[1;32m   1540\u001b[0m         \u001b[38;5;129;01mor\u001b[39;00m _global_forward_hooks \u001b[38;5;129;01mor\u001b[39;00m _global_forward_pre_hooks):\n\u001b[0;32m-> 1541\u001b[0m     \u001b[38;5;28;01mreturn\u001b[39;00m \u001b[43mforward_call\u001b[49m\u001b[43m(\u001b[49m\u001b[38;5;241;43m*\u001b[39;49m\u001b[43margs\u001b[49m\u001b[43m,\u001b[49m\u001b[43m \u001b[49m\u001b[38;5;241;43m*\u001b[39;49m\u001b[38;5;241;43m*\u001b[39;49m\u001b[43mkwargs\u001b[49m\u001b[43m)\u001b[49m\n\u001b[1;32m   1543\u001b[0m \u001b[38;5;28;01mtry\u001b[39;00m:\n\u001b[1;32m   1544\u001b[0m     result \u001b[38;5;241m=\u001b[39m \u001b[38;5;28;01mNone\u001b[39;00m\n",
            "Cell \u001b[0;32mIn[53], line 34\u001b[0m, in \u001b[0;36mSeq2Seq.forward\u001b[0;34m(self, src, trg, teacher_forcing_ratio)\u001b[0m\n\u001b[1;32m     30\u001b[0m \u001b[38;5;66;03m# input = [batch size]\u001b[39;00m\n\u001b[1;32m     31\u001b[0m \u001b[38;5;28;01mfor\u001b[39;00m t \u001b[38;5;129;01min\u001b[39;00m \u001b[38;5;28mrange\u001b[39m(\u001b[38;5;241m1\u001b[39m, trg_length):\n\u001b[1;32m     32\u001b[0m     \u001b[38;5;66;03m# insert input token embedding, previous hidden and previous cell states\u001b[39;00m\n\u001b[1;32m     33\u001b[0m     \u001b[38;5;66;03m# receive output tensor (predictions) and new hidden and cell states\u001b[39;00m\n\u001b[0;32m---> 34\u001b[0m     output, hidden, cell \u001b[38;5;241m=\u001b[39m \u001b[38;5;28;43mself\u001b[39;49m\u001b[38;5;241;43m.\u001b[39;49m\u001b[43mdecoder\u001b[49m\u001b[43m(\u001b[49m\u001b[38;5;28;43minput\u001b[39;49m\u001b[43m,\u001b[49m\u001b[43m \u001b[49m\u001b[43mhidden\u001b[49m\u001b[43m,\u001b[49m\u001b[43m \u001b[49m\u001b[43mcell\u001b[49m\u001b[43m)\u001b[49m\n\u001b[1;32m     35\u001b[0m     \u001b[38;5;66;03m# output = [batch size, output dim]\u001b[39;00m\n\u001b[1;32m     36\u001b[0m     \u001b[38;5;66;03m# hidden = [n layers, batch size, hidden dim]\u001b[39;00m\n\u001b[1;32m     37\u001b[0m     \u001b[38;5;66;03m# cell = [n layers, batch size, hidden dim]\u001b[39;00m\n\u001b[1;32m     38\u001b[0m     \u001b[38;5;66;03m# place predictions in a tensor holding predictions for each token\u001b[39;00m\n\u001b[1;32m     39\u001b[0m     outputs[t] \u001b[38;5;241m=\u001b[39m output\n",
            "File \u001b[0;32m~/miniforge3/envs/torchtext_env/lib/python3.10/site-packages/torch/nn/modules/module.py:1532\u001b[0m, in \u001b[0;36mModule._wrapped_call_impl\u001b[0;34m(self, *args, **kwargs)\u001b[0m\n\u001b[1;32m   1530\u001b[0m     \u001b[38;5;28;01mreturn\u001b[39;00m \u001b[38;5;28mself\u001b[39m\u001b[38;5;241m.\u001b[39m_compiled_call_impl(\u001b[38;5;241m*\u001b[39margs, \u001b[38;5;241m*\u001b[39m\u001b[38;5;241m*\u001b[39mkwargs)  \u001b[38;5;66;03m# type: ignore[misc]\u001b[39;00m\n\u001b[1;32m   1531\u001b[0m \u001b[38;5;28;01melse\u001b[39;00m:\n\u001b[0;32m-> 1532\u001b[0m     \u001b[38;5;28;01mreturn\u001b[39;00m \u001b[38;5;28;43mself\u001b[39;49m\u001b[38;5;241;43m.\u001b[39;49m\u001b[43m_call_impl\u001b[49m\u001b[43m(\u001b[49m\u001b[38;5;241;43m*\u001b[39;49m\u001b[43margs\u001b[49m\u001b[43m,\u001b[49m\u001b[43m \u001b[49m\u001b[38;5;241;43m*\u001b[39;49m\u001b[38;5;241;43m*\u001b[39;49m\u001b[43mkwargs\u001b[49m\u001b[43m)\u001b[49m\n",
            "File \u001b[0;32m~/miniforge3/envs/torchtext_env/lib/python3.10/site-packages/torch/nn/modules/module.py:1541\u001b[0m, in \u001b[0;36mModule._call_impl\u001b[0;34m(self, *args, **kwargs)\u001b[0m\n\u001b[1;32m   1536\u001b[0m \u001b[38;5;66;03m# If we don't have any hooks, we want to skip the rest of the logic in\u001b[39;00m\n\u001b[1;32m   1537\u001b[0m \u001b[38;5;66;03m# this function, and just call forward.\u001b[39;00m\n\u001b[1;32m   1538\u001b[0m \u001b[38;5;28;01mif\u001b[39;00m \u001b[38;5;129;01mnot\u001b[39;00m (\u001b[38;5;28mself\u001b[39m\u001b[38;5;241m.\u001b[39m_backward_hooks \u001b[38;5;129;01mor\u001b[39;00m \u001b[38;5;28mself\u001b[39m\u001b[38;5;241m.\u001b[39m_backward_pre_hooks \u001b[38;5;129;01mor\u001b[39;00m \u001b[38;5;28mself\u001b[39m\u001b[38;5;241m.\u001b[39m_forward_hooks \u001b[38;5;129;01mor\u001b[39;00m \u001b[38;5;28mself\u001b[39m\u001b[38;5;241m.\u001b[39m_forward_pre_hooks\n\u001b[1;32m   1539\u001b[0m         \u001b[38;5;129;01mor\u001b[39;00m _global_backward_pre_hooks \u001b[38;5;129;01mor\u001b[39;00m _global_backward_hooks\n\u001b[1;32m   1540\u001b[0m         \u001b[38;5;129;01mor\u001b[39;00m _global_forward_hooks \u001b[38;5;129;01mor\u001b[39;00m _global_forward_pre_hooks):\n\u001b[0;32m-> 1541\u001b[0m     \u001b[38;5;28;01mreturn\u001b[39;00m \u001b[43mforward_call\u001b[49m\u001b[43m(\u001b[49m\u001b[38;5;241;43m*\u001b[39;49m\u001b[43margs\u001b[49m\u001b[43m,\u001b[49m\u001b[43m \u001b[49m\u001b[38;5;241;43m*\u001b[39;49m\u001b[38;5;241;43m*\u001b[39;49m\u001b[43mkwargs\u001b[49m\u001b[43m)\u001b[49m\n\u001b[1;32m   1543\u001b[0m \u001b[38;5;28;01mtry\u001b[39;00m:\n\u001b[1;32m   1544\u001b[0m     result \u001b[38;5;241m=\u001b[39m \u001b[38;5;28;01mNone\u001b[39;00m\n",
            "Cell \u001b[0;32mIn[52], line 23\u001b[0m, in \u001b[0;36mDecoder.forward\u001b[0;34m(self, input, hidden, cell)\u001b[0m\n\u001b[1;32m     21\u001b[0m embedded \u001b[38;5;241m=\u001b[39m \u001b[38;5;28mself\u001b[39m\u001b[38;5;241m.\u001b[39mdropout(\u001b[38;5;28mself\u001b[39m\u001b[38;5;241m.\u001b[39membedding(\u001b[38;5;28minput\u001b[39m))\n\u001b[1;32m     22\u001b[0m \u001b[38;5;66;03m# embedded = [1, batch size, embedding dim]\u001b[39;00m\n\u001b[0;32m---> 23\u001b[0m output, (hidden, cell) \u001b[38;5;241m=\u001b[39m \u001b[38;5;28;43mself\u001b[39;49m\u001b[38;5;241;43m.\u001b[39;49m\u001b[43mlstm\u001b[49m\u001b[43m(\u001b[49m\u001b[43membedded\u001b[49m\u001b[43m,\u001b[49m\u001b[43m \u001b[49m\u001b[43m(\u001b[49m\u001b[43mhidden\u001b[49m\u001b[43m,\u001b[49m\u001b[43m \u001b[49m\u001b[43mcell\u001b[49m\u001b[43m)\u001b[49m\u001b[43m)\u001b[49m\n\u001b[1;32m     24\u001b[0m \u001b[38;5;66;03m# output = [seq length, batch size, hidden dim * n directions]\u001b[39;00m\n\u001b[1;32m     25\u001b[0m \u001b[38;5;66;03m# hidden = [n layers * n directions, batch size, hidden dim]\u001b[39;00m\n\u001b[1;32m     26\u001b[0m \u001b[38;5;66;03m# cell = [n layers * n directions, batch size, hidden dim]\u001b[39;00m\n\u001b[0;32m   (...)\u001b[0m\n\u001b[1;32m     29\u001b[0m \u001b[38;5;66;03m# hidden = [n layers, batch size, hidden dim]\u001b[39;00m\n\u001b[1;32m     30\u001b[0m \u001b[38;5;66;03m# cell = [n layers, batch size, hidden dim]\u001b[39;00m\n\u001b[1;32m     31\u001b[0m prediction \u001b[38;5;241m=\u001b[39m \u001b[38;5;28mself\u001b[39m\u001b[38;5;241m.\u001b[39mfc_out(output\u001b[38;5;241m.\u001b[39msqueeze(\u001b[38;5;241m0\u001b[39m))\n",
            "File \u001b[0;32m~/miniforge3/envs/torchtext_env/lib/python3.10/site-packages/torch/nn/modules/module.py:1532\u001b[0m, in \u001b[0;36mModule._wrapped_call_impl\u001b[0;34m(self, *args, **kwargs)\u001b[0m\n\u001b[1;32m   1530\u001b[0m     \u001b[38;5;28;01mreturn\u001b[39;00m \u001b[38;5;28mself\u001b[39m\u001b[38;5;241m.\u001b[39m_compiled_call_impl(\u001b[38;5;241m*\u001b[39margs, \u001b[38;5;241m*\u001b[39m\u001b[38;5;241m*\u001b[39mkwargs)  \u001b[38;5;66;03m# type: ignore[misc]\u001b[39;00m\n\u001b[1;32m   1531\u001b[0m \u001b[38;5;28;01melse\u001b[39;00m:\n\u001b[0;32m-> 1532\u001b[0m     \u001b[38;5;28;01mreturn\u001b[39;00m \u001b[38;5;28;43mself\u001b[39;49m\u001b[38;5;241;43m.\u001b[39;49m\u001b[43m_call_impl\u001b[49m\u001b[43m(\u001b[49m\u001b[38;5;241;43m*\u001b[39;49m\u001b[43margs\u001b[49m\u001b[43m,\u001b[49m\u001b[43m \u001b[49m\u001b[38;5;241;43m*\u001b[39;49m\u001b[38;5;241;43m*\u001b[39;49m\u001b[43mkwargs\u001b[49m\u001b[43m)\u001b[49m\n",
            "File \u001b[0;32m~/miniforge3/envs/torchtext_env/lib/python3.10/site-packages/torch/nn/modules/module.py:1541\u001b[0m, in \u001b[0;36mModule._call_impl\u001b[0;34m(self, *args, **kwargs)\u001b[0m\n\u001b[1;32m   1536\u001b[0m \u001b[38;5;66;03m# If we don't have any hooks, we want to skip the rest of the logic in\u001b[39;00m\n\u001b[1;32m   1537\u001b[0m \u001b[38;5;66;03m# this function, and just call forward.\u001b[39;00m\n\u001b[1;32m   1538\u001b[0m \u001b[38;5;28;01mif\u001b[39;00m \u001b[38;5;129;01mnot\u001b[39;00m (\u001b[38;5;28mself\u001b[39m\u001b[38;5;241m.\u001b[39m_backward_hooks \u001b[38;5;129;01mor\u001b[39;00m \u001b[38;5;28mself\u001b[39m\u001b[38;5;241m.\u001b[39m_backward_pre_hooks \u001b[38;5;129;01mor\u001b[39;00m \u001b[38;5;28mself\u001b[39m\u001b[38;5;241m.\u001b[39m_forward_hooks \u001b[38;5;129;01mor\u001b[39;00m \u001b[38;5;28mself\u001b[39m\u001b[38;5;241m.\u001b[39m_forward_pre_hooks\n\u001b[1;32m   1539\u001b[0m         \u001b[38;5;129;01mor\u001b[39;00m _global_backward_pre_hooks \u001b[38;5;129;01mor\u001b[39;00m _global_backward_hooks\n\u001b[1;32m   1540\u001b[0m         \u001b[38;5;129;01mor\u001b[39;00m _global_forward_hooks \u001b[38;5;129;01mor\u001b[39;00m _global_forward_pre_hooks):\n\u001b[0;32m-> 1541\u001b[0m     \u001b[38;5;28;01mreturn\u001b[39;00m \u001b[43mforward_call\u001b[49m\u001b[43m(\u001b[49m\u001b[38;5;241;43m*\u001b[39;49m\u001b[43margs\u001b[49m\u001b[43m,\u001b[49m\u001b[43m \u001b[49m\u001b[38;5;241;43m*\u001b[39;49m\u001b[38;5;241;43m*\u001b[39;49m\u001b[43mkwargs\u001b[49m\u001b[43m)\u001b[49m\n\u001b[1;32m   1543\u001b[0m \u001b[38;5;28;01mtry\u001b[39;00m:\n\u001b[1;32m   1544\u001b[0m     result \u001b[38;5;241m=\u001b[39m \u001b[38;5;28;01mNone\u001b[39;00m\n",
            "File \u001b[0;32m~/miniforge3/envs/torchtext_env/lib/python3.10/site-packages/torch/nn/modules/rnn.py:911\u001b[0m, in \u001b[0;36mLSTM.forward\u001b[0;34m(self, input, hx)\u001b[0m\n\u001b[1;32m    908\u001b[0m         hx \u001b[38;5;241m=\u001b[39m \u001b[38;5;28mself\u001b[39m\u001b[38;5;241m.\u001b[39mpermute_hidden(hx, sorted_indices)\n\u001b[1;32m    910\u001b[0m \u001b[38;5;28;01mif\u001b[39;00m batch_sizes \u001b[38;5;129;01mis\u001b[39;00m \u001b[38;5;28;01mNone\u001b[39;00m:\n\u001b[0;32m--> 911\u001b[0m     result \u001b[38;5;241m=\u001b[39m \u001b[43m_VF\u001b[49m\u001b[38;5;241;43m.\u001b[39;49m\u001b[43mlstm\u001b[49m\u001b[43m(\u001b[49m\u001b[38;5;28;43minput\u001b[39;49m\u001b[43m,\u001b[49m\u001b[43m \u001b[49m\u001b[43mhx\u001b[49m\u001b[43m,\u001b[49m\u001b[43m \u001b[49m\u001b[38;5;28;43mself\u001b[39;49m\u001b[38;5;241;43m.\u001b[39;49m\u001b[43m_flat_weights\u001b[49m\u001b[43m,\u001b[49m\u001b[43m \u001b[49m\u001b[38;5;28;43mself\u001b[39;49m\u001b[38;5;241;43m.\u001b[39;49m\u001b[43mbias\u001b[49m\u001b[43m,\u001b[49m\u001b[43m \u001b[49m\u001b[38;5;28;43mself\u001b[39;49m\u001b[38;5;241;43m.\u001b[39;49m\u001b[43mnum_layers\u001b[49m\u001b[43m,\u001b[49m\n\u001b[1;32m    912\u001b[0m \u001b[43m                      \u001b[49m\u001b[38;5;28;43mself\u001b[39;49m\u001b[38;5;241;43m.\u001b[39;49m\u001b[43mdropout\u001b[49m\u001b[43m,\u001b[49m\u001b[43m \u001b[49m\u001b[38;5;28;43mself\u001b[39;49m\u001b[38;5;241;43m.\u001b[39;49m\u001b[43mtraining\u001b[49m\u001b[43m,\u001b[49m\u001b[43m \u001b[49m\u001b[38;5;28;43mself\u001b[39;49m\u001b[38;5;241;43m.\u001b[39;49m\u001b[43mbidirectional\u001b[49m\u001b[43m,\u001b[49m\u001b[43m \u001b[49m\u001b[38;5;28;43mself\u001b[39;49m\u001b[38;5;241;43m.\u001b[39;49m\u001b[43mbatch_first\u001b[49m\u001b[43m)\u001b[49m\n\u001b[1;32m    913\u001b[0m \u001b[38;5;28;01melse\u001b[39;00m:\n\u001b[1;32m    914\u001b[0m     result \u001b[38;5;241m=\u001b[39m _VF\u001b[38;5;241m.\u001b[39mlstm(\u001b[38;5;28minput\u001b[39m, batch_sizes, hx, \u001b[38;5;28mself\u001b[39m\u001b[38;5;241m.\u001b[39m_flat_weights, \u001b[38;5;28mself\u001b[39m\u001b[38;5;241m.\u001b[39mbias,\n\u001b[1;32m    915\u001b[0m                       \u001b[38;5;28mself\u001b[39m\u001b[38;5;241m.\u001b[39mnum_layers, \u001b[38;5;28mself\u001b[39m\u001b[38;5;241m.\u001b[39mdropout, \u001b[38;5;28mself\u001b[39m\u001b[38;5;241m.\u001b[39mtraining, \u001b[38;5;28mself\u001b[39m\u001b[38;5;241m.\u001b[39mbidirectional)\n",
            "\u001b[0;31mKeyboardInterrupt\u001b[0m: "
          ]
        }
      ],
      "source": [
        "n_epochs = 10\n",
        "clip = 1.0\n",
        "teacher_forcing_ratio = 0.5\n",
        "\n",
        "best_valid_loss = float(\"inf\")\n",
        "\n",
        "for epoch in tqdm.tqdm(range(n_epochs)):\n",
        "    train_loss = train_fn(\n",
        "        model,\n",
        "        train_data_loader,\n",
        "        optimizer,\n",
        "        criterion,\n",
        "        clip,\n",
        "        teacher_forcing_ratio,\n",
        "        device,\n",
        "    )\n",
        "    valid_loss = evaluate_fn(\n",
        "        model,\n",
        "        valid_data_loader,\n",
        "        criterion,\n",
        "        device,\n",
        "    )\n",
        "    if valid_loss < best_valid_loss:\n",
        "        best_valid_loss = valid_loss\n",
        "        torch.save(model.state_dict(), \"tut1-model.pt\")\n",
        "    print(f\"\\tTrain Loss: {train_loss:7.3f} | Train PPL: {np.exp(train_loss):7.3f}\")\n",
        "    print(f\"\\tValid Loss: {valid_loss:7.3f} | Valid PPL: {np.exp(valid_loss):7.3f}\")"
      ]
    },
    {
      "cell_type": "markdown",
      "metadata": {
        "id": "qiXKamHiSA-K"
      },
      "source": [
        "**Evaluating the Model**\n"
      ]
    },
    {
      "cell_type": "code",
      "execution_count": null,
      "metadata": {
        "colab": {
          "base_uri": "https://localhost:8080/"
        },
        "id": "GsOFoNJjR9By",
        "outputId": "66290772-b5db-4724-8cd1-60fa46b0b339"
      },
      "outputs": [
        {
          "name": "stdout",
          "output_type": "stream",
          "text": [
            "| Test Loss: 3.908 | Test PPL:  49.808 |\n"
          ]
        }
      ],
      "source": [
        "model.load_state_dict(torch.load(\"tut1-model.pt\"))\n",
        "\n",
        "test_loss = evaluate_fn(model, test_data_loader, criterion, device)\n",
        "\n",
        "print(f\"| Test Loss: {test_loss:.3f} | Test PPL: {np.exp(test_loss):7.3f} |\")"
      ]
    },
    {
      "cell_type": "code",
      "execution_count": null,
      "metadata": {
        "id": "NkOqotNqSNJK"
      },
      "outputs": [],
      "source": [
        "def translate_sentence(\n",
        "    sentence,\n",
        "    model,\n",
        "    en_nlp,\n",
        "    de_nlp,\n",
        "    en_vocab,\n",
        "    de_vocab,\n",
        "    lower,\n",
        "    sos_token,\n",
        "    eos_token,\n",
        "    device,\n",
        "    max_output_length=25,\n",
        "):\n",
        "    model.eval()\n",
        "    with torch.no_grad():\n",
        "        if isinstance(sentence, str):\n",
        "            tokens = [token.text for token in de_nlp.tokenizer(sentence)]\n",
        "        else:\n",
        "            tokens = [token for token in sentence]\n",
        "        if lower:\n",
        "            tokens = [token.lower() for token in tokens]\n",
        "        tokens = [sos_token] + tokens + [eos_token]\n",
        "        ids = de_vocab.lookup_indices(tokens)\n",
        "        tensor = torch.LongTensor(ids).unsqueeze(-1).to(device)\n",
        "        hidden, cell = model.encoder(tensor)\n",
        "        inputs = en_vocab.lookup_indices([sos_token])\n",
        "        for _ in range(max_output_length):\n",
        "            inputs_tensor = torch.LongTensor([inputs[-1]]).to(device)\n",
        "            output, hidden, cell = model.decoder(inputs_tensor, hidden, cell)\n",
        "            predicted_token = output.argmax(-1).item()\n",
        "            inputs.append(predicted_token)\n",
        "            if predicted_token == en_vocab[eos_token]:\n",
        "                break\n",
        "        tokens = en_vocab.lookup_tokens(inputs)\n",
        "    return tokens"
      ]
    },
    {
      "cell_type": "code",
      "execution_count": null,
      "metadata": {
        "colab": {
          "base_uri": "https://localhost:8080/"
        },
        "id": "mjLBudD6STR_",
        "outputId": "26ce4fc4-368e-4ea6-9458-86c7b1c6c5a9"
      },
      "outputs": [
        {
          "data": {
            "text/plain": [
              "('Ein Mann mit einem orangefarbenen Hut, der etwas anstarrt.',\n",
              " 'A man in an orange hat starring at something.')"
            ]
          },
          "execution_count": 60,
          "metadata": {},
          "output_type": "execute_result"
        }
      ],
      "source": [
        "sentence = test_data[0][\"de\"]\n",
        "expected_translation = test_data[0][\"en\"]\n",
        "\n",
        "sentence, expected_translation"
      ]
    },
    {
      "cell_type": "code",
      "execution_count": null,
      "metadata": {
        "id": "ZWpVn4u4SWuE"
      },
      "outputs": [],
      "source": [
        "translation = translate_sentence(\n",
        "    sentence,\n",
        "    model,\n",
        "    en_nlp,\n",
        "    de_nlp,\n",
        "    en_vocab,\n",
        "    de_vocab,\n",
        "    lower,\n",
        "    sos_token,\n",
        "    eos_token,\n",
        "    device,\n",
        ")"
      ]
    },
    {
      "cell_type": "code",
      "execution_count": null,
      "metadata": {
        "colab": {
          "base_uri": "https://localhost:8080/"
        },
        "id": "J7iwWDDSSYUh",
        "outputId": "9432dd33-37f3-4543-82f0-365c2447fd58"
      },
      "outputs": [
        {
          "data": {
            "text/plain": [
              "['<sos>',\n",
              " 'a',\n",
              " 'man',\n",
              " 'in',\n",
              " 'a',\n",
              " 'red',\n",
              " 'hat',\n",
              " 'is',\n",
              " 'looking',\n",
              " 'at',\n",
              " 'something',\n",
              " '.',\n",
              " '<eos>']"
            ]
          },
          "execution_count": 62,
          "metadata": {},
          "output_type": "execute_result"
        }
      ],
      "source": [
        "translation"
      ]
    },
    {
      "cell_type": "code",
      "execution_count": null,
      "metadata": {
        "id": "dmDFnOzxSaYS"
      },
      "outputs": [],
      "source": [
        "sentence = \"Ein Mann sitzt auf einer Bank.\"\n"
      ]
    },
    {
      "cell_type": "code",
      "execution_count": null,
      "metadata": {
        "id": "rHtQ5pfAScJM"
      },
      "outputs": [],
      "source": [
        "translation = translate_sentence(\n",
        "    sentence,\n",
        "    model,\n",
        "    en_nlp,\n",
        "    de_nlp,\n",
        "    en_vocab,\n",
        "    de_vocab,\n",
        "    lower,\n",
        "    sos_token,\n",
        "    eos_token,\n",
        "    device,\n",
        ")"
      ]
    },
    {
      "cell_type": "code",
      "execution_count": null,
      "metadata": {
        "colab": {
          "base_uri": "https://localhost:8080/"
        },
        "id": "LV_CzlRZSeG5",
        "outputId": "ede3d366-28c4-48a2-c931-38bee9e42943"
      },
      "outputs": [
        {
          "data": {
            "text/plain": [
              "['<sos>', 'a', 'man', 'sits', 'on', 'a', 'bench', 'bench', '.', '<eos>']"
            ]
          },
          "execution_count": 65,
          "metadata": {},
          "output_type": "execute_result"
        }
      ],
      "source": [
        "translation\n"
      ]
    },
    {
      "cell_type": "code",
      "execution_count": null,
      "metadata": {
        "colab": {
          "base_uri": "https://localhost:8080/"
        },
        "id": "58uzON68ShTZ",
        "outputId": "65d16806-3329-4414-c83b-ca20c566e847"
      },
      "outputs": [
        {
          "name": "stderr",
          "output_type": "stream",
          "text": [
            "100%|██████████| 1000/1000 [00:09<00:00, 101.75it/s]\n"
          ]
        }
      ],
      "source": [
        "translations = [\n",
        "    translate_sentence(\n",
        "        example[\"de\"],\n",
        "        model,\n",
        "        en_nlp,\n",
        "        de_nlp,\n",
        "        en_vocab,\n",
        "        de_vocab,\n",
        "        lower,\n",
        "        sos_token,\n",
        "        eos_token,\n",
        "        device,\n",
        "    )\n",
        "    for example in tqdm.tqdm(test_data)\n",
        "]"
      ]
    },
    {
      "cell_type": "code",
      "execution_count": null,
      "metadata": {
        "colab": {
          "base_uri": "https://localhost:8080/",
          "height": 113,
          "referenced_widgets": [
            "cc242eb6f43f47369ed79bb74024f60e",
            "a02612df44b04263b3ffddcdf79d66b8",
            "973964c7364a4f128fb1e5489c9b3cdb",
            "9f8d6c2631ac42f2a458bdc266385ae3",
            "3ba1cf351354462eae531241c814325f",
            "d8cb5646f42f42d8b332a8d70de526e4",
            "fdbdbc01b8154ed2adb0cc0b17705a4f",
            "aa066ceb0fc9449eb99fe69ca94b1cc5",
            "da6ca0f3e6f24506b5c0041e6bf9f16a",
            "10777a68bed4429c8f5d041a6d7e7578",
            "383268fb6fb345a28d2c52c09c0195b8",
            "86d5eedb5ffc4da6bb3228e45b0428ca",
            "f8a99ad4326a4fd09e18321e3bc8674a",
            "1b936ba7bfe24cbdbe1df15b91ded99c",
            "fe2db0f24052431fa776974eefff4763",
            "9ae8947ec51b48e28661888cfac6ae36",
            "5467dc147ba6453587f82ec966fa4a88",
            "fde15bef7e6f40aa9f2f57cd8271c60c",
            "c342cd644da24fcfb6aacd2aaed91a8c",
            "32f4c87737684b3d9ad1ca80ccfca656",
            "2da2cae3e5f3468ea8ad841ce799a588",
            "080d463d8ace41d58ff581af81d95f79",
            "63581194cb2f41ce85f13e16d9b24fd4",
            "7198eade7e5e4baeb4e7a058eaf5c16a",
            "99cef2dd4f934cf0be843d7dc98a1fda",
            "98f7f34a85644bbf887250ac8d921a30",
            "9a0ac3703c244e60be0b6150f8cfc723",
            "0df6706beffc4e3f99c5b48ae3e96683",
            "3e48b44fdd8f4cdabf297059905427b3",
            "217600673f674b0fa7804b8432fcca6e",
            "77ee19b8f7e64932972aa2c527575641",
            "f3dab0ab63934d0a8f8f86fcd65955e2",
            "36fa7a61bb7d499db06c8799a85b787d"
          ]
        },
        "id": "kywE_JUgSndh",
        "outputId": "cc77241b-0eab-41d1-eeb5-fa289862b3dc"
      },
      "outputs": [
        {
          "data": {
            "application/vnd.jupyter.widget-view+json": {
              "model_id": "cc242eb6f43f47369ed79bb74024f60e",
              "version_major": 2,
              "version_minor": 0
            },
            "text/plain": [
              "Downloading builder script:   0%|          | 0.00/5.94k [00:00<?, ?B/s]"
            ]
          },
          "metadata": {},
          "output_type": "display_data"
        },
        {
          "data": {
            "application/vnd.jupyter.widget-view+json": {
              "model_id": "86d5eedb5ffc4da6bb3228e45b0428ca",
              "version_major": 2,
              "version_minor": 0
            },
            "text/plain": [
              "Downloading extra modules:   0%|          | 0.00/1.55k [00:00<?, ?B/s]"
            ]
          },
          "metadata": {},
          "output_type": "display_data"
        },
        {
          "data": {
            "application/vnd.jupyter.widget-view+json": {
              "model_id": "63581194cb2f41ce85f13e16d9b24fd4",
              "version_major": 2,
              "version_minor": 0
            },
            "text/plain": [
              "Downloading extra modules:   0%|          | 0.00/3.34k [00:00<?, ?B/s]"
            ]
          },
          "metadata": {},
          "output_type": "display_data"
        }
      ],
      "source": [
        "bleu = evaluate.load(\"bleu\")"
      ]
    },
    {
      "cell_type": "code",
      "execution_count": null,
      "metadata": {
        "id": "60V3xMObSsLL"
      },
      "outputs": [],
      "source": [
        "predictions = [\" \".join(translation[1:-1]) for translation in translations]\n",
        "\n",
        "references = [[example[\"en\"]] for example in test_data]"
      ]
    },
    {
      "cell_type": "code",
      "execution_count": null,
      "metadata": {
        "colab": {
          "base_uri": "https://localhost:8080/"
        },
        "id": "vKXjO0zCSuZz",
        "outputId": "7c5b7e2c-c00d-45b5-c5cc-c5fef6b1d52f"
      },
      "outputs": [
        {
          "data": {
            "text/plain": [
              "('a man in a red hat is looking at something .',\n",
              " ['A man in an orange hat starring at something.'])"
            ]
          },
          "execution_count": 69,
          "metadata": {},
          "output_type": "execute_result"
        }
      ],
      "source": [
        "predictions[0], references[0]\n"
      ]
    },
    {
      "cell_type": "code",
      "execution_count": null,
      "metadata": {
        "id": "Ol7V1N-dSwzS"
      },
      "outputs": [],
      "source": [
        "def get_tokenizer_fn(nlp, lower):\n",
        "    def tokenizer_fn(s):\n",
        "        tokens = [token.text for token in nlp.tokenizer(s)]\n",
        "        if lower:\n",
        "            tokens = [token.lower() for token in tokens]\n",
        "        return tokens\n",
        "\n",
        "    return tokenizer_fn"
      ]
    },
    {
      "cell_type": "code",
      "execution_count": null,
      "metadata": {
        "id": "fhLx8I_QSyS5"
      },
      "outputs": [],
      "source": [
        "tokenizer_fn = get_tokenizer_fn(en_nlp, lower)\n"
      ]
    },
    {
      "cell_type": "code",
      "execution_count": null,
      "metadata": {
        "colab": {
          "base_uri": "https://localhost:8080/"
        },
        "id": "NlPj8BRaSz1C",
        "outputId": "8bc245c0-198d-4a5a-c4b7-715cfedb8ece"
      },
      "outputs": [
        {
          "data": {
            "text/plain": [
              "(['a',\n",
              "  'man',\n",
              "  'in',\n",
              "  'a',\n",
              "  'red',\n",
              "  'hat',\n",
              "  'is',\n",
              "  'looking',\n",
              "  'at',\n",
              "  'something',\n",
              "  '.'],\n",
              " ['a', 'man', 'in', 'an', 'orange', 'hat', 'starring', 'at', 'something', '.'])"
            ]
          },
          "execution_count": 72,
          "metadata": {},
          "output_type": "execute_result"
        }
      ],
      "source": [
        "tokenizer_fn(predictions[0]), tokenizer_fn(references[0][0])\n"
      ]
    },
    {
      "cell_type": "code",
      "execution_count": null,
      "metadata": {
        "id": "MhP9agy8S1WT"
      },
      "outputs": [],
      "source": [
        "results = bleu.compute(\n",
        "    predictions=predictions, references=references, tokenizer=tokenizer_fn\n",
        ")"
      ]
    },
    {
      "cell_type": "code",
      "execution_count": null,
      "metadata": {
        "colab": {
          "base_uri": "https://localhost:8080/"
        },
        "id": "vltP7VL_S3Aa",
        "outputId": "4a4e0c69-0c8c-4197-fb07-d046f4c1a103"
      },
      "outputs": [
        {
          "data": {
            "text/plain": [
              "{'bleu': 0.12901202656282915,\n",
              " 'precisions': [0.45495426829268293,\n",
              "  0.17714521452145215,\n",
              "  0.08282374100719425,\n",
              "  0.041501976284584984],\n",
              " 'brevity_penalty': 1.0,\n",
              " 'length_ratio': 1.0047480471741461,\n",
              " 'translation_length': 13120,\n",
              " 'reference_length': 13058}"
            ]
          },
          "execution_count": 74,
          "metadata": {},
          "output_type": "execute_result"
        }
      ],
      "source": [
        "results"
      ]
    }
  ],
  "metadata": {
    "accelerator": "GPU",
    "colab": {
      "gpuType": "T4",
      "provenance": []
    },
    "kernelspec": {
      "display_name": "Python (torchtext_env)",
      "language": "python",
      "name": "torchtext_env"
    },
    "language_info": {
      "codemirror_mode": {
        "name": "ipython",
        "version": 3
      },
      "file_extension": ".py",
      "mimetype": "text/x-python",
      "name": "python",
      "nbconvert_exporter": "python",
      "pygments_lexer": "ipython3",
      "version": "3.10.18"
    },
    "widgets": {
      "application/vnd.jupyter.widget-state+json": {
        "005119bc6b8e456f82ced785a8362060": {
          "model_module": "@jupyter-widgets/base",
          "model_module_version": "1.2.0",
          "model_name": "LayoutModel",
          "state": {
            "_model_module": "@jupyter-widgets/base",
            "_model_module_version": "1.2.0",
            "_model_name": "LayoutModel",
            "_view_count": null,
            "_view_module": "@jupyter-widgets/base",
            "_view_module_version": "1.2.0",
            "_view_name": "LayoutView",
            "align_content": null,
            "align_items": null,
            "align_self": null,
            "border": null,
            "bottom": null,
            "display": null,
            "flex": null,
            "flex_flow": null,
            "grid_area": null,
            "grid_auto_columns": null,
            "grid_auto_flow": null,
            "grid_auto_rows": null,
            "grid_column": null,
            "grid_gap": null,
            "grid_row": null,
            "grid_template_areas": null,
            "grid_template_columns": null,
            "grid_template_rows": null,
            "height": null,
            "justify_content": null,
            "justify_items": null,
            "left": null,
            "margin": null,
            "max_height": null,
            "max_width": null,
            "min_height": null,
            "min_width": null,
            "object_fit": null,
            "object_position": null,
            "order": null,
            "overflow": null,
            "overflow_x": null,
            "overflow_y": null,
            "padding": null,
            "right": null,
            "top": null,
            "visibility": null,
            "width": null
          }
        },
        "02148f805ea24a46a21158f8b67858ad": {
          "model_module": "@jupyter-widgets/controls",
          "model_module_version": "1.5.0",
          "model_name": "FloatProgressModel",
          "state": {
            "_dom_classes": [],
            "_model_module": "@jupyter-widgets/controls",
            "_model_module_version": "1.5.0",
            "_model_name": "FloatProgressModel",
            "_view_count": null,
            "_view_module": "@jupyter-widgets/controls",
            "_view_module_version": "1.5.0",
            "_view_name": "ProgressView",
            "bar_style": "success",
            "description": "",
            "description_tooltip": null,
            "layout": "IPY_MODEL_29aca8f09d0d4ddd9bd2805c177f4b89",
            "max": 1000,
            "min": 0,
            "orientation": "horizontal",
            "style": "IPY_MODEL_4bdbd6c090d94eab82b243462178cdf7",
            "value": 1000
          }
        },
        "04f9e98cc1b34ca0aa91936941805b34": {
          "model_module": "@jupyter-widgets/controls",
          "model_module_version": "1.5.0",
          "model_name": "HTMLModel",
          "state": {
            "_dom_classes": [],
            "_model_module": "@jupyter-widgets/controls",
            "_model_module_version": "1.5.0",
            "_model_name": "HTMLModel",
            "_view_count": null,
            "_view_module": "@jupyter-widgets/controls",
            "_view_module_version": "1.5.0",
            "_view_name": "HTMLView",
            "description": "",
            "description_tooltip": null,
            "layout": "IPY_MODEL_be76992ad5d34cc2b74cdc9fc0416065",
            "placeholder": "​",
            "style": "IPY_MODEL_ee764f804de8463487e81ef0ee108149",
            "value": "Generating train split: 100%"
          }
        },
        "0508c853e502485b8dedf86110320b98": {
          "model_module": "@jupyter-widgets/base",
          "model_module_version": "1.2.0",
          "model_name": "LayoutModel",
          "state": {
            "_model_module": "@jupyter-widgets/base",
            "_model_module_version": "1.2.0",
            "_model_name": "LayoutModel",
            "_view_count": null,
            "_view_module": "@jupyter-widgets/base",
            "_view_module_version": "1.2.0",
            "_view_name": "LayoutView",
            "align_content": null,
            "align_items": null,
            "align_self": null,
            "border": null,
            "bottom": null,
            "display": null,
            "flex": null,
            "flex_flow": null,
            "grid_area": null,
            "grid_auto_columns": null,
            "grid_auto_flow": null,
            "grid_auto_rows": null,
            "grid_column": null,
            "grid_gap": null,
            "grid_row": null,
            "grid_template_areas": null,
            "grid_template_columns": null,
            "grid_template_rows": null,
            "height": null,
            "justify_content": null,
            "justify_items": null,
            "left": null,
            "margin": null,
            "max_height": null,
            "max_width": null,
            "min_height": null,
            "min_width": null,
            "object_fit": null,
            "object_position": null,
            "order": null,
            "overflow": null,
            "overflow_x": null,
            "overflow_y": null,
            "padding": null,
            "right": null,
            "top": null,
            "visibility": null,
            "width": null
          }
        },
        "07ca1bb330d44650ad9d3923b3d88c06": {
          "model_module": "@jupyter-widgets/controls",
          "model_module_version": "1.5.0",
          "model_name": "HTMLModel",
          "state": {
            "_dom_classes": [],
            "_model_module": "@jupyter-widgets/controls",
            "_model_module_version": "1.5.0",
            "_model_name": "HTMLModel",
            "_view_count": null,
            "_view_module": "@jupyter-widgets/controls",
            "_view_module_version": "1.5.0",
            "_view_name": "HTMLView",
            "description": "",
            "description_tooltip": null,
            "layout": "IPY_MODEL_37e855cd31b04b7c896fdc1f579b759a",
            "placeholder": "​",
            "style": "IPY_MODEL_646b55468e0b43c9bf78464fa1f6f66b",
            "value": " 1014/1014 [00:00&lt;00:00, 20147.63 examples/s]"
          }
        },
        "080d463d8ace41d58ff581af81d95f79": {
          "model_module": "@jupyter-widgets/controls",
          "model_module_version": "1.5.0",
          "model_name": "DescriptionStyleModel",
          "state": {
            "_model_module": "@jupyter-widgets/controls",
            "_model_module_version": "1.5.0",
            "_model_name": "DescriptionStyleModel",
            "_view_count": null,
            "_view_module": "@jupyter-widgets/base",
            "_view_module_version": "1.2.0",
            "_view_name": "StyleView",
            "description_width": ""
          }
        },
        "0818261ce3a94bd2b968dddf565626cf": {
          "model_module": "@jupyter-widgets/controls",
          "model_module_version": "1.5.0",
          "model_name": "HTMLModel",
          "state": {
            "_dom_classes": [],
            "_model_module": "@jupyter-widgets/controls",
            "_model_module_version": "1.5.0",
            "_model_name": "HTMLModel",
            "_view_count": null,
            "_view_module": "@jupyter-widgets/controls",
            "_view_module_version": "1.5.0",
            "_view_name": "HTMLView",
            "description": "",
            "description_tooltip": null,
            "layout": "IPY_MODEL_fed958478e974457b9c99867b1d2c12a",
            "placeholder": "​",
            "style": "IPY_MODEL_60e522b3eedc4eb182f09bed58772c65",
            "value": " 1000/1000 [00:00&lt;00:00, 1312.35 examples/s]"
          }
        },
        "098cad40960d4104be49a1dcaeb41c24": {
          "model_module": "@jupyter-widgets/controls",
          "model_module_version": "1.5.0",
          "model_name": "DescriptionStyleModel",
          "state": {
            "_model_module": "@jupyter-widgets/controls",
            "_model_module_version": "1.5.0",
            "_model_name": "DescriptionStyleModel",
            "_view_count": null,
            "_view_module": "@jupyter-widgets/base",
            "_view_module_version": "1.2.0",
            "_view_name": "StyleView",
            "description_width": ""
          }
        },
        "0b0c550ac4e24d6f8f61dca6d56b7cf2": {
          "model_module": "@jupyter-widgets/controls",
          "model_module_version": "1.5.0",
          "model_name": "DescriptionStyleModel",
          "state": {
            "_model_module": "@jupyter-widgets/controls",
            "_model_module_version": "1.5.0",
            "_model_name": "DescriptionStyleModel",
            "_view_count": null,
            "_view_module": "@jupyter-widgets/base",
            "_view_module_version": "1.2.0",
            "_view_name": "StyleView",
            "description_width": ""
          }
        },
        "0bdb7ee635fd49339bfa6651d3ac5cd0": {
          "model_module": "@jupyter-widgets/controls",
          "model_module_version": "1.5.0",
          "model_name": "HTMLModel",
          "state": {
            "_dom_classes": [],
            "_model_module": "@jupyter-widgets/controls",
            "_model_module_version": "1.5.0",
            "_model_name": "HTMLModel",
            "_view_count": null,
            "_view_module": "@jupyter-widgets/controls",
            "_view_module_version": "1.5.0",
            "_view_name": "HTMLView",
            "description": "",
            "description_tooltip": null,
            "layout": "IPY_MODEL_d9ad76b4423b431caf42e7e6957c5cd6",
            "placeholder": "​",
            "style": "IPY_MODEL_cfcb7f0a38764d62baf62169938b767e",
            "value": "Map: 100%"
          }
        },
        "0c7c2d59d56547b1866478efed3763bf": {
          "model_module": "@jupyter-widgets/controls",
          "model_module_version": "1.5.0",
          "model_name": "FloatProgressModel",
          "state": {
            "_dom_classes": [],
            "_model_module": "@jupyter-widgets/controls",
            "_model_module_version": "1.5.0",
            "_model_name": "FloatProgressModel",
            "_view_count": null,
            "_view_module": "@jupyter-widgets/controls",
            "_view_module_version": "1.5.0",
            "_view_name": "ProgressView",
            "bar_style": "success",
            "description": "",
            "description_tooltip": null,
            "layout": "IPY_MODEL_b06ed16f8e084ce7b0d7619f2aee8d1d",
            "max": 163562,
            "min": 0,
            "orientation": "horizontal",
            "style": "IPY_MODEL_679d5645478c4678b996f6481a60c94c",
            "value": 163562
          }
        },
        "0df6706beffc4e3f99c5b48ae3e96683": {
          "model_module": "@jupyter-widgets/base",
          "model_module_version": "1.2.0",
          "model_name": "LayoutModel",
          "state": {
            "_model_module": "@jupyter-widgets/base",
            "_model_module_version": "1.2.0",
            "_model_name": "LayoutModel",
            "_view_count": null,
            "_view_module": "@jupyter-widgets/base",
            "_view_module_version": "1.2.0",
            "_view_name": "LayoutView",
            "align_content": null,
            "align_items": null,
            "align_self": null,
            "border": null,
            "bottom": null,
            "display": null,
            "flex": null,
            "flex_flow": null,
            "grid_area": null,
            "grid_auto_columns": null,
            "grid_auto_flow": null,
            "grid_auto_rows": null,
            "grid_column": null,
            "grid_gap": null,
            "grid_row": null,
            "grid_template_areas": null,
            "grid_template_columns": null,
            "grid_template_rows": null,
            "height": null,
            "justify_content": null,
            "justify_items": null,
            "left": null,
            "margin": null,
            "max_height": null,
            "max_width": null,
            "min_height": null,
            "min_width": null,
            "object_fit": null,
            "object_position": null,
            "order": null,
            "overflow": null,
            "overflow_x": null,
            "overflow_y": null,
            "padding": null,
            "right": null,
            "top": null,
            "visibility": null,
            "width": null
          }
        },
        "10777a68bed4429c8f5d041a6d7e7578": {
          "model_module": "@jupyter-widgets/base",
          "model_module_version": "1.2.0",
          "model_name": "LayoutModel",
          "state": {
            "_model_module": "@jupyter-widgets/base",
            "_model_module_version": "1.2.0",
            "_model_name": "LayoutModel",
            "_view_count": null,
            "_view_module": "@jupyter-widgets/base",
            "_view_module_version": "1.2.0",
            "_view_name": "LayoutView",
            "align_content": null,
            "align_items": null,
            "align_self": null,
            "border": null,
            "bottom": null,
            "display": null,
            "flex": null,
            "flex_flow": null,
            "grid_area": null,
            "grid_auto_columns": null,
            "grid_auto_flow": null,
            "grid_auto_rows": null,
            "grid_column": null,
            "grid_gap": null,
            "grid_row": null,
            "grid_template_areas": null,
            "grid_template_columns": null,
            "grid_template_rows": null,
            "height": null,
            "justify_content": null,
            "justify_items": null,
            "left": null,
            "margin": null,
            "max_height": null,
            "max_width": null,
            "min_height": null,
            "min_width": null,
            "object_fit": null,
            "object_position": null,
            "order": null,
            "overflow": null,
            "overflow_x": null,
            "overflow_y": null,
            "padding": null,
            "right": null,
            "top": null,
            "visibility": null,
            "width": null
          }
        },
        "11d4fb2c0a534fce804ffd0981632d33": {
          "model_module": "@jupyter-widgets/controls",
          "model_module_version": "1.5.0",
          "model_name": "DescriptionStyleModel",
          "state": {
            "_model_module": "@jupyter-widgets/controls",
            "_model_module_version": "1.5.0",
            "_model_name": "DescriptionStyleModel",
            "_view_count": null,
            "_view_module": "@jupyter-widgets/base",
            "_view_module_version": "1.2.0",
            "_view_name": "StyleView",
            "description_width": ""
          }
        },
        "14638c3dd2ac49d5875dad949b29ab96": {
          "model_module": "@jupyter-widgets/controls",
          "model_module_version": "1.5.0",
          "model_name": "FloatProgressModel",
          "state": {
            "_dom_classes": [],
            "_model_module": "@jupyter-widgets/controls",
            "_model_module_version": "1.5.0",
            "_model_name": "FloatProgressModel",
            "_view_count": null,
            "_view_module": "@jupyter-widgets/controls",
            "_view_module_version": "1.5.0",
            "_view_name": "ProgressView",
            "bar_style": "success",
            "description": "",
            "description_tooltip": null,
            "layout": "IPY_MODEL_a703d9f5a276489f80e2488e58652f94",
            "max": 1014,
            "min": 0,
            "orientation": "horizontal",
            "style": "IPY_MODEL_abf9f53569414cef95a6db9e947a60a9",
            "value": 1014
          }
        },
        "1777d9ea6c28455783b3af36e0ae0cf0": {
          "model_module": "@jupyter-widgets/base",
          "model_module_version": "1.2.0",
          "model_name": "LayoutModel",
          "state": {
            "_model_module": "@jupyter-widgets/base",
            "_model_module_version": "1.2.0",
            "_model_name": "LayoutModel",
            "_view_count": null,
            "_view_module": "@jupyter-widgets/base",
            "_view_module_version": "1.2.0",
            "_view_name": "LayoutView",
            "align_content": null,
            "align_items": null,
            "align_self": null,
            "border": null,
            "bottom": null,
            "display": null,
            "flex": null,
            "flex_flow": null,
            "grid_area": null,
            "grid_auto_columns": null,
            "grid_auto_flow": null,
            "grid_auto_rows": null,
            "grid_column": null,
            "grid_gap": null,
            "grid_row": null,
            "grid_template_areas": null,
            "grid_template_columns": null,
            "grid_template_rows": null,
            "height": null,
            "justify_content": null,
            "justify_items": null,
            "left": null,
            "margin": null,
            "max_height": null,
            "max_width": null,
            "min_height": null,
            "min_width": null,
            "object_fit": null,
            "object_position": null,
            "order": null,
            "overflow": null,
            "overflow_x": null,
            "overflow_y": null,
            "padding": null,
            "right": null,
            "top": null,
            "visibility": null,
            "width": null
          }
        },
        "17c802e137b141d39902621efdd63f67": {
          "model_module": "@jupyter-widgets/controls",
          "model_module_version": "1.5.0",
          "model_name": "DescriptionStyleModel",
          "state": {
            "_model_module": "@jupyter-widgets/controls",
            "_model_module_version": "1.5.0",
            "_model_name": "DescriptionStyleModel",
            "_view_count": null,
            "_view_module": "@jupyter-widgets/base",
            "_view_module_version": "1.2.0",
            "_view_name": "StyleView",
            "description_width": ""
          }
        },
        "195fab2a44644458a12c531e049c88b9": {
          "model_module": "@jupyter-widgets/controls",
          "model_module_version": "1.5.0",
          "model_name": "DescriptionStyleModel",
          "state": {
            "_model_module": "@jupyter-widgets/controls",
            "_model_module_version": "1.5.0",
            "_model_name": "DescriptionStyleModel",
            "_view_count": null,
            "_view_module": "@jupyter-widgets/base",
            "_view_module_version": "1.2.0",
            "_view_name": "StyleView",
            "description_width": ""
          }
        },
        "1b936ba7bfe24cbdbe1df15b91ded99c": {
          "model_module": "@jupyter-widgets/controls",
          "model_module_version": "1.5.0",
          "model_name": "FloatProgressModel",
          "state": {
            "_dom_classes": [],
            "_model_module": "@jupyter-widgets/controls",
            "_model_module_version": "1.5.0",
            "_model_name": "FloatProgressModel",
            "_view_count": null,
            "_view_module": "@jupyter-widgets/controls",
            "_view_module_version": "1.5.0",
            "_view_name": "ProgressView",
            "bar_style": "success",
            "description": "",
            "description_tooltip": null,
            "layout": "IPY_MODEL_c342cd644da24fcfb6aacd2aaed91a8c",
            "max": 1554,
            "min": 0,
            "orientation": "horizontal",
            "style": "IPY_MODEL_32f4c87737684b3d9ad1ca80ccfca656",
            "value": 1554
          }
        },
        "1badc4c28ced49028546abcde5201d2c": {
          "model_module": "@jupyter-widgets/base",
          "model_module_version": "1.2.0",
          "model_name": "LayoutModel",
          "state": {
            "_model_module": "@jupyter-widgets/base",
            "_model_module_version": "1.2.0",
            "_model_name": "LayoutModel",
            "_view_count": null,
            "_view_module": "@jupyter-widgets/base",
            "_view_module_version": "1.2.0",
            "_view_name": "LayoutView",
            "align_content": null,
            "align_items": null,
            "align_self": null,
            "border": null,
            "bottom": null,
            "display": null,
            "flex": null,
            "flex_flow": null,
            "grid_area": null,
            "grid_auto_columns": null,
            "grid_auto_flow": null,
            "grid_auto_rows": null,
            "grid_column": null,
            "grid_gap": null,
            "grid_row": null,
            "grid_template_areas": null,
            "grid_template_columns": null,
            "grid_template_rows": null,
            "height": null,
            "justify_content": null,
            "justify_items": null,
            "left": null,
            "margin": null,
            "max_height": null,
            "max_width": null,
            "min_height": null,
            "min_width": null,
            "object_fit": null,
            "object_position": null,
            "order": null,
            "overflow": null,
            "overflow_x": null,
            "overflow_y": null,
            "padding": null,
            "right": null,
            "top": null,
            "visibility": null,
            "width": null
          }
        },
        "1bc10869dc8149948d259fee53b18a7b": {
          "model_module": "@jupyter-widgets/controls",
          "model_module_version": "1.5.0",
          "model_name": "DescriptionStyleModel",
          "state": {
            "_model_module": "@jupyter-widgets/controls",
            "_model_module_version": "1.5.0",
            "_model_name": "DescriptionStyleModel",
            "_view_count": null,
            "_view_module": "@jupyter-widgets/base",
            "_view_module_version": "1.2.0",
            "_view_name": "StyleView",
            "description_width": ""
          }
        },
        "209f0e678ddd47a794bd20d2bae3a1b9": {
          "model_module": "@jupyter-widgets/controls",
          "model_module_version": "1.5.0",
          "model_name": "HTMLModel",
          "state": {
            "_dom_classes": [],
            "_model_module": "@jupyter-widgets/controls",
            "_model_module_version": "1.5.0",
            "_model_name": "HTMLModel",
            "_view_count": null,
            "_view_module": "@jupyter-widgets/controls",
            "_view_module_version": "1.5.0",
            "_view_name": "HTMLView",
            "description": "",
            "description_tooltip": null,
            "layout": "IPY_MODEL_918009a5ef8847b58ba90cdc1a71d8dd",
            "placeholder": "​",
            "style": "IPY_MODEL_0b0c550ac4e24d6f8f61dca6d56b7cf2",
            "value": " 1000/1000 [00:00&lt;00:00, 20206.70 examples/s]"
          }
        },
        "217600673f674b0fa7804b8432fcca6e": {
          "model_module": "@jupyter-widgets/base",
          "model_module_version": "1.2.0",
          "model_name": "LayoutModel",
          "state": {
            "_model_module": "@jupyter-widgets/base",
            "_model_module_version": "1.2.0",
            "_model_name": "LayoutModel",
            "_view_count": null,
            "_view_module": "@jupyter-widgets/base",
            "_view_module_version": "1.2.0",
            "_view_name": "LayoutView",
            "align_content": null,
            "align_items": null,
            "align_self": null,
            "border": null,
            "bottom": null,
            "display": null,
            "flex": null,
            "flex_flow": null,
            "grid_area": null,
            "grid_auto_columns": null,
            "grid_auto_flow": null,
            "grid_auto_rows": null,
            "grid_column": null,
            "grid_gap": null,
            "grid_row": null,
            "grid_template_areas": null,
            "grid_template_columns": null,
            "grid_template_rows": null,
            "height": null,
            "justify_content": null,
            "justify_items": null,
            "left": null,
            "margin": null,
            "max_height": null,
            "max_width": null,
            "min_height": null,
            "min_width": null,
            "object_fit": null,
            "object_position": null,
            "order": null,
            "overflow": null,
            "overflow_x": null,
            "overflow_y": null,
            "padding": null,
            "right": null,
            "top": null,
            "visibility": null,
            "width": null
          }
        },
        "231867e28ae34509bbddfe0428524b27": {
          "model_module": "@jupyter-widgets/base",
          "model_module_version": "1.2.0",
          "model_name": "LayoutModel",
          "state": {
            "_model_module": "@jupyter-widgets/base",
            "_model_module_version": "1.2.0",
            "_model_name": "LayoutModel",
            "_view_count": null,
            "_view_module": "@jupyter-widgets/base",
            "_view_module_version": "1.2.0",
            "_view_name": "LayoutView",
            "align_content": null,
            "align_items": null,
            "align_self": null,
            "border": null,
            "bottom": null,
            "display": null,
            "flex": null,
            "flex_flow": null,
            "grid_area": null,
            "grid_auto_columns": null,
            "grid_auto_flow": null,
            "grid_auto_rows": null,
            "grid_column": null,
            "grid_gap": null,
            "grid_row": null,
            "grid_template_areas": null,
            "grid_template_columns": null,
            "grid_template_rows": null,
            "height": null,
            "justify_content": null,
            "justify_items": null,
            "left": null,
            "margin": null,
            "max_height": null,
            "max_width": null,
            "min_height": null,
            "min_width": null,
            "object_fit": null,
            "object_position": null,
            "order": null,
            "overflow": null,
            "overflow_x": null,
            "overflow_y": null,
            "padding": null,
            "right": null,
            "top": null,
            "visibility": null,
            "width": null
          }
        },
        "269b171ebc6942bd9ddeada5ee6ea0b4": {
          "model_module": "@jupyter-widgets/base",
          "model_module_version": "1.2.0",
          "model_name": "LayoutModel",
          "state": {
            "_model_module": "@jupyter-widgets/base",
            "_model_module_version": "1.2.0",
            "_model_name": "LayoutModel",
            "_view_count": null,
            "_view_module": "@jupyter-widgets/base",
            "_view_module_version": "1.2.0",
            "_view_name": "LayoutView",
            "align_content": null,
            "align_items": null,
            "align_self": null,
            "border": null,
            "bottom": null,
            "display": null,
            "flex": null,
            "flex_flow": null,
            "grid_area": null,
            "grid_auto_columns": null,
            "grid_auto_flow": null,
            "grid_auto_rows": null,
            "grid_column": null,
            "grid_gap": null,
            "grid_row": null,
            "grid_template_areas": null,
            "grid_template_columns": null,
            "grid_template_rows": null,
            "height": null,
            "justify_content": null,
            "justify_items": null,
            "left": null,
            "margin": null,
            "max_height": null,
            "max_width": null,
            "min_height": null,
            "min_width": null,
            "object_fit": null,
            "object_position": null,
            "order": null,
            "overflow": null,
            "overflow_x": null,
            "overflow_y": null,
            "padding": null,
            "right": null,
            "top": null,
            "visibility": null,
            "width": null
          }
        },
        "26f51b26fb0b41b48a715b6ac0babd2e": {
          "model_module": "@jupyter-widgets/base",
          "model_module_version": "1.2.0",
          "model_name": "LayoutModel",
          "state": {
            "_model_module": "@jupyter-widgets/base",
            "_model_module_version": "1.2.0",
            "_model_name": "LayoutModel",
            "_view_count": null,
            "_view_module": "@jupyter-widgets/base",
            "_view_module_version": "1.2.0",
            "_view_name": "LayoutView",
            "align_content": null,
            "align_items": null,
            "align_self": null,
            "border": null,
            "bottom": null,
            "display": null,
            "flex": null,
            "flex_flow": null,
            "grid_area": null,
            "grid_auto_columns": null,
            "grid_auto_flow": null,
            "grid_auto_rows": null,
            "grid_column": null,
            "grid_gap": null,
            "grid_row": null,
            "grid_template_areas": null,
            "grid_template_columns": null,
            "grid_template_rows": null,
            "height": null,
            "justify_content": null,
            "justify_items": null,
            "left": null,
            "margin": null,
            "max_height": null,
            "max_width": null,
            "min_height": null,
            "min_width": null,
            "object_fit": null,
            "object_position": null,
            "order": null,
            "overflow": null,
            "overflow_x": null,
            "overflow_y": null,
            "padding": null,
            "right": null,
            "top": null,
            "visibility": null,
            "width": null
          }
        },
        "28b58823c2af47c0926937702a07f60a": {
          "model_module": "@jupyter-widgets/base",
          "model_module_version": "1.2.0",
          "model_name": "LayoutModel",
          "state": {
            "_model_module": "@jupyter-widgets/base",
            "_model_module_version": "1.2.0",
            "_model_name": "LayoutModel",
            "_view_count": null,
            "_view_module": "@jupyter-widgets/base",
            "_view_module_version": "1.2.0",
            "_view_name": "LayoutView",
            "align_content": null,
            "align_items": null,
            "align_self": null,
            "border": null,
            "bottom": null,
            "display": null,
            "flex": null,
            "flex_flow": null,
            "grid_area": null,
            "grid_auto_columns": null,
            "grid_auto_flow": null,
            "grid_auto_rows": null,
            "grid_column": null,
            "grid_gap": null,
            "grid_row": null,
            "grid_template_areas": null,
            "grid_template_columns": null,
            "grid_template_rows": null,
            "height": null,
            "justify_content": null,
            "justify_items": null,
            "left": null,
            "margin": null,
            "max_height": null,
            "max_width": null,
            "min_height": null,
            "min_width": null,
            "object_fit": null,
            "object_position": null,
            "order": null,
            "overflow": null,
            "overflow_x": null,
            "overflow_y": null,
            "padding": null,
            "right": null,
            "top": null,
            "visibility": null,
            "width": null
          }
        },
        "29aca8f09d0d4ddd9bd2805c177f4b89": {
          "model_module": "@jupyter-widgets/base",
          "model_module_version": "1.2.0",
          "model_name": "LayoutModel",
          "state": {
            "_model_module": "@jupyter-widgets/base",
            "_model_module_version": "1.2.0",
            "_model_name": "LayoutModel",
            "_view_count": null,
            "_view_module": "@jupyter-widgets/base",
            "_view_module_version": "1.2.0",
            "_view_name": "LayoutView",
            "align_content": null,
            "align_items": null,
            "align_self": null,
            "border": null,
            "bottom": null,
            "display": null,
            "flex": null,
            "flex_flow": null,
            "grid_area": null,
            "grid_auto_columns": null,
            "grid_auto_flow": null,
            "grid_auto_rows": null,
            "grid_column": null,
            "grid_gap": null,
            "grid_row": null,
            "grid_template_areas": null,
            "grid_template_columns": null,
            "grid_template_rows": null,
            "height": null,
            "justify_content": null,
            "justify_items": null,
            "left": null,
            "margin": null,
            "max_height": null,
            "max_width": null,
            "min_height": null,
            "min_width": null,
            "object_fit": null,
            "object_position": null,
            "order": null,
            "overflow": null,
            "overflow_x": null,
            "overflow_y": null,
            "padding": null,
            "right": null,
            "top": null,
            "visibility": null,
            "width": null
          }
        },
        "2a23b1900bfb4c23acaff2cff11a9ca1": {
          "model_module": "@jupyter-widgets/controls",
          "model_module_version": "1.5.0",
          "model_name": "HTMLModel",
          "state": {
            "_dom_classes": [],
            "_model_module": "@jupyter-widgets/controls",
            "_model_module_version": "1.5.0",
            "_model_name": "HTMLModel",
            "_view_count": null,
            "_view_module": "@jupyter-widgets/controls",
            "_view_module_version": "1.5.0",
            "_view_name": "HTMLView",
            "description": "",
            "description_tooltip": null,
            "layout": "IPY_MODEL_74d63b7fc3934d98ba257a15d9ed00ff",
            "placeholder": "​",
            "style": "IPY_MODEL_4aba6f133bb840dea20d94ba842ebf54",
            "value": "Map: 100%"
          }
        },
        "2b4fbdf2710c480c86951ba9208143d9": {
          "model_module": "@jupyter-widgets/controls",
          "model_module_version": "1.5.0",
          "model_name": "HTMLModel",
          "state": {
            "_dom_classes": [],
            "_model_module": "@jupyter-widgets/controls",
            "_model_module_version": "1.5.0",
            "_model_name": "HTMLModel",
            "_view_count": null,
            "_view_module": "@jupyter-widgets/controls",
            "_view_module_version": "1.5.0",
            "_view_name": "HTMLView",
            "description": "",
            "description_tooltip": null,
            "layout": "IPY_MODEL_28b58823c2af47c0926937702a07f60a",
            "placeholder": "​",
            "style": "IPY_MODEL_a61e7f1025c64f888e28d4fc0de3cbbb",
            "value": "Map: 100%"
          }
        },
        "2da2cae3e5f3468ea8ad841ce799a588": {
          "model_module": "@jupyter-widgets/base",
          "model_module_version": "1.2.0",
          "model_name": "LayoutModel",
          "state": {
            "_model_module": "@jupyter-widgets/base",
            "_model_module_version": "1.2.0",
            "_model_name": "LayoutModel",
            "_view_count": null,
            "_view_module": "@jupyter-widgets/base",
            "_view_module_version": "1.2.0",
            "_view_name": "LayoutView",
            "align_content": null,
            "align_items": null,
            "align_self": null,
            "border": null,
            "bottom": null,
            "display": null,
            "flex": null,
            "flex_flow": null,
            "grid_area": null,
            "grid_auto_columns": null,
            "grid_auto_flow": null,
            "grid_auto_rows": null,
            "grid_column": null,
            "grid_gap": null,
            "grid_row": null,
            "grid_template_areas": null,
            "grid_template_columns": null,
            "grid_template_rows": null,
            "height": null,
            "justify_content": null,
            "justify_items": null,
            "left": null,
            "margin": null,
            "max_height": null,
            "max_width": null,
            "min_height": null,
            "min_width": null,
            "object_fit": null,
            "object_position": null,
            "order": null,
            "overflow": null,
            "overflow_x": null,
            "overflow_y": null,
            "padding": null,
            "right": null,
            "top": null,
            "visibility": null,
            "width": null
          }
        },
        "2ecbdfe081a14b649c1bf3ab6a160ef8": {
          "model_module": "@jupyter-widgets/base",
          "model_module_version": "1.2.0",
          "model_name": "LayoutModel",
          "state": {
            "_model_module": "@jupyter-widgets/base",
            "_model_module_version": "1.2.0",
            "_model_name": "LayoutModel",
            "_view_count": null,
            "_view_module": "@jupyter-widgets/base",
            "_view_module_version": "1.2.0",
            "_view_name": "LayoutView",
            "align_content": null,
            "align_items": null,
            "align_self": null,
            "border": null,
            "bottom": null,
            "display": null,
            "flex": null,
            "flex_flow": null,
            "grid_area": null,
            "grid_auto_columns": null,
            "grid_auto_flow": null,
            "grid_auto_rows": null,
            "grid_column": null,
            "grid_gap": null,
            "grid_row": null,
            "grid_template_areas": null,
            "grid_template_columns": null,
            "grid_template_rows": null,
            "height": null,
            "justify_content": null,
            "justify_items": null,
            "left": null,
            "margin": null,
            "max_height": null,
            "max_width": null,
            "min_height": null,
            "min_width": null,
            "object_fit": null,
            "object_position": null,
            "order": null,
            "overflow": null,
            "overflow_x": null,
            "overflow_y": null,
            "padding": null,
            "right": null,
            "top": null,
            "visibility": null,
            "width": null
          }
        },
        "2efda05d7c864fada138d1859f3f58ca": {
          "model_module": "@jupyter-widgets/base",
          "model_module_version": "1.2.0",
          "model_name": "LayoutModel",
          "state": {
            "_model_module": "@jupyter-widgets/base",
            "_model_module_version": "1.2.0",
            "_model_name": "LayoutModel",
            "_view_count": null,
            "_view_module": "@jupyter-widgets/base",
            "_view_module_version": "1.2.0",
            "_view_name": "LayoutView",
            "align_content": null,
            "align_items": null,
            "align_self": null,
            "border": null,
            "bottom": null,
            "display": null,
            "flex": null,
            "flex_flow": null,
            "grid_area": null,
            "grid_auto_columns": null,
            "grid_auto_flow": null,
            "grid_auto_rows": null,
            "grid_column": null,
            "grid_gap": null,
            "grid_row": null,
            "grid_template_areas": null,
            "grid_template_columns": null,
            "grid_template_rows": null,
            "height": null,
            "justify_content": null,
            "justify_items": null,
            "left": null,
            "margin": null,
            "max_height": null,
            "max_width": null,
            "min_height": null,
            "min_width": null,
            "object_fit": null,
            "object_position": null,
            "order": null,
            "overflow": null,
            "overflow_x": null,
            "overflow_y": null,
            "padding": null,
            "right": null,
            "top": null,
            "visibility": null,
            "width": null
          }
        },
        "2f2a51fb58254a9a9a1eace19d8979f1": {
          "model_module": "@jupyter-widgets/controls",
          "model_module_version": "1.5.0",
          "model_name": "FloatProgressModel",
          "state": {
            "_dom_classes": [],
            "_model_module": "@jupyter-widgets/controls",
            "_model_module_version": "1.5.0",
            "_model_name": "FloatProgressModel",
            "_view_count": null,
            "_view_module": "@jupyter-widgets/controls",
            "_view_module_version": "1.5.0",
            "_view_name": "ProgressView",
            "bar_style": "success",
            "description": "",
            "description_tooltip": null,
            "layout": "IPY_MODEL_1777d9ea6c28455783b3af36e0ae0cf0",
            "max": 1014,
            "min": 0,
            "orientation": "horizontal",
            "style": "IPY_MODEL_ce3ee46c77534c148cf430c59b56d3e7",
            "value": 1014
          }
        },
        "312d6713223f40cf8308bad5246d4a58": {
          "model_module": "@jupyter-widgets/controls",
          "model_module_version": "1.5.0",
          "model_name": "HBoxModel",
          "state": {
            "_dom_classes": [],
            "_model_module": "@jupyter-widgets/controls",
            "_model_module_version": "1.5.0",
            "_model_name": "HBoxModel",
            "_view_count": null,
            "_view_module": "@jupyter-widgets/controls",
            "_view_module_version": "1.5.0",
            "_view_name": "HBoxView",
            "box_style": "",
            "children": [
              "IPY_MODEL_8624f736dae74c31bea56cea1f06496d",
              "IPY_MODEL_96172c03ee8c40f2b42dedf818dbe1e4",
              "IPY_MODEL_e10114eb04ba4093b7032c218d325599"
            ],
            "layout": "IPY_MODEL_bd7a8a1cbfe944a8917f530fbeb8c822"
          }
        },
        "31a25db5fe774c82b54d482fe39bb695": {
          "model_module": "@jupyter-widgets/controls",
          "model_module_version": "1.5.0",
          "model_name": "DescriptionStyleModel",
          "state": {
            "_model_module": "@jupyter-widgets/controls",
            "_model_module_version": "1.5.0",
            "_model_name": "DescriptionStyleModel",
            "_view_count": null,
            "_view_module": "@jupyter-widgets/base",
            "_view_module_version": "1.2.0",
            "_view_name": "StyleView",
            "description_width": ""
          }
        },
        "3237d114eaa5452a9be50ea6098e1b7a": {
          "model_module": "@jupyter-widgets/controls",
          "model_module_version": "1.5.0",
          "model_name": "DescriptionStyleModel",
          "state": {
            "_model_module": "@jupyter-widgets/controls",
            "_model_module_version": "1.5.0",
            "_model_name": "DescriptionStyleModel",
            "_view_count": null,
            "_view_module": "@jupyter-widgets/base",
            "_view_module_version": "1.2.0",
            "_view_name": "StyleView",
            "description_width": ""
          }
        },
        "32f4c87737684b3d9ad1ca80ccfca656": {
          "model_module": "@jupyter-widgets/controls",
          "model_module_version": "1.5.0",
          "model_name": "ProgressStyleModel",
          "state": {
            "_model_module": "@jupyter-widgets/controls",
            "_model_module_version": "1.5.0",
            "_model_name": "ProgressStyleModel",
            "_view_count": null,
            "_view_module": "@jupyter-widgets/base",
            "_view_module_version": "1.2.0",
            "_view_name": "StyleView",
            "bar_color": null,
            "description_width": ""
          }
        },
        "34dbd0b64a9344b1b91dbf353a2785a9": {
          "model_module": "@jupyter-widgets/controls",
          "model_module_version": "1.5.0",
          "model_name": "HTMLModel",
          "state": {
            "_dom_classes": [],
            "_model_module": "@jupyter-widgets/controls",
            "_model_module_version": "1.5.0",
            "_model_name": "HTMLModel",
            "_view_count": null,
            "_view_module": "@jupyter-widgets/controls",
            "_view_module_version": "1.5.0",
            "_view_name": "HTMLView",
            "description": "",
            "description_tooltip": null,
            "layout": "IPY_MODEL_63147a598548497b9afb957c9202fd1a",
            "placeholder": "​",
            "style": "IPY_MODEL_b0b3c9b3443845e9b34efe91407cf8ae",
            "value": "val.jsonl: 100%"
          }
        },
        "36fa7a61bb7d499db06c8799a85b787d": {
          "model_module": "@jupyter-widgets/controls",
          "model_module_version": "1.5.0",
          "model_name": "DescriptionStyleModel",
          "state": {
            "_model_module": "@jupyter-widgets/controls",
            "_model_module_version": "1.5.0",
            "_model_name": "DescriptionStyleModel",
            "_view_count": null,
            "_view_module": "@jupyter-widgets/base",
            "_view_module_version": "1.2.0",
            "_view_name": "StyleView",
            "description_width": ""
          }
        },
        "3736803b435e4869b486adeca9244d29": {
          "model_module": "@jupyter-widgets/base",
          "model_module_version": "1.2.0",
          "model_name": "LayoutModel",
          "state": {
            "_model_module": "@jupyter-widgets/base",
            "_model_module_version": "1.2.0",
            "_model_name": "LayoutModel",
            "_view_count": null,
            "_view_module": "@jupyter-widgets/base",
            "_view_module_version": "1.2.0",
            "_view_name": "LayoutView",
            "align_content": null,
            "align_items": null,
            "align_self": null,
            "border": null,
            "bottom": null,
            "display": null,
            "flex": null,
            "flex_flow": null,
            "grid_area": null,
            "grid_auto_columns": null,
            "grid_auto_flow": null,
            "grid_auto_rows": null,
            "grid_column": null,
            "grid_gap": null,
            "grid_row": null,
            "grid_template_areas": null,
            "grid_template_columns": null,
            "grid_template_rows": null,
            "height": null,
            "justify_content": null,
            "justify_items": null,
            "left": null,
            "margin": null,
            "max_height": null,
            "max_width": null,
            "min_height": null,
            "min_width": null,
            "object_fit": null,
            "object_position": null,
            "order": null,
            "overflow": null,
            "overflow_x": null,
            "overflow_y": null,
            "padding": null,
            "right": null,
            "top": null,
            "visibility": null,
            "width": null
          }
        },
        "3739bb108a604314852f2245ad25f191": {
          "model_module": "@jupyter-widgets/controls",
          "model_module_version": "1.5.0",
          "model_name": "HBoxModel",
          "state": {
            "_dom_classes": [],
            "_model_module": "@jupyter-widgets/controls",
            "_model_module_version": "1.5.0",
            "_model_name": "HBoxModel",
            "_view_count": null,
            "_view_module": "@jupyter-widgets/controls",
            "_view_module_version": "1.5.0",
            "_view_name": "HBoxView",
            "box_style": "",
            "children": [
              "IPY_MODEL_c58915c74dea4002956effa4a9c16e6f",
              "IPY_MODEL_f613406005154a3f95323369c5d1b50e",
              "IPY_MODEL_ab351a01d262418e86ad5217d2219ab0"
            ],
            "layout": "IPY_MODEL_47ec00c426114696a9612ee1c99b7647"
          }
        },
        "37e855cd31b04b7c896fdc1f579b759a": {
          "model_module": "@jupyter-widgets/base",
          "model_module_version": "1.2.0",
          "model_name": "LayoutModel",
          "state": {
            "_model_module": "@jupyter-widgets/base",
            "_model_module_version": "1.2.0",
            "_model_name": "LayoutModel",
            "_view_count": null,
            "_view_module": "@jupyter-widgets/base",
            "_view_module_version": "1.2.0",
            "_view_name": "LayoutView",
            "align_content": null,
            "align_items": null,
            "align_self": null,
            "border": null,
            "bottom": null,
            "display": null,
            "flex": null,
            "flex_flow": null,
            "grid_area": null,
            "grid_auto_columns": null,
            "grid_auto_flow": null,
            "grid_auto_rows": null,
            "grid_column": null,
            "grid_gap": null,
            "grid_row": null,
            "grid_template_areas": null,
            "grid_template_columns": null,
            "grid_template_rows": null,
            "height": null,
            "justify_content": null,
            "justify_items": null,
            "left": null,
            "margin": null,
            "max_height": null,
            "max_width": null,
            "min_height": null,
            "min_width": null,
            "object_fit": null,
            "object_position": null,
            "order": null,
            "overflow": null,
            "overflow_x": null,
            "overflow_y": null,
            "padding": null,
            "right": null,
            "top": null,
            "visibility": null,
            "width": null
          }
        },
        "383268fb6fb345a28d2c52c09c0195b8": {
          "model_module": "@jupyter-widgets/controls",
          "model_module_version": "1.5.0",
          "model_name": "DescriptionStyleModel",
          "state": {
            "_model_module": "@jupyter-widgets/controls",
            "_model_module_version": "1.5.0",
            "_model_name": "DescriptionStyleModel",
            "_view_count": null,
            "_view_module": "@jupyter-widgets/base",
            "_view_module_version": "1.2.0",
            "_view_name": "StyleView",
            "description_width": ""
          }
        },
        "3ba1cf351354462eae531241c814325f": {
          "model_module": "@jupyter-widgets/base",
          "model_module_version": "1.2.0",
          "model_name": "LayoutModel",
          "state": {
            "_model_module": "@jupyter-widgets/base",
            "_model_module_version": "1.2.0",
            "_model_name": "LayoutModel",
            "_view_count": null,
            "_view_module": "@jupyter-widgets/base",
            "_view_module_version": "1.2.0",
            "_view_name": "LayoutView",
            "align_content": null,
            "align_items": null,
            "align_self": null,
            "border": null,
            "bottom": null,
            "display": null,
            "flex": null,
            "flex_flow": null,
            "grid_area": null,
            "grid_auto_columns": null,
            "grid_auto_flow": null,
            "grid_auto_rows": null,
            "grid_column": null,
            "grid_gap": null,
            "grid_row": null,
            "grid_template_areas": null,
            "grid_template_columns": null,
            "grid_template_rows": null,
            "height": null,
            "justify_content": null,
            "justify_items": null,
            "left": null,
            "margin": null,
            "max_height": null,
            "max_width": null,
            "min_height": null,
            "min_width": null,
            "object_fit": null,
            "object_position": null,
            "order": null,
            "overflow": null,
            "overflow_x": null,
            "overflow_y": null,
            "padding": null,
            "right": null,
            "top": null,
            "visibility": null,
            "width": null
          }
        },
        "3bd095824b2746cfbbb7888d11651f77": {
          "model_module": "@jupyter-widgets/controls",
          "model_module_version": "1.5.0",
          "model_name": "DescriptionStyleModel",
          "state": {
            "_model_module": "@jupyter-widgets/controls",
            "_model_module_version": "1.5.0",
            "_model_name": "DescriptionStyleModel",
            "_view_count": null,
            "_view_module": "@jupyter-widgets/base",
            "_view_module_version": "1.2.0",
            "_view_name": "StyleView",
            "description_width": ""
          }
        },
        "3c5d7bd545004c5b99d9054c9ea199a7": {
          "model_module": "@jupyter-widgets/controls",
          "model_module_version": "1.5.0",
          "model_name": "DescriptionStyleModel",
          "state": {
            "_model_module": "@jupyter-widgets/controls",
            "_model_module_version": "1.5.0",
            "_model_name": "DescriptionStyleModel",
            "_view_count": null,
            "_view_module": "@jupyter-widgets/base",
            "_view_module_version": "1.2.0",
            "_view_name": "StyleView",
            "description_width": ""
          }
        },
        "3e48b44fdd8f4cdabf297059905427b3": {
          "model_module": "@jupyter-widgets/controls",
          "model_module_version": "1.5.0",
          "model_name": "DescriptionStyleModel",
          "state": {
            "_model_module": "@jupyter-widgets/controls",
            "_model_module_version": "1.5.0",
            "_model_name": "DescriptionStyleModel",
            "_view_count": null,
            "_view_module": "@jupyter-widgets/base",
            "_view_module_version": "1.2.0",
            "_view_name": "StyleView",
            "description_width": ""
          }
        },
        "3f2e18debe9647f589faaaa633acdf89": {
          "model_module": "@jupyter-widgets/base",
          "model_module_version": "1.2.0",
          "model_name": "LayoutModel",
          "state": {
            "_model_module": "@jupyter-widgets/base",
            "_model_module_version": "1.2.0",
            "_model_name": "LayoutModel",
            "_view_count": null,
            "_view_module": "@jupyter-widgets/base",
            "_view_module_version": "1.2.0",
            "_view_name": "LayoutView",
            "align_content": null,
            "align_items": null,
            "align_self": null,
            "border": null,
            "bottom": null,
            "display": null,
            "flex": null,
            "flex_flow": null,
            "grid_area": null,
            "grid_auto_columns": null,
            "grid_auto_flow": null,
            "grid_auto_rows": null,
            "grid_column": null,
            "grid_gap": null,
            "grid_row": null,
            "grid_template_areas": null,
            "grid_template_columns": null,
            "grid_template_rows": null,
            "height": null,
            "justify_content": null,
            "justify_items": null,
            "left": null,
            "margin": null,
            "max_height": null,
            "max_width": null,
            "min_height": null,
            "min_width": null,
            "object_fit": null,
            "object_position": null,
            "order": null,
            "overflow": null,
            "overflow_x": null,
            "overflow_y": null,
            "padding": null,
            "right": null,
            "top": null,
            "visibility": null,
            "width": null
          }
        },
        "3fcc06ddff764431827d1b2a5ea93b7c": {
          "model_module": "@jupyter-widgets/controls",
          "model_module_version": "1.5.0",
          "model_name": "HTMLModel",
          "state": {
            "_dom_classes": [],
            "_model_module": "@jupyter-widgets/controls",
            "_model_module_version": "1.5.0",
            "_model_name": "HTMLModel",
            "_view_count": null,
            "_view_module": "@jupyter-widgets/controls",
            "_view_module_version": "1.5.0",
            "_view_name": "HTMLView",
            "description": "",
            "description_tooltip": null,
            "layout": "IPY_MODEL_ccdb24b5be1f4e8585a3dc0209236ff9",
            "placeholder": "​",
            "style": "IPY_MODEL_17c802e137b141d39902621efdd63f67",
            "value": " 1014/1014 [00:00&lt;00:00, 1791.70 examples/s]"
          }
        },
        "4347563e9ea342099f2ac5358d752df0": {
          "model_module": "@jupyter-widgets/controls",
          "model_module_version": "1.5.0",
          "model_name": "HTMLModel",
          "state": {
            "_dom_classes": [],
            "_model_module": "@jupyter-widgets/controls",
            "_model_module_version": "1.5.0",
            "_model_name": "HTMLModel",
            "_view_count": null,
            "_view_module": "@jupyter-widgets/controls",
            "_view_module_version": "1.5.0",
            "_view_name": "HTMLView",
            "description": "",
            "description_tooltip": null,
            "layout": "IPY_MODEL_bacecfba9f964972b5464f65f943e499",
            "placeholder": "​",
            "style": "IPY_MODEL_098cad40960d4104be49a1dcaeb41c24",
            "value": " 1014/1014 [00:00&lt;00:00, 6983.39 examples/s]"
          }
        },
        "4442c39672cd4e37926a067e3dbbdc81": {
          "model_module": "@jupyter-widgets/controls",
          "model_module_version": "1.5.0",
          "model_name": "HBoxModel",
          "state": {
            "_dom_classes": [],
            "_model_module": "@jupyter-widgets/controls",
            "_model_module_version": "1.5.0",
            "_model_name": "HBoxModel",
            "_view_count": null,
            "_view_module": "@jupyter-widgets/controls",
            "_view_module_version": "1.5.0",
            "_view_name": "HBoxView",
            "box_style": "",
            "children": [
              "IPY_MODEL_76f7a0dac2b041899960a4fe8f46273e",
              "IPY_MODEL_f655757a4fc749389bc9f8e2ced451be",
              "IPY_MODEL_7a6259a1413640be81944cfc819e1c56"
            ],
            "layout": "IPY_MODEL_9333824a6c52455fb7f3a0a6f2b7b486"
          }
        },
        "47ec00c426114696a9612ee1c99b7647": {
          "model_module": "@jupyter-widgets/base",
          "model_module_version": "1.2.0",
          "model_name": "LayoutModel",
          "state": {
            "_model_module": "@jupyter-widgets/base",
            "_model_module_version": "1.2.0",
            "_model_name": "LayoutModel",
            "_view_count": null,
            "_view_module": "@jupyter-widgets/base",
            "_view_module_version": "1.2.0",
            "_view_name": "LayoutView",
            "align_content": null,
            "align_items": null,
            "align_self": null,
            "border": null,
            "bottom": null,
            "display": null,
            "flex": null,
            "flex_flow": null,
            "grid_area": null,
            "grid_auto_columns": null,
            "grid_auto_flow": null,
            "grid_auto_rows": null,
            "grid_column": null,
            "grid_gap": null,
            "grid_row": null,
            "grid_template_areas": null,
            "grid_template_columns": null,
            "grid_template_rows": null,
            "height": null,
            "justify_content": null,
            "justify_items": null,
            "left": null,
            "margin": null,
            "max_height": null,
            "max_width": null,
            "min_height": null,
            "min_width": null,
            "object_fit": null,
            "object_position": null,
            "order": null,
            "overflow": null,
            "overflow_x": null,
            "overflow_y": null,
            "padding": null,
            "right": null,
            "top": null,
            "visibility": null,
            "width": null
          }
        },
        "4a268d9a48f84a8fa318384216646b1b": {
          "model_module": "@jupyter-widgets/controls",
          "model_module_version": "1.5.0",
          "model_name": "HTMLModel",
          "state": {
            "_dom_classes": [],
            "_model_module": "@jupyter-widgets/controls",
            "_model_module_version": "1.5.0",
            "_model_name": "HTMLModel",
            "_view_count": null,
            "_view_module": "@jupyter-widgets/controls",
            "_view_module_version": "1.5.0",
            "_view_name": "HTMLView",
            "description": "",
            "description_tooltip": null,
            "layout": "IPY_MODEL_b7032bd4433f4a71947c07ddeee2f3d9",
            "placeholder": "​",
            "style": "IPY_MODEL_963fa81fe032458f8bde7b3e34411edd",
            "value": "Map: 100%"
          }
        },
        "4aba6f133bb840dea20d94ba842ebf54": {
          "model_module": "@jupyter-widgets/controls",
          "model_module_version": "1.5.0",
          "model_name": "DescriptionStyleModel",
          "state": {
            "_model_module": "@jupyter-widgets/controls",
            "_model_module_version": "1.5.0",
            "_model_name": "DescriptionStyleModel",
            "_view_count": null,
            "_view_module": "@jupyter-widgets/base",
            "_view_module_version": "1.2.0",
            "_view_name": "StyleView",
            "description_width": ""
          }
        },
        "4bb5397a94bc4386a7a6f6db351d41ac": {
          "model_module": "@jupyter-widgets/controls",
          "model_module_version": "1.5.0",
          "model_name": "HTMLModel",
          "state": {
            "_dom_classes": [],
            "_model_module": "@jupyter-widgets/controls",
            "_model_module_version": "1.5.0",
            "_model_name": "HTMLModel",
            "_view_count": null,
            "_view_module": "@jupyter-widgets/controls",
            "_view_module_version": "1.5.0",
            "_view_name": "HTMLView",
            "description": "",
            "description_tooltip": null,
            "layout": "IPY_MODEL_a9aa174885144bc5bb26e7ce747032ce",
            "placeholder": "​",
            "style": "IPY_MODEL_68388dd0f4794637b1b10f1c276f8a30",
            "value": "Generating validation split: 100%"
          }
        },
        "4bdbd6c090d94eab82b243462178cdf7": {
          "model_module": "@jupyter-widgets/controls",
          "model_module_version": "1.5.0",
          "model_name": "ProgressStyleModel",
          "state": {
            "_model_module": "@jupyter-widgets/controls",
            "_model_module_version": "1.5.0",
            "_model_name": "ProgressStyleModel",
            "_view_count": null,
            "_view_module": "@jupyter-widgets/base",
            "_view_module_version": "1.2.0",
            "_view_name": "StyleView",
            "bar_color": null,
            "description_width": ""
          }
        },
        "4d25c3fd035045568562e981523a2a46": {
          "model_module": "@jupyter-widgets/controls",
          "model_module_version": "1.5.0",
          "model_name": "HBoxModel",
          "state": {
            "_dom_classes": [],
            "_model_module": "@jupyter-widgets/controls",
            "_model_module_version": "1.5.0",
            "_model_name": "HBoxModel",
            "_view_count": null,
            "_view_module": "@jupyter-widgets/controls",
            "_view_module_version": "1.5.0",
            "_view_name": "HBoxView",
            "box_style": "",
            "children": [
              "IPY_MODEL_2b4fbdf2710c480c86951ba9208143d9",
              "IPY_MODEL_b4c23388b8824692a03ecc663357884f",
              "IPY_MODEL_851992598a2a4d698dcbbe79844922cc"
            ],
            "layout": "IPY_MODEL_0508c853e502485b8dedf86110320b98"
          }
        },
        "51549a44bcb24fd790f71243eee1b1ea": {
          "model_module": "@jupyter-widgets/base",
          "model_module_version": "1.2.0",
          "model_name": "LayoutModel",
          "state": {
            "_model_module": "@jupyter-widgets/base",
            "_model_module_version": "1.2.0",
            "_model_name": "LayoutModel",
            "_view_count": null,
            "_view_module": "@jupyter-widgets/base",
            "_view_module_version": "1.2.0",
            "_view_name": "LayoutView",
            "align_content": null,
            "align_items": null,
            "align_self": null,
            "border": null,
            "bottom": null,
            "display": null,
            "flex": null,
            "flex_flow": null,
            "grid_area": null,
            "grid_auto_columns": null,
            "grid_auto_flow": null,
            "grid_auto_rows": null,
            "grid_column": null,
            "grid_gap": null,
            "grid_row": null,
            "grid_template_areas": null,
            "grid_template_columns": null,
            "grid_template_rows": null,
            "height": null,
            "justify_content": null,
            "justify_items": null,
            "left": null,
            "margin": null,
            "max_height": null,
            "max_width": null,
            "min_height": null,
            "min_width": null,
            "object_fit": null,
            "object_position": null,
            "order": null,
            "overflow": null,
            "overflow_x": null,
            "overflow_y": null,
            "padding": null,
            "right": null,
            "top": null,
            "visibility": null,
            "width": null
          }
        },
        "5467dc147ba6453587f82ec966fa4a88": {
          "model_module": "@jupyter-widgets/base",
          "model_module_version": "1.2.0",
          "model_name": "LayoutModel",
          "state": {
            "_model_module": "@jupyter-widgets/base",
            "_model_module_version": "1.2.0",
            "_model_name": "LayoutModel",
            "_view_count": null,
            "_view_module": "@jupyter-widgets/base",
            "_view_module_version": "1.2.0",
            "_view_name": "LayoutView",
            "align_content": null,
            "align_items": null,
            "align_self": null,
            "border": null,
            "bottom": null,
            "display": null,
            "flex": null,
            "flex_flow": null,
            "grid_area": null,
            "grid_auto_columns": null,
            "grid_auto_flow": null,
            "grid_auto_rows": null,
            "grid_column": null,
            "grid_gap": null,
            "grid_row": null,
            "grid_template_areas": null,
            "grid_template_columns": null,
            "grid_template_rows": null,
            "height": null,
            "justify_content": null,
            "justify_items": null,
            "left": null,
            "margin": null,
            "max_height": null,
            "max_width": null,
            "min_height": null,
            "min_width": null,
            "object_fit": null,
            "object_position": null,
            "order": null,
            "overflow": null,
            "overflow_x": null,
            "overflow_y": null,
            "padding": null,
            "right": null,
            "top": null,
            "visibility": null,
            "width": null
          }
        },
        "549c6aa01a3b4301808eb08957981266": {
          "model_module": "@jupyter-widgets/base",
          "model_module_version": "1.2.0",
          "model_name": "LayoutModel",
          "state": {
            "_model_module": "@jupyter-widgets/base",
            "_model_module_version": "1.2.0",
            "_model_name": "LayoutModel",
            "_view_count": null,
            "_view_module": "@jupyter-widgets/base",
            "_view_module_version": "1.2.0",
            "_view_name": "LayoutView",
            "align_content": null,
            "align_items": null,
            "align_self": null,
            "border": null,
            "bottom": null,
            "display": null,
            "flex": null,
            "flex_flow": null,
            "grid_area": null,
            "grid_auto_columns": null,
            "grid_auto_flow": null,
            "grid_auto_rows": null,
            "grid_column": null,
            "grid_gap": null,
            "grid_row": null,
            "grid_template_areas": null,
            "grid_template_columns": null,
            "grid_template_rows": null,
            "height": null,
            "justify_content": null,
            "justify_items": null,
            "left": null,
            "margin": null,
            "max_height": null,
            "max_width": null,
            "min_height": null,
            "min_width": null,
            "object_fit": null,
            "object_position": null,
            "order": null,
            "overflow": null,
            "overflow_x": null,
            "overflow_y": null,
            "padding": null,
            "right": null,
            "top": null,
            "visibility": null,
            "width": null
          }
        },
        "5536cfb16ed94eb58509a2d5d4d623c3": {
          "model_module": "@jupyter-widgets/controls",
          "model_module_version": "1.5.0",
          "model_name": "HTMLModel",
          "state": {
            "_dom_classes": [],
            "_model_module": "@jupyter-widgets/controls",
            "_model_module_version": "1.5.0",
            "_model_name": "HTMLModel",
            "_view_count": null,
            "_view_module": "@jupyter-widgets/controls",
            "_view_module_version": "1.5.0",
            "_view_name": "HTMLView",
            "description": "",
            "description_tooltip": null,
            "layout": "IPY_MODEL_51549a44bcb24fd790f71243eee1b1ea",
            "placeholder": "​",
            "style": "IPY_MODEL_1bc10869dc8149948d259fee53b18a7b",
            "value": " 164k/164k [00:00&lt;00:00, 2.78MB/s]"
          }
        },
        "5539f1675ada405f8852cd53be5991af": {
          "model_module": "@jupyter-widgets/controls",
          "model_module_version": "1.5.0",
          "model_name": "ProgressStyleModel",
          "state": {
            "_model_module": "@jupyter-widgets/controls",
            "_model_module_version": "1.5.0",
            "_model_name": "ProgressStyleModel",
            "_view_count": null,
            "_view_module": "@jupyter-widgets/base",
            "_view_module_version": "1.2.0",
            "_view_name": "StyleView",
            "bar_color": null,
            "description_width": ""
          }
        },
        "57924a80e9c4494d9fa75d90ca74712b": {
          "model_module": "@jupyter-widgets/controls",
          "model_module_version": "1.5.0",
          "model_name": "HBoxModel",
          "state": {
            "_dom_classes": [],
            "_model_module": "@jupyter-widgets/controls",
            "_model_module_version": "1.5.0",
            "_model_name": "HBoxModel",
            "_view_count": null,
            "_view_module": "@jupyter-widgets/controls",
            "_view_module_version": "1.5.0",
            "_view_name": "HBoxView",
            "box_style": "",
            "children": [
              "IPY_MODEL_d38ba65d93974f9e902c842369a53535",
              "IPY_MODEL_e0d5ec1a5ef14fcc984216dbda57e99e",
              "IPY_MODEL_b7890c37f7be45e5a2695f68a97ddd83"
            ],
            "layout": "IPY_MODEL_2ecbdfe081a14b649c1bf3ab6a160ef8"
          }
        },
        "591cd810546a49aca7c6fe349bf47248": {
          "model_module": "@jupyter-widgets/controls",
          "model_module_version": "1.5.0",
          "model_name": "DescriptionStyleModel",
          "state": {
            "_model_module": "@jupyter-widgets/controls",
            "_model_module_version": "1.5.0",
            "_model_name": "DescriptionStyleModel",
            "_view_count": null,
            "_view_module": "@jupyter-widgets/base",
            "_view_module_version": "1.2.0",
            "_view_name": "StyleView",
            "description_width": ""
          }
        },
        "60073767b0a6403dbe2459b7f59f8be2": {
          "model_module": "@jupyter-widgets/controls",
          "model_module_version": "1.5.0",
          "model_name": "HBoxModel",
          "state": {
            "_dom_classes": [],
            "_model_module": "@jupyter-widgets/controls",
            "_model_module_version": "1.5.0",
            "_model_name": "HBoxModel",
            "_view_count": null,
            "_view_module": "@jupyter-widgets/controls",
            "_view_module_version": "1.5.0",
            "_view_name": "HBoxView",
            "box_style": "",
            "children": [
              "IPY_MODEL_04f9e98cc1b34ca0aa91936941805b34",
              "IPY_MODEL_d3c046dd25ab417db1e0c665a9efdd9f",
              "IPY_MODEL_853a1252e2de42348e57b70c1905a1e8"
            ],
            "layout": "IPY_MODEL_eae47e96a6584f5fbbb565910dea65bb"
          }
        },
        "60e522b3eedc4eb182f09bed58772c65": {
          "model_module": "@jupyter-widgets/controls",
          "model_module_version": "1.5.0",
          "model_name": "DescriptionStyleModel",
          "state": {
            "_model_module": "@jupyter-widgets/controls",
            "_model_module_version": "1.5.0",
            "_model_name": "DescriptionStyleModel",
            "_view_count": null,
            "_view_module": "@jupyter-widgets/base",
            "_view_module_version": "1.2.0",
            "_view_name": "StyleView",
            "description_width": ""
          }
        },
        "620f1e3172a44fa5922b8e9534185d34": {
          "model_module": "@jupyter-widgets/base",
          "model_module_version": "1.2.0",
          "model_name": "LayoutModel",
          "state": {
            "_model_module": "@jupyter-widgets/base",
            "_model_module_version": "1.2.0",
            "_model_name": "LayoutModel",
            "_view_count": null,
            "_view_module": "@jupyter-widgets/base",
            "_view_module_version": "1.2.0",
            "_view_name": "LayoutView",
            "align_content": null,
            "align_items": null,
            "align_self": null,
            "border": null,
            "bottom": null,
            "display": null,
            "flex": null,
            "flex_flow": null,
            "grid_area": null,
            "grid_auto_columns": null,
            "grid_auto_flow": null,
            "grid_auto_rows": null,
            "grid_column": null,
            "grid_gap": null,
            "grid_row": null,
            "grid_template_areas": null,
            "grid_template_columns": null,
            "grid_template_rows": null,
            "height": null,
            "justify_content": null,
            "justify_items": null,
            "left": null,
            "margin": null,
            "max_height": null,
            "max_width": null,
            "min_height": null,
            "min_width": null,
            "object_fit": null,
            "object_position": null,
            "order": null,
            "overflow": null,
            "overflow_x": null,
            "overflow_y": null,
            "padding": null,
            "right": null,
            "top": null,
            "visibility": null,
            "width": null
          }
        },
        "62f8218599ea470da4cac88c50e9a6db": {
          "model_module": "@jupyter-widgets/base",
          "model_module_version": "1.2.0",
          "model_name": "LayoutModel",
          "state": {
            "_model_module": "@jupyter-widgets/base",
            "_model_module_version": "1.2.0",
            "_model_name": "LayoutModel",
            "_view_count": null,
            "_view_module": "@jupyter-widgets/base",
            "_view_module_version": "1.2.0",
            "_view_name": "LayoutView",
            "align_content": null,
            "align_items": null,
            "align_self": null,
            "border": null,
            "bottom": null,
            "display": null,
            "flex": null,
            "flex_flow": null,
            "grid_area": null,
            "grid_auto_columns": null,
            "grid_auto_flow": null,
            "grid_auto_rows": null,
            "grid_column": null,
            "grid_gap": null,
            "grid_row": null,
            "grid_template_areas": null,
            "grid_template_columns": null,
            "grid_template_rows": null,
            "height": null,
            "justify_content": null,
            "justify_items": null,
            "left": null,
            "margin": null,
            "max_height": null,
            "max_width": null,
            "min_height": null,
            "min_width": null,
            "object_fit": null,
            "object_position": null,
            "order": null,
            "overflow": null,
            "overflow_x": null,
            "overflow_y": null,
            "padding": null,
            "right": null,
            "top": null,
            "visibility": null,
            "width": null
          }
        },
        "63147a598548497b9afb957c9202fd1a": {
          "model_module": "@jupyter-widgets/base",
          "model_module_version": "1.2.0",
          "model_name": "LayoutModel",
          "state": {
            "_model_module": "@jupyter-widgets/base",
            "_model_module_version": "1.2.0",
            "_model_name": "LayoutModel",
            "_view_count": null,
            "_view_module": "@jupyter-widgets/base",
            "_view_module_version": "1.2.0",
            "_view_name": "LayoutView",
            "align_content": null,
            "align_items": null,
            "align_self": null,
            "border": null,
            "bottom": null,
            "display": null,
            "flex": null,
            "flex_flow": null,
            "grid_area": null,
            "grid_auto_columns": null,
            "grid_auto_flow": null,
            "grid_auto_rows": null,
            "grid_column": null,
            "grid_gap": null,
            "grid_row": null,
            "grid_template_areas": null,
            "grid_template_columns": null,
            "grid_template_rows": null,
            "height": null,
            "justify_content": null,
            "justify_items": null,
            "left": null,
            "margin": null,
            "max_height": null,
            "max_width": null,
            "min_height": null,
            "min_width": null,
            "object_fit": null,
            "object_position": null,
            "order": null,
            "overflow": null,
            "overflow_x": null,
            "overflow_y": null,
            "padding": null,
            "right": null,
            "top": null,
            "visibility": null,
            "width": null
          }
        },
        "63581194cb2f41ce85f13e16d9b24fd4": {
          "model_module": "@jupyter-widgets/controls",
          "model_module_version": "1.5.0",
          "model_name": "HBoxModel",
          "state": {
            "_dom_classes": [],
            "_model_module": "@jupyter-widgets/controls",
            "_model_module_version": "1.5.0",
            "_model_name": "HBoxModel",
            "_view_count": null,
            "_view_module": "@jupyter-widgets/controls",
            "_view_module_version": "1.5.0",
            "_view_name": "HBoxView",
            "box_style": "",
            "children": [
              "IPY_MODEL_7198eade7e5e4baeb4e7a058eaf5c16a",
              "IPY_MODEL_99cef2dd4f934cf0be843d7dc98a1fda",
              "IPY_MODEL_98f7f34a85644bbf887250ac8d921a30"
            ],
            "layout": "IPY_MODEL_9a0ac3703c244e60be0b6150f8cfc723"
          }
        },
        "63ec468a090b4d9a9d590a4abf64693b": {
          "model_module": "@jupyter-widgets/base",
          "model_module_version": "1.2.0",
          "model_name": "LayoutModel",
          "state": {
            "_model_module": "@jupyter-widgets/base",
            "_model_module_version": "1.2.0",
            "_model_name": "LayoutModel",
            "_view_count": null,
            "_view_module": "@jupyter-widgets/base",
            "_view_module_version": "1.2.0",
            "_view_name": "LayoutView",
            "align_content": null,
            "align_items": null,
            "align_self": null,
            "border": null,
            "bottom": null,
            "display": null,
            "flex": null,
            "flex_flow": null,
            "grid_area": null,
            "grid_auto_columns": null,
            "grid_auto_flow": null,
            "grid_auto_rows": null,
            "grid_column": null,
            "grid_gap": null,
            "grid_row": null,
            "grid_template_areas": null,
            "grid_template_columns": null,
            "grid_template_rows": null,
            "height": null,
            "justify_content": null,
            "justify_items": null,
            "left": null,
            "margin": null,
            "max_height": null,
            "max_width": null,
            "min_height": null,
            "min_width": null,
            "object_fit": null,
            "object_position": null,
            "order": null,
            "overflow": null,
            "overflow_x": null,
            "overflow_y": null,
            "padding": null,
            "right": null,
            "top": null,
            "visibility": null,
            "width": null
          }
        },
        "646b55468e0b43c9bf78464fa1f6f66b": {
          "model_module": "@jupyter-widgets/controls",
          "model_module_version": "1.5.0",
          "model_name": "DescriptionStyleModel",
          "state": {
            "_model_module": "@jupyter-widgets/controls",
            "_model_module_version": "1.5.0",
            "_model_name": "DescriptionStyleModel",
            "_view_count": null,
            "_view_module": "@jupyter-widgets/base",
            "_view_module_version": "1.2.0",
            "_view_name": "StyleView",
            "description_width": ""
          }
        },
        "679d5645478c4678b996f6481a60c94c": {
          "model_module": "@jupyter-widgets/controls",
          "model_module_version": "1.5.0",
          "model_name": "ProgressStyleModel",
          "state": {
            "_model_module": "@jupyter-widgets/controls",
            "_model_module_version": "1.5.0",
            "_model_name": "ProgressStyleModel",
            "_view_count": null,
            "_view_module": "@jupyter-widgets/base",
            "_view_module_version": "1.2.0",
            "_view_name": "StyleView",
            "bar_color": null,
            "description_width": ""
          }
        },
        "67b15e7747444b8c8060248ae1f879fa": {
          "model_module": "@jupyter-widgets/controls",
          "model_module_version": "1.5.0",
          "model_name": "HBoxModel",
          "state": {
            "_dom_classes": [],
            "_model_module": "@jupyter-widgets/controls",
            "_model_module_version": "1.5.0",
            "_model_name": "HBoxModel",
            "_view_count": null,
            "_view_module": "@jupyter-widgets/controls",
            "_view_module_version": "1.5.0",
            "_view_name": "HBoxView",
            "box_style": "",
            "children": [
              "IPY_MODEL_2a23b1900bfb4c23acaff2cff11a9ca1",
              "IPY_MODEL_99155c3889ec48a9821771306022b8e9",
              "IPY_MODEL_0818261ce3a94bd2b968dddf565626cf"
            ],
            "layout": "IPY_MODEL_abf86b65cc794a5fbff387719e75da3a"
          }
        },
        "68388dd0f4794637b1b10f1c276f8a30": {
          "model_module": "@jupyter-widgets/controls",
          "model_module_version": "1.5.0",
          "model_name": "DescriptionStyleModel",
          "state": {
            "_model_module": "@jupyter-widgets/controls",
            "_model_module_version": "1.5.0",
            "_model_name": "DescriptionStyleModel",
            "_view_count": null,
            "_view_module": "@jupyter-widgets/base",
            "_view_module_version": "1.2.0",
            "_view_name": "StyleView",
            "description_width": ""
          }
        },
        "687d17fce51c42a7b238fa7943051a31": {
          "model_module": "@jupyter-widgets/base",
          "model_module_version": "1.2.0",
          "model_name": "LayoutModel",
          "state": {
            "_model_module": "@jupyter-widgets/base",
            "_model_module_version": "1.2.0",
            "_model_name": "LayoutModel",
            "_view_count": null,
            "_view_module": "@jupyter-widgets/base",
            "_view_module_version": "1.2.0",
            "_view_name": "LayoutView",
            "align_content": null,
            "align_items": null,
            "align_self": null,
            "border": null,
            "bottom": null,
            "display": null,
            "flex": null,
            "flex_flow": null,
            "grid_area": null,
            "grid_auto_columns": null,
            "grid_auto_flow": null,
            "grid_auto_rows": null,
            "grid_column": null,
            "grid_gap": null,
            "grid_row": null,
            "grid_template_areas": null,
            "grid_template_columns": null,
            "grid_template_rows": null,
            "height": null,
            "justify_content": null,
            "justify_items": null,
            "left": null,
            "margin": null,
            "max_height": null,
            "max_width": null,
            "min_height": null,
            "min_width": null,
            "object_fit": null,
            "object_position": null,
            "order": null,
            "overflow": null,
            "overflow_x": null,
            "overflow_y": null,
            "padding": null,
            "right": null,
            "top": null,
            "visibility": null,
            "width": null
          }
        },
        "691654768b8d484a9caa0ba7962494a7": {
          "model_module": "@jupyter-widgets/controls",
          "model_module_version": "1.5.0",
          "model_name": "HBoxModel",
          "state": {
            "_dom_classes": [],
            "_model_module": "@jupyter-widgets/controls",
            "_model_module_version": "1.5.0",
            "_model_name": "HBoxModel",
            "_view_count": null,
            "_view_module": "@jupyter-widgets/controls",
            "_view_module_version": "1.5.0",
            "_view_name": "HBoxView",
            "box_style": "",
            "children": [
              "IPY_MODEL_fb2f1e5479954ebda33986d0ea971fa5",
              "IPY_MODEL_fec143ecdf5a44bbb9a146f9e2010287",
              "IPY_MODEL_7a7214e561aa492589633823e89c2b21"
            ],
            "layout": "IPY_MODEL_7db47eb0d682480ca1800dc9864c09c5"
          }
        },
        "6fcb32cdb2c6456686e4e407978243d5": {
          "model_module": "@jupyter-widgets/controls",
          "model_module_version": "1.5.0",
          "model_name": "DescriptionStyleModel",
          "state": {
            "_model_module": "@jupyter-widgets/controls",
            "_model_module_version": "1.5.0",
            "_model_name": "DescriptionStyleModel",
            "_view_count": null,
            "_view_module": "@jupyter-widgets/base",
            "_view_module_version": "1.2.0",
            "_view_name": "StyleView",
            "description_width": ""
          }
        },
        "7198eade7e5e4baeb4e7a058eaf5c16a": {
          "model_module": "@jupyter-widgets/controls",
          "model_module_version": "1.5.0",
          "model_name": "HTMLModel",
          "state": {
            "_dom_classes": [],
            "_model_module": "@jupyter-widgets/controls",
            "_model_module_version": "1.5.0",
            "_model_name": "HTMLModel",
            "_view_count": null,
            "_view_module": "@jupyter-widgets/controls",
            "_view_module_version": "1.5.0",
            "_view_name": "HTMLView",
            "description": "",
            "description_tooltip": null,
            "layout": "IPY_MODEL_0df6706beffc4e3f99c5b48ae3e96683",
            "placeholder": "​",
            "style": "IPY_MODEL_3e48b44fdd8f4cdabf297059905427b3",
            "value": "Downloading extra modules: 100%"
          }
        },
        "74d63b7fc3934d98ba257a15d9ed00ff": {
          "model_module": "@jupyter-widgets/base",
          "model_module_version": "1.2.0",
          "model_name": "LayoutModel",
          "state": {
            "_model_module": "@jupyter-widgets/base",
            "_model_module_version": "1.2.0",
            "_model_name": "LayoutModel",
            "_view_count": null,
            "_view_module": "@jupyter-widgets/base",
            "_view_module_version": "1.2.0",
            "_view_name": "LayoutView",
            "align_content": null,
            "align_items": null,
            "align_self": null,
            "border": null,
            "bottom": null,
            "display": null,
            "flex": null,
            "flex_flow": null,
            "grid_area": null,
            "grid_auto_columns": null,
            "grid_auto_flow": null,
            "grid_auto_rows": null,
            "grid_column": null,
            "grid_gap": null,
            "grid_row": null,
            "grid_template_areas": null,
            "grid_template_columns": null,
            "grid_template_rows": null,
            "height": null,
            "justify_content": null,
            "justify_items": null,
            "left": null,
            "margin": null,
            "max_height": null,
            "max_width": null,
            "min_height": null,
            "min_width": null,
            "object_fit": null,
            "object_position": null,
            "order": null,
            "overflow": null,
            "overflow_x": null,
            "overflow_y": null,
            "padding": null,
            "right": null,
            "top": null,
            "visibility": null,
            "width": null
          }
        },
        "76f7a0dac2b041899960a4fe8f46273e": {
          "model_module": "@jupyter-widgets/controls",
          "model_module_version": "1.5.0",
          "model_name": "HTMLModel",
          "state": {
            "_dom_classes": [],
            "_model_module": "@jupyter-widgets/controls",
            "_model_module_version": "1.5.0",
            "_model_name": "HTMLModel",
            "_view_count": null,
            "_view_module": "@jupyter-widgets/controls",
            "_view_module_version": "1.5.0",
            "_view_name": "HTMLView",
            "description": "",
            "description_tooltip": null,
            "layout": "IPY_MODEL_3f2e18debe9647f589faaaa633acdf89",
            "placeholder": "​",
            "style": "IPY_MODEL_3237d114eaa5452a9be50ea6098e1b7a",
            "value": "Map: 100%"
          }
        },
        "77ee19b8f7e64932972aa2c527575641": {
          "model_module": "@jupyter-widgets/controls",
          "model_module_version": "1.5.0",
          "model_name": "ProgressStyleModel",
          "state": {
            "_model_module": "@jupyter-widgets/controls",
            "_model_module_version": "1.5.0",
            "_model_name": "ProgressStyleModel",
            "_view_count": null,
            "_view_module": "@jupyter-widgets/base",
            "_view_module_version": "1.2.0",
            "_view_name": "StyleView",
            "bar_color": null,
            "description_width": ""
          }
        },
        "79e53ee4d17540eda05d6156604e43a0": {
          "model_module": "@jupyter-widgets/base",
          "model_module_version": "1.2.0",
          "model_name": "LayoutModel",
          "state": {
            "_model_module": "@jupyter-widgets/base",
            "_model_module_version": "1.2.0",
            "_model_name": "LayoutModel",
            "_view_count": null,
            "_view_module": "@jupyter-widgets/base",
            "_view_module_version": "1.2.0",
            "_view_name": "LayoutView",
            "align_content": null,
            "align_items": null,
            "align_self": null,
            "border": null,
            "bottom": null,
            "display": null,
            "flex": null,
            "flex_flow": null,
            "grid_area": null,
            "grid_auto_columns": null,
            "grid_auto_flow": null,
            "grid_auto_rows": null,
            "grid_column": null,
            "grid_gap": null,
            "grid_row": null,
            "grid_template_areas": null,
            "grid_template_columns": null,
            "grid_template_rows": null,
            "height": null,
            "justify_content": null,
            "justify_items": null,
            "left": null,
            "margin": null,
            "max_height": null,
            "max_width": null,
            "min_height": null,
            "min_width": null,
            "object_fit": null,
            "object_position": null,
            "order": null,
            "overflow": null,
            "overflow_x": null,
            "overflow_y": null,
            "padding": null,
            "right": null,
            "top": null,
            "visibility": null,
            "width": null
          }
        },
        "7a6259a1413640be81944cfc819e1c56": {
          "model_module": "@jupyter-widgets/controls",
          "model_module_version": "1.5.0",
          "model_name": "HTMLModel",
          "state": {
            "_dom_classes": [],
            "_model_module": "@jupyter-widgets/controls",
            "_model_module_version": "1.5.0",
            "_model_name": "HTMLModel",
            "_view_count": null,
            "_view_module": "@jupyter-widgets/controls",
            "_view_module_version": "1.5.0",
            "_view_name": "HTMLView",
            "description": "",
            "description_tooltip": null,
            "layout": "IPY_MODEL_930be561acc44198ae82751db3e12db6",
            "placeholder": "​",
            "style": "IPY_MODEL_3c5d7bd545004c5b99d9054c9ea199a7",
            "value": " 29000/29000 [00:14&lt;00:00, 1922.26 examples/s]"
          }
        },
        "7a7214e561aa492589633823e89c2b21": {
          "model_module": "@jupyter-widgets/controls",
          "model_module_version": "1.5.0",
          "model_name": "HTMLModel",
          "state": {
            "_dom_classes": [],
            "_model_module": "@jupyter-widgets/controls",
            "_model_module_version": "1.5.0",
            "_model_name": "HTMLModel",
            "_view_count": null,
            "_view_module": "@jupyter-widgets/controls",
            "_view_module_version": "1.5.0",
            "_view_name": "HTMLView",
            "description": "",
            "description_tooltip": null,
            "layout": "IPY_MODEL_549c6aa01a3b4301808eb08957981266",
            "placeholder": "​",
            "style": "IPY_MODEL_31a25db5fe774c82b54d482fe39bb695",
            "value": " 156k/156k [00:00&lt;00:00, 3.12MB/s]"
          }
        },
        "7db47eb0d682480ca1800dc9864c09c5": {
          "model_module": "@jupyter-widgets/base",
          "model_module_version": "1.2.0",
          "model_name": "LayoutModel",
          "state": {
            "_model_module": "@jupyter-widgets/base",
            "_model_module_version": "1.2.0",
            "_model_name": "LayoutModel",
            "_view_count": null,
            "_view_module": "@jupyter-widgets/base",
            "_view_module_version": "1.2.0",
            "_view_name": "LayoutView",
            "align_content": null,
            "align_items": null,
            "align_self": null,
            "border": null,
            "bottom": null,
            "display": null,
            "flex": null,
            "flex_flow": null,
            "grid_area": null,
            "grid_auto_columns": null,
            "grid_auto_flow": null,
            "grid_auto_rows": null,
            "grid_column": null,
            "grid_gap": null,
            "grid_row": null,
            "grid_template_areas": null,
            "grid_template_columns": null,
            "grid_template_rows": null,
            "height": null,
            "justify_content": null,
            "justify_items": null,
            "left": null,
            "margin": null,
            "max_height": null,
            "max_width": null,
            "min_height": null,
            "min_width": null,
            "object_fit": null,
            "object_position": null,
            "order": null,
            "overflow": null,
            "overflow_x": null,
            "overflow_y": null,
            "padding": null,
            "right": null,
            "top": null,
            "visibility": null,
            "width": null
          }
        },
        "7f0b15bcc14c4312b2af777da33b3ba6": {
          "model_module": "@jupyter-widgets/controls",
          "model_module_version": "1.5.0",
          "model_name": "DescriptionStyleModel",
          "state": {
            "_model_module": "@jupyter-widgets/controls",
            "_model_module_version": "1.5.0",
            "_model_name": "DescriptionStyleModel",
            "_view_count": null,
            "_view_module": "@jupyter-widgets/base",
            "_view_module_version": "1.2.0",
            "_view_name": "StyleView",
            "description_width": ""
          }
        },
        "7f9add2bf90f4db3b94fc4764e003d86": {
          "model_module": "@jupyter-widgets/controls",
          "model_module_version": "1.5.0",
          "model_name": "HBoxModel",
          "state": {
            "_dom_classes": [],
            "_model_module": "@jupyter-widgets/controls",
            "_model_module_version": "1.5.0",
            "_model_name": "HBoxModel",
            "_view_count": null,
            "_view_module": "@jupyter-widgets/controls",
            "_view_module_version": "1.5.0",
            "_view_name": "HBoxView",
            "box_style": "",
            "children": [
              "IPY_MODEL_df4833701da7439abf906ddf9d56435c",
              "IPY_MODEL_02148f805ea24a46a21158f8b67858ad",
              "IPY_MODEL_209f0e678ddd47a794bd20d2bae3a1b9"
            ],
            "layout": "IPY_MODEL_3736803b435e4869b486adeca9244d29"
          }
        },
        "7fc9f1de29f6443eb8b628fa06c4dfe2": {
          "model_module": "@jupyter-widgets/base",
          "model_module_version": "1.2.0",
          "model_name": "LayoutModel",
          "state": {
            "_model_module": "@jupyter-widgets/base",
            "_model_module_version": "1.2.0",
            "_model_name": "LayoutModel",
            "_view_count": null,
            "_view_module": "@jupyter-widgets/base",
            "_view_module_version": "1.2.0",
            "_view_name": "LayoutView",
            "align_content": null,
            "align_items": null,
            "align_self": null,
            "border": null,
            "bottom": null,
            "display": null,
            "flex": null,
            "flex_flow": null,
            "grid_area": null,
            "grid_auto_columns": null,
            "grid_auto_flow": null,
            "grid_auto_rows": null,
            "grid_column": null,
            "grid_gap": null,
            "grid_row": null,
            "grid_template_areas": null,
            "grid_template_columns": null,
            "grid_template_rows": null,
            "height": null,
            "justify_content": null,
            "justify_items": null,
            "left": null,
            "margin": null,
            "max_height": null,
            "max_width": null,
            "min_height": null,
            "min_width": null,
            "object_fit": null,
            "object_position": null,
            "order": null,
            "overflow": null,
            "overflow_x": null,
            "overflow_y": null,
            "padding": null,
            "right": null,
            "top": null,
            "visibility": null,
            "width": null
          }
        },
        "84276e6bc8e84d24a9700a3a9807084f": {
          "model_module": "@jupyter-widgets/controls",
          "model_module_version": "1.5.0",
          "model_name": "ProgressStyleModel",
          "state": {
            "_model_module": "@jupyter-widgets/controls",
            "_model_module_version": "1.5.0",
            "_model_name": "ProgressStyleModel",
            "_view_count": null,
            "_view_module": "@jupyter-widgets/base",
            "_view_module_version": "1.2.0",
            "_view_name": "StyleView",
            "bar_color": null,
            "description_width": ""
          }
        },
        "851992598a2a4d698dcbbe79844922cc": {
          "model_module": "@jupyter-widgets/controls",
          "model_module_version": "1.5.0",
          "model_name": "HTMLModel",
          "state": {
            "_dom_classes": [],
            "_model_module": "@jupyter-widgets/controls",
            "_model_module_version": "1.5.0",
            "_model_name": "HTMLModel",
            "_view_count": null,
            "_view_module": "@jupyter-widgets/controls",
            "_view_module_version": "1.5.0",
            "_view_name": "HTMLView",
            "description": "",
            "description_tooltip": null,
            "layout": "IPY_MODEL_e707becc8e324416abe1bdd94c8d4f1f",
            "placeholder": "​",
            "style": "IPY_MODEL_f272673c40cc40e4beeade8a70a75d77",
            "value": " 1000/1000 [00:00&lt;00:00, 8295.56 examples/s]"
          }
        },
        "853a1252e2de42348e57b70c1905a1e8": {
          "model_module": "@jupyter-widgets/controls",
          "model_module_version": "1.5.0",
          "model_name": "HTMLModel",
          "state": {
            "_dom_classes": [],
            "_model_module": "@jupyter-widgets/controls",
            "_model_module_version": "1.5.0",
            "_model_name": "HTMLModel",
            "_view_count": null,
            "_view_module": "@jupyter-widgets/controls",
            "_view_module_version": "1.5.0",
            "_view_name": "HTMLView",
            "description": "",
            "description_tooltip": null,
            "layout": "IPY_MODEL_269b171ebc6942bd9ddeada5ee6ea0b4",
            "placeholder": "​",
            "style": "IPY_MODEL_ad2460317ac84f70b3fff64d6263a560",
            "value": " 29000/29000 [00:00&lt;00:00, 134588.86 examples/s]"
          }
        },
        "8624f736dae74c31bea56cea1f06496d": {
          "model_module": "@jupyter-widgets/controls",
          "model_module_version": "1.5.0",
          "model_name": "HTMLModel",
          "state": {
            "_dom_classes": [],
            "_model_module": "@jupyter-widgets/controls",
            "_model_module_version": "1.5.0",
            "_model_name": "HTMLModel",
            "_view_count": null,
            "_view_module": "@jupyter-widgets/controls",
            "_view_module_version": "1.5.0",
            "_view_name": "HTMLView",
            "description": "",
            "description_tooltip": null,
            "layout": "IPY_MODEL_964d09fce7fb4f00a8111fa73ecb1a4a",
            "placeholder": "​",
            "style": "IPY_MODEL_feb1e6639c954650b84b23f74cc35f55",
            "value": "Map: 100%"
          }
        },
        "86d5eedb5ffc4da6bb3228e45b0428ca": {
          "model_module": "@jupyter-widgets/controls",
          "model_module_version": "1.5.0",
          "model_name": "HBoxModel",
          "state": {
            "_dom_classes": [],
            "_model_module": "@jupyter-widgets/controls",
            "_model_module_version": "1.5.0",
            "_model_name": "HBoxModel",
            "_view_count": null,
            "_view_module": "@jupyter-widgets/controls",
            "_view_module_version": "1.5.0",
            "_view_name": "HBoxView",
            "box_style": "",
            "children": [
              "IPY_MODEL_f8a99ad4326a4fd09e18321e3bc8674a",
              "IPY_MODEL_1b936ba7bfe24cbdbe1df15b91ded99c",
              "IPY_MODEL_fe2db0f24052431fa776974eefff4763"
            ],
            "layout": "IPY_MODEL_9ae8947ec51b48e28661888cfac6ae36"
          }
        },
        "918009a5ef8847b58ba90cdc1a71d8dd": {
          "model_module": "@jupyter-widgets/base",
          "model_module_version": "1.2.0",
          "model_name": "LayoutModel",
          "state": {
            "_model_module": "@jupyter-widgets/base",
            "_model_module_version": "1.2.0",
            "_model_name": "LayoutModel",
            "_view_count": null,
            "_view_module": "@jupyter-widgets/base",
            "_view_module_version": "1.2.0",
            "_view_name": "LayoutView",
            "align_content": null,
            "align_items": null,
            "align_self": null,
            "border": null,
            "bottom": null,
            "display": null,
            "flex": null,
            "flex_flow": null,
            "grid_area": null,
            "grid_auto_columns": null,
            "grid_auto_flow": null,
            "grid_auto_rows": null,
            "grid_column": null,
            "grid_gap": null,
            "grid_row": null,
            "grid_template_areas": null,
            "grid_template_columns": null,
            "grid_template_rows": null,
            "height": null,
            "justify_content": null,
            "justify_items": null,
            "left": null,
            "margin": null,
            "max_height": null,
            "max_width": null,
            "min_height": null,
            "min_width": null,
            "object_fit": null,
            "object_position": null,
            "order": null,
            "overflow": null,
            "overflow_x": null,
            "overflow_y": null,
            "padding": null,
            "right": null,
            "top": null,
            "visibility": null,
            "width": null
          }
        },
        "930be561acc44198ae82751db3e12db6": {
          "model_module": "@jupyter-widgets/base",
          "model_module_version": "1.2.0",
          "model_name": "LayoutModel",
          "state": {
            "_model_module": "@jupyter-widgets/base",
            "_model_module_version": "1.2.0",
            "_model_name": "LayoutModel",
            "_view_count": null,
            "_view_module": "@jupyter-widgets/base",
            "_view_module_version": "1.2.0",
            "_view_name": "LayoutView",
            "align_content": null,
            "align_items": null,
            "align_self": null,
            "border": null,
            "bottom": null,
            "display": null,
            "flex": null,
            "flex_flow": null,
            "grid_area": null,
            "grid_auto_columns": null,
            "grid_auto_flow": null,
            "grid_auto_rows": null,
            "grid_column": null,
            "grid_gap": null,
            "grid_row": null,
            "grid_template_areas": null,
            "grid_template_columns": null,
            "grid_template_rows": null,
            "height": null,
            "justify_content": null,
            "justify_items": null,
            "left": null,
            "margin": null,
            "max_height": null,
            "max_width": null,
            "min_height": null,
            "min_width": null,
            "object_fit": null,
            "object_position": null,
            "order": null,
            "overflow": null,
            "overflow_x": null,
            "overflow_y": null,
            "padding": null,
            "right": null,
            "top": null,
            "visibility": null,
            "width": null
          }
        },
        "9333824a6c52455fb7f3a0a6f2b7b486": {
          "model_module": "@jupyter-widgets/base",
          "model_module_version": "1.2.0",
          "model_name": "LayoutModel",
          "state": {
            "_model_module": "@jupyter-widgets/base",
            "_model_module_version": "1.2.0",
            "_model_name": "LayoutModel",
            "_view_count": null,
            "_view_module": "@jupyter-widgets/base",
            "_view_module_version": "1.2.0",
            "_view_name": "LayoutView",
            "align_content": null,
            "align_items": null,
            "align_self": null,
            "border": null,
            "bottom": null,
            "display": null,
            "flex": null,
            "flex_flow": null,
            "grid_area": null,
            "grid_auto_columns": null,
            "grid_auto_flow": null,
            "grid_auto_rows": null,
            "grid_column": null,
            "grid_gap": null,
            "grid_row": null,
            "grid_template_areas": null,
            "grid_template_columns": null,
            "grid_template_rows": null,
            "height": null,
            "justify_content": null,
            "justify_items": null,
            "left": null,
            "margin": null,
            "max_height": null,
            "max_width": null,
            "min_height": null,
            "min_width": null,
            "object_fit": null,
            "object_position": null,
            "order": null,
            "overflow": null,
            "overflow_x": null,
            "overflow_y": null,
            "padding": null,
            "right": null,
            "top": null,
            "visibility": null,
            "width": null
          }
        },
        "947f8f1cf5c244b08f48242a103cb7be": {
          "model_module": "@jupyter-widgets/controls",
          "model_module_version": "1.5.0",
          "model_name": "ProgressStyleModel",
          "state": {
            "_model_module": "@jupyter-widgets/controls",
            "_model_module_version": "1.5.0",
            "_model_name": "ProgressStyleModel",
            "_view_count": null,
            "_view_module": "@jupyter-widgets/base",
            "_view_module_version": "1.2.0",
            "_view_name": "StyleView",
            "bar_color": null,
            "description_width": ""
          }
        },
        "957c5af841ec43bc9615dc5d6597b4bb": {
          "model_module": "@jupyter-widgets/base",
          "model_module_version": "1.2.0",
          "model_name": "LayoutModel",
          "state": {
            "_model_module": "@jupyter-widgets/base",
            "_model_module_version": "1.2.0",
            "_model_name": "LayoutModel",
            "_view_count": null,
            "_view_module": "@jupyter-widgets/base",
            "_view_module_version": "1.2.0",
            "_view_name": "LayoutView",
            "align_content": null,
            "align_items": null,
            "align_self": null,
            "border": null,
            "bottom": null,
            "display": null,
            "flex": null,
            "flex_flow": null,
            "grid_area": null,
            "grid_auto_columns": null,
            "grid_auto_flow": null,
            "grid_auto_rows": null,
            "grid_column": null,
            "grid_gap": null,
            "grid_row": null,
            "grid_template_areas": null,
            "grid_template_columns": null,
            "grid_template_rows": null,
            "height": null,
            "justify_content": null,
            "justify_items": null,
            "left": null,
            "margin": null,
            "max_height": null,
            "max_width": null,
            "min_height": null,
            "min_width": null,
            "object_fit": null,
            "object_position": null,
            "order": null,
            "overflow": null,
            "overflow_x": null,
            "overflow_y": null,
            "padding": null,
            "right": null,
            "top": null,
            "visibility": null,
            "width": null
          }
        },
        "96172c03ee8c40f2b42dedf818dbe1e4": {
          "model_module": "@jupyter-widgets/controls",
          "model_module_version": "1.5.0",
          "model_name": "FloatProgressModel",
          "state": {
            "_dom_classes": [],
            "_model_module": "@jupyter-widgets/controls",
            "_model_module_version": "1.5.0",
            "_model_name": "FloatProgressModel",
            "_view_count": null,
            "_view_module": "@jupyter-widgets/controls",
            "_view_module_version": "1.5.0",
            "_view_name": "ProgressView",
            "bar_style": "success",
            "description": "",
            "description_tooltip": null,
            "layout": "IPY_MODEL_687d17fce51c42a7b238fa7943051a31",
            "max": 29000,
            "min": 0,
            "orientation": "horizontal",
            "style": "IPY_MODEL_ee1d3e10d5c64d5cbaf0f537af3496da",
            "value": 29000
          }
        },
        "963fa81fe032458f8bde7b3e34411edd": {
          "model_module": "@jupyter-widgets/controls",
          "model_module_version": "1.5.0",
          "model_name": "DescriptionStyleModel",
          "state": {
            "_model_module": "@jupyter-widgets/controls",
            "_model_module_version": "1.5.0",
            "_model_name": "DescriptionStyleModel",
            "_view_count": null,
            "_view_module": "@jupyter-widgets/base",
            "_view_module_version": "1.2.0",
            "_view_name": "StyleView",
            "description_width": ""
          }
        },
        "964d09fce7fb4f00a8111fa73ecb1a4a": {
          "model_module": "@jupyter-widgets/base",
          "model_module_version": "1.2.0",
          "model_name": "LayoutModel",
          "state": {
            "_model_module": "@jupyter-widgets/base",
            "_model_module_version": "1.2.0",
            "_model_name": "LayoutModel",
            "_view_count": null,
            "_view_module": "@jupyter-widgets/base",
            "_view_module_version": "1.2.0",
            "_view_name": "LayoutView",
            "align_content": null,
            "align_items": null,
            "align_self": null,
            "border": null,
            "bottom": null,
            "display": null,
            "flex": null,
            "flex_flow": null,
            "grid_area": null,
            "grid_auto_columns": null,
            "grid_auto_flow": null,
            "grid_auto_rows": null,
            "grid_column": null,
            "grid_gap": null,
            "grid_row": null,
            "grid_template_areas": null,
            "grid_template_columns": null,
            "grid_template_rows": null,
            "height": null,
            "justify_content": null,
            "justify_items": null,
            "left": null,
            "margin": null,
            "max_height": null,
            "max_width": null,
            "min_height": null,
            "min_width": null,
            "object_fit": null,
            "object_position": null,
            "order": null,
            "overflow": null,
            "overflow_x": null,
            "overflow_y": null,
            "padding": null,
            "right": null,
            "top": null,
            "visibility": null,
            "width": null
          }
        },
        "973964c7364a4f128fb1e5489c9b3cdb": {
          "model_module": "@jupyter-widgets/controls",
          "model_module_version": "1.5.0",
          "model_name": "FloatProgressModel",
          "state": {
            "_dom_classes": [],
            "_model_module": "@jupyter-widgets/controls",
            "_model_module_version": "1.5.0",
            "_model_name": "FloatProgressModel",
            "_view_count": null,
            "_view_module": "@jupyter-widgets/controls",
            "_view_module_version": "1.5.0",
            "_view_name": "ProgressView",
            "bar_style": "success",
            "description": "",
            "description_tooltip": null,
            "layout": "IPY_MODEL_aa066ceb0fc9449eb99fe69ca94b1cc5",
            "max": 5937,
            "min": 0,
            "orientation": "horizontal",
            "style": "IPY_MODEL_da6ca0f3e6f24506b5c0041e6bf9f16a",
            "value": 5937
          }
        },
        "98f7f34a85644bbf887250ac8d921a30": {
          "model_module": "@jupyter-widgets/controls",
          "model_module_version": "1.5.0",
          "model_name": "HTMLModel",
          "state": {
            "_dom_classes": [],
            "_model_module": "@jupyter-widgets/controls",
            "_model_module_version": "1.5.0",
            "_model_name": "HTMLModel",
            "_view_count": null,
            "_view_module": "@jupyter-widgets/controls",
            "_view_module_version": "1.5.0",
            "_view_name": "HTMLView",
            "description": "",
            "description_tooltip": null,
            "layout": "IPY_MODEL_f3dab0ab63934d0a8f8f86fcd65955e2",
            "placeholder": "​",
            "style": "IPY_MODEL_36fa7a61bb7d499db06c8799a85b787d",
            "value": " 3.34k/3.34k [00:00&lt;00:00, 233kB/s]"
          }
        },
        "99155c3889ec48a9821771306022b8e9": {
          "model_module": "@jupyter-widgets/controls",
          "model_module_version": "1.5.0",
          "model_name": "FloatProgressModel",
          "state": {
            "_dom_classes": [],
            "_model_module": "@jupyter-widgets/controls",
            "_model_module_version": "1.5.0",
            "_model_name": "FloatProgressModel",
            "_view_count": null,
            "_view_module": "@jupyter-widgets/controls",
            "_view_module_version": "1.5.0",
            "_view_name": "ProgressView",
            "bar_style": "success",
            "description": "",
            "description_tooltip": null,
            "layout": "IPY_MODEL_26f51b26fb0b41b48a715b6ac0babd2e",
            "max": 1000,
            "min": 0,
            "orientation": "horizontal",
            "style": "IPY_MODEL_c17b193d7c1f465c8ea39c1f5b46a3a9",
            "value": 1000
          }
        },
        "99cef2dd4f934cf0be843d7dc98a1fda": {
          "model_module": "@jupyter-widgets/controls",
          "model_module_version": "1.5.0",
          "model_name": "FloatProgressModel",
          "state": {
            "_dom_classes": [],
            "_model_module": "@jupyter-widgets/controls",
            "_model_module_version": "1.5.0",
            "_model_name": "FloatProgressModel",
            "_view_count": null,
            "_view_module": "@jupyter-widgets/controls",
            "_view_module_version": "1.5.0",
            "_view_name": "ProgressView",
            "bar_style": "success",
            "description": "",
            "description_tooltip": null,
            "layout": "IPY_MODEL_217600673f674b0fa7804b8432fcca6e",
            "max": 3344,
            "min": 0,
            "orientation": "horizontal",
            "style": "IPY_MODEL_77ee19b8f7e64932972aa2c527575641",
            "value": 3344
          }
        },
        "9a0ac3703c244e60be0b6150f8cfc723": {
          "model_module": "@jupyter-widgets/base",
          "model_module_version": "1.2.0",
          "model_name": "LayoutModel",
          "state": {
            "_model_module": "@jupyter-widgets/base",
            "_model_module_version": "1.2.0",
            "_model_name": "LayoutModel",
            "_view_count": null,
            "_view_module": "@jupyter-widgets/base",
            "_view_module_version": "1.2.0",
            "_view_name": "LayoutView",
            "align_content": null,
            "align_items": null,
            "align_self": null,
            "border": null,
            "bottom": null,
            "display": null,
            "flex": null,
            "flex_flow": null,
            "grid_area": null,
            "grid_auto_columns": null,
            "grid_auto_flow": null,
            "grid_auto_rows": null,
            "grid_column": null,
            "grid_gap": null,
            "grid_row": null,
            "grid_template_areas": null,
            "grid_template_columns": null,
            "grid_template_rows": null,
            "height": null,
            "justify_content": null,
            "justify_items": null,
            "left": null,
            "margin": null,
            "max_height": null,
            "max_width": null,
            "min_height": null,
            "min_width": null,
            "object_fit": null,
            "object_position": null,
            "order": null,
            "overflow": null,
            "overflow_x": null,
            "overflow_y": null,
            "padding": null,
            "right": null,
            "top": null,
            "visibility": null,
            "width": null
          }
        },
        "9ae8947ec51b48e28661888cfac6ae36": {
          "model_module": "@jupyter-widgets/base",
          "model_module_version": "1.2.0",
          "model_name": "LayoutModel",
          "state": {
            "_model_module": "@jupyter-widgets/base",
            "_model_module_version": "1.2.0",
            "_model_name": "LayoutModel",
            "_view_count": null,
            "_view_module": "@jupyter-widgets/base",
            "_view_module_version": "1.2.0",
            "_view_name": "LayoutView",
            "align_content": null,
            "align_items": null,
            "align_self": null,
            "border": null,
            "bottom": null,
            "display": null,
            "flex": null,
            "flex_flow": null,
            "grid_area": null,
            "grid_auto_columns": null,
            "grid_auto_flow": null,
            "grid_auto_rows": null,
            "grid_column": null,
            "grid_gap": null,
            "grid_row": null,
            "grid_template_areas": null,
            "grid_template_columns": null,
            "grid_template_rows": null,
            "height": null,
            "justify_content": null,
            "justify_items": null,
            "left": null,
            "margin": null,
            "max_height": null,
            "max_width": null,
            "min_height": null,
            "min_width": null,
            "object_fit": null,
            "object_position": null,
            "order": null,
            "overflow": null,
            "overflow_x": null,
            "overflow_y": null,
            "padding": null,
            "right": null,
            "top": null,
            "visibility": null,
            "width": null
          }
        },
        "9b87ab2647f14814947cbd5f7475fbea": {
          "model_module": "@jupyter-widgets/controls",
          "model_module_version": "1.5.0",
          "model_name": "ProgressStyleModel",
          "state": {
            "_model_module": "@jupyter-widgets/controls",
            "_model_module_version": "1.5.0",
            "_model_name": "ProgressStyleModel",
            "_view_count": null,
            "_view_module": "@jupyter-widgets/base",
            "_view_module_version": "1.2.0",
            "_view_name": "StyleView",
            "bar_color": null,
            "description_width": ""
          }
        },
        "9c429cb6d06247b19be0869f211b49bc": {
          "model_module": "@jupyter-widgets/base",
          "model_module_version": "1.2.0",
          "model_name": "LayoutModel",
          "state": {
            "_model_module": "@jupyter-widgets/base",
            "_model_module_version": "1.2.0",
            "_model_name": "LayoutModel",
            "_view_count": null,
            "_view_module": "@jupyter-widgets/base",
            "_view_module_version": "1.2.0",
            "_view_name": "LayoutView",
            "align_content": null,
            "align_items": null,
            "align_self": null,
            "border": null,
            "bottom": null,
            "display": null,
            "flex": null,
            "flex_flow": null,
            "grid_area": null,
            "grid_auto_columns": null,
            "grid_auto_flow": null,
            "grid_auto_rows": null,
            "grid_column": null,
            "grid_gap": null,
            "grid_row": null,
            "grid_template_areas": null,
            "grid_template_columns": null,
            "grid_template_rows": null,
            "height": null,
            "justify_content": null,
            "justify_items": null,
            "left": null,
            "margin": null,
            "max_height": null,
            "max_width": null,
            "min_height": null,
            "min_width": null,
            "object_fit": null,
            "object_position": null,
            "order": null,
            "overflow": null,
            "overflow_x": null,
            "overflow_y": null,
            "padding": null,
            "right": null,
            "top": null,
            "visibility": null,
            "width": null
          }
        },
        "9d69095dcf7447f1afc48a2ba9921493": {
          "model_module": "@jupyter-widgets/controls",
          "model_module_version": "1.5.0",
          "model_name": "HBoxModel",
          "state": {
            "_dom_classes": [],
            "_model_module": "@jupyter-widgets/controls",
            "_model_module_version": "1.5.0",
            "_model_name": "HBoxModel",
            "_view_count": null,
            "_view_module": "@jupyter-widgets/controls",
            "_view_module_version": "1.5.0",
            "_view_name": "HBoxView",
            "box_style": "",
            "children": [
              "IPY_MODEL_0bdb7ee635fd49339bfa6651d3ac5cd0",
              "IPY_MODEL_b8db743af67142cf81ece044dd54246e",
              "IPY_MODEL_4347563e9ea342099f2ac5358d752df0"
            ],
            "layout": "IPY_MODEL_62f8218599ea470da4cac88c50e9a6db"
          }
        },
        "9f8d6c2631ac42f2a458bdc266385ae3": {
          "model_module": "@jupyter-widgets/controls",
          "model_module_version": "1.5.0",
          "model_name": "HTMLModel",
          "state": {
            "_dom_classes": [],
            "_model_module": "@jupyter-widgets/controls",
            "_model_module_version": "1.5.0",
            "_model_name": "HTMLModel",
            "_view_count": null,
            "_view_module": "@jupyter-widgets/controls",
            "_view_module_version": "1.5.0",
            "_view_name": "HTMLView",
            "description": "",
            "description_tooltip": null,
            "layout": "IPY_MODEL_10777a68bed4429c8f5d041a6d7e7578",
            "placeholder": "​",
            "style": "IPY_MODEL_383268fb6fb345a28d2c52c09c0195b8",
            "value": " 5.94k/5.94k [00:00&lt;00:00, 307kB/s]"
          }
        },
        "a02612df44b04263b3ffddcdf79d66b8": {
          "model_module": "@jupyter-widgets/controls",
          "model_module_version": "1.5.0",
          "model_name": "HTMLModel",
          "state": {
            "_dom_classes": [],
            "_model_module": "@jupyter-widgets/controls",
            "_model_module_version": "1.5.0",
            "_model_name": "HTMLModel",
            "_view_count": null,
            "_view_module": "@jupyter-widgets/controls",
            "_view_module_version": "1.5.0",
            "_view_name": "HTMLView",
            "description": "",
            "description_tooltip": null,
            "layout": "IPY_MODEL_d8cb5646f42f42d8b332a8d70de526e4",
            "placeholder": "​",
            "style": "IPY_MODEL_fdbdbc01b8154ed2adb0cc0b17705a4f",
            "value": "Downloading builder script: 100%"
          }
        },
        "a5cd28ef673e4a44bb9448173447b85f": {
          "model_module": "@jupyter-widgets/base",
          "model_module_version": "1.2.0",
          "model_name": "LayoutModel",
          "state": {
            "_model_module": "@jupyter-widgets/base",
            "_model_module_version": "1.2.0",
            "_model_name": "LayoutModel",
            "_view_count": null,
            "_view_module": "@jupyter-widgets/base",
            "_view_module_version": "1.2.0",
            "_view_name": "LayoutView",
            "align_content": null,
            "align_items": null,
            "align_self": null,
            "border": null,
            "bottom": null,
            "display": null,
            "flex": null,
            "flex_flow": null,
            "grid_area": null,
            "grid_auto_columns": null,
            "grid_auto_flow": null,
            "grid_auto_rows": null,
            "grid_column": null,
            "grid_gap": null,
            "grid_row": null,
            "grid_template_areas": null,
            "grid_template_columns": null,
            "grid_template_rows": null,
            "height": null,
            "justify_content": null,
            "justify_items": null,
            "left": null,
            "margin": null,
            "max_height": null,
            "max_width": null,
            "min_height": null,
            "min_width": null,
            "object_fit": null,
            "object_position": null,
            "order": null,
            "overflow": null,
            "overflow_x": null,
            "overflow_y": null,
            "padding": null,
            "right": null,
            "top": null,
            "visibility": null,
            "width": null
          }
        },
        "a61e7f1025c64f888e28d4fc0de3cbbb": {
          "model_module": "@jupyter-widgets/controls",
          "model_module_version": "1.5.0",
          "model_name": "DescriptionStyleModel",
          "state": {
            "_model_module": "@jupyter-widgets/controls",
            "_model_module_version": "1.5.0",
            "_model_name": "DescriptionStyleModel",
            "_view_count": null,
            "_view_module": "@jupyter-widgets/base",
            "_view_module_version": "1.2.0",
            "_view_name": "StyleView",
            "description_width": ""
          }
        },
        "a703d9f5a276489f80e2488e58652f94": {
          "model_module": "@jupyter-widgets/base",
          "model_module_version": "1.2.0",
          "model_name": "LayoutModel",
          "state": {
            "_model_module": "@jupyter-widgets/base",
            "_model_module_version": "1.2.0",
            "_model_name": "LayoutModel",
            "_view_count": null,
            "_view_module": "@jupyter-widgets/base",
            "_view_module_version": "1.2.0",
            "_view_name": "LayoutView",
            "align_content": null,
            "align_items": null,
            "align_self": null,
            "border": null,
            "bottom": null,
            "display": null,
            "flex": null,
            "flex_flow": null,
            "grid_area": null,
            "grid_auto_columns": null,
            "grid_auto_flow": null,
            "grid_auto_rows": null,
            "grid_column": null,
            "grid_gap": null,
            "grid_row": null,
            "grid_template_areas": null,
            "grid_template_columns": null,
            "grid_template_rows": null,
            "height": null,
            "justify_content": null,
            "justify_items": null,
            "left": null,
            "margin": null,
            "max_height": null,
            "max_width": null,
            "min_height": null,
            "min_width": null,
            "object_fit": null,
            "object_position": null,
            "order": null,
            "overflow": null,
            "overflow_x": null,
            "overflow_y": null,
            "padding": null,
            "right": null,
            "top": null,
            "visibility": null,
            "width": null
          }
        },
        "a921645e689c4a499a9d95a58a344f93": {
          "model_module": "@jupyter-widgets/controls",
          "model_module_version": "1.5.0",
          "model_name": "ProgressStyleModel",
          "state": {
            "_model_module": "@jupyter-widgets/controls",
            "_model_module_version": "1.5.0",
            "_model_name": "ProgressStyleModel",
            "_view_count": null,
            "_view_module": "@jupyter-widgets/base",
            "_view_module_version": "1.2.0",
            "_view_name": "StyleView",
            "bar_color": null,
            "description_width": ""
          }
        },
        "a9aa174885144bc5bb26e7ce747032ce": {
          "model_module": "@jupyter-widgets/base",
          "model_module_version": "1.2.0",
          "model_name": "LayoutModel",
          "state": {
            "_model_module": "@jupyter-widgets/base",
            "_model_module_version": "1.2.0",
            "_model_name": "LayoutModel",
            "_view_count": null,
            "_view_module": "@jupyter-widgets/base",
            "_view_module_version": "1.2.0",
            "_view_name": "LayoutView",
            "align_content": null,
            "align_items": null,
            "align_self": null,
            "border": null,
            "bottom": null,
            "display": null,
            "flex": null,
            "flex_flow": null,
            "grid_area": null,
            "grid_auto_columns": null,
            "grid_auto_flow": null,
            "grid_auto_rows": null,
            "grid_column": null,
            "grid_gap": null,
            "grid_row": null,
            "grid_template_areas": null,
            "grid_template_columns": null,
            "grid_template_rows": null,
            "height": null,
            "justify_content": null,
            "justify_items": null,
            "left": null,
            "margin": null,
            "max_height": null,
            "max_width": null,
            "min_height": null,
            "min_width": null,
            "object_fit": null,
            "object_position": null,
            "order": null,
            "overflow": null,
            "overflow_x": null,
            "overflow_y": null,
            "padding": null,
            "right": null,
            "top": null,
            "visibility": null,
            "width": null
          }
        },
        "aa066ceb0fc9449eb99fe69ca94b1cc5": {
          "model_module": "@jupyter-widgets/base",
          "model_module_version": "1.2.0",
          "model_name": "LayoutModel",
          "state": {
            "_model_module": "@jupyter-widgets/base",
            "_model_module_version": "1.2.0",
            "_model_name": "LayoutModel",
            "_view_count": null,
            "_view_module": "@jupyter-widgets/base",
            "_view_module_version": "1.2.0",
            "_view_name": "LayoutView",
            "align_content": null,
            "align_items": null,
            "align_self": null,
            "border": null,
            "bottom": null,
            "display": null,
            "flex": null,
            "flex_flow": null,
            "grid_area": null,
            "grid_auto_columns": null,
            "grid_auto_flow": null,
            "grid_auto_rows": null,
            "grid_column": null,
            "grid_gap": null,
            "grid_row": null,
            "grid_template_areas": null,
            "grid_template_columns": null,
            "grid_template_rows": null,
            "height": null,
            "justify_content": null,
            "justify_items": null,
            "left": null,
            "margin": null,
            "max_height": null,
            "max_width": null,
            "min_height": null,
            "min_width": null,
            "object_fit": null,
            "object_position": null,
            "order": null,
            "overflow": null,
            "overflow_x": null,
            "overflow_y": null,
            "padding": null,
            "right": null,
            "top": null,
            "visibility": null,
            "width": null
          }
        },
        "ab351a01d262418e86ad5217d2219ab0": {
          "model_module": "@jupyter-widgets/controls",
          "model_module_version": "1.5.0",
          "model_name": "HTMLModel",
          "state": {
            "_dom_classes": [],
            "_model_module": "@jupyter-widgets/controls",
            "_model_module_version": "1.5.0",
            "_model_name": "HTMLModel",
            "_view_count": null,
            "_view_module": "@jupyter-widgets/controls",
            "_view_module_version": "1.5.0",
            "_view_name": "HTMLView",
            "description": "",
            "description_tooltip": null,
            "layout": "IPY_MODEL_d184fd4e08b2413a857d93f47f49703b",
            "placeholder": "​",
            "style": "IPY_MODEL_11d4fb2c0a534fce804ffd0981632d33",
            "value": " 4.60M/4.60M [00:00&lt;00:00, 21.2MB/s]"
          }
        },
        "ab652882f76249a6b13f37692589cb12": {
          "model_module": "@jupyter-widgets/base",
          "model_module_version": "1.2.0",
          "model_name": "LayoutModel",
          "state": {
            "_model_module": "@jupyter-widgets/base",
            "_model_module_version": "1.2.0",
            "_model_name": "LayoutModel",
            "_view_count": null,
            "_view_module": "@jupyter-widgets/base",
            "_view_module_version": "1.2.0",
            "_view_name": "LayoutView",
            "align_content": null,
            "align_items": null,
            "align_self": null,
            "border": null,
            "bottom": null,
            "display": null,
            "flex": null,
            "flex_flow": null,
            "grid_area": null,
            "grid_auto_columns": null,
            "grid_auto_flow": null,
            "grid_auto_rows": null,
            "grid_column": null,
            "grid_gap": null,
            "grid_row": null,
            "grid_template_areas": null,
            "grid_template_columns": null,
            "grid_template_rows": null,
            "height": null,
            "justify_content": null,
            "justify_items": null,
            "left": null,
            "margin": null,
            "max_height": null,
            "max_width": null,
            "min_height": null,
            "min_width": null,
            "object_fit": null,
            "object_position": null,
            "order": null,
            "overflow": null,
            "overflow_x": null,
            "overflow_y": null,
            "padding": null,
            "right": null,
            "top": null,
            "visibility": null,
            "width": null
          }
        },
        "abf86b65cc794a5fbff387719e75da3a": {
          "model_module": "@jupyter-widgets/base",
          "model_module_version": "1.2.0",
          "model_name": "LayoutModel",
          "state": {
            "_model_module": "@jupyter-widgets/base",
            "_model_module_version": "1.2.0",
            "_model_name": "LayoutModel",
            "_view_count": null,
            "_view_module": "@jupyter-widgets/base",
            "_view_module_version": "1.2.0",
            "_view_name": "LayoutView",
            "align_content": null,
            "align_items": null,
            "align_self": null,
            "border": null,
            "bottom": null,
            "display": null,
            "flex": null,
            "flex_flow": null,
            "grid_area": null,
            "grid_auto_columns": null,
            "grid_auto_flow": null,
            "grid_auto_rows": null,
            "grid_column": null,
            "grid_gap": null,
            "grid_row": null,
            "grid_template_areas": null,
            "grid_template_columns": null,
            "grid_template_rows": null,
            "height": null,
            "justify_content": null,
            "justify_items": null,
            "left": null,
            "margin": null,
            "max_height": null,
            "max_width": null,
            "min_height": null,
            "min_width": null,
            "object_fit": null,
            "object_position": null,
            "order": null,
            "overflow": null,
            "overflow_x": null,
            "overflow_y": null,
            "padding": null,
            "right": null,
            "top": null,
            "visibility": null,
            "width": null
          }
        },
        "abf9f53569414cef95a6db9e947a60a9": {
          "model_module": "@jupyter-widgets/controls",
          "model_module_version": "1.5.0",
          "model_name": "ProgressStyleModel",
          "state": {
            "_model_module": "@jupyter-widgets/controls",
            "_model_module_version": "1.5.0",
            "_model_name": "ProgressStyleModel",
            "_view_count": null,
            "_view_module": "@jupyter-widgets/base",
            "_view_module_version": "1.2.0",
            "_view_name": "StyleView",
            "bar_color": null,
            "description_width": ""
          }
        },
        "ad2460317ac84f70b3fff64d6263a560": {
          "model_module": "@jupyter-widgets/controls",
          "model_module_version": "1.5.0",
          "model_name": "DescriptionStyleModel",
          "state": {
            "_model_module": "@jupyter-widgets/controls",
            "_model_module_version": "1.5.0",
            "_model_name": "DescriptionStyleModel",
            "_view_count": null,
            "_view_module": "@jupyter-widgets/base",
            "_view_module_version": "1.2.0",
            "_view_name": "StyleView",
            "description_width": ""
          }
        },
        "b06ed16f8e084ce7b0d7619f2aee8d1d": {
          "model_module": "@jupyter-widgets/base",
          "model_module_version": "1.2.0",
          "model_name": "LayoutModel",
          "state": {
            "_model_module": "@jupyter-widgets/base",
            "_model_module_version": "1.2.0",
            "_model_name": "LayoutModel",
            "_view_count": null,
            "_view_module": "@jupyter-widgets/base",
            "_view_module_version": "1.2.0",
            "_view_name": "LayoutView",
            "align_content": null,
            "align_items": null,
            "align_self": null,
            "border": null,
            "bottom": null,
            "display": null,
            "flex": null,
            "flex_flow": null,
            "grid_area": null,
            "grid_auto_columns": null,
            "grid_auto_flow": null,
            "grid_auto_rows": null,
            "grid_column": null,
            "grid_gap": null,
            "grid_row": null,
            "grid_template_areas": null,
            "grid_template_columns": null,
            "grid_template_rows": null,
            "height": null,
            "justify_content": null,
            "justify_items": null,
            "left": null,
            "margin": null,
            "max_height": null,
            "max_width": null,
            "min_height": null,
            "min_width": null,
            "object_fit": null,
            "object_position": null,
            "order": null,
            "overflow": null,
            "overflow_x": null,
            "overflow_y": null,
            "padding": null,
            "right": null,
            "top": null,
            "visibility": null,
            "width": null
          }
        },
        "b0b3c9b3443845e9b34efe91407cf8ae": {
          "model_module": "@jupyter-widgets/controls",
          "model_module_version": "1.5.0",
          "model_name": "DescriptionStyleModel",
          "state": {
            "_model_module": "@jupyter-widgets/controls",
            "_model_module_version": "1.5.0",
            "_model_name": "DescriptionStyleModel",
            "_view_count": null,
            "_view_module": "@jupyter-widgets/base",
            "_view_module_version": "1.2.0",
            "_view_name": "StyleView",
            "description_width": ""
          }
        },
        "b4672b5fba9348af9d116a590fa0e14b": {
          "model_module": "@jupyter-widgets/controls",
          "model_module_version": "1.5.0",
          "model_name": "HBoxModel",
          "state": {
            "_dom_classes": [],
            "_model_module": "@jupyter-widgets/controls",
            "_model_module_version": "1.5.0",
            "_model_name": "HBoxModel",
            "_view_count": null,
            "_view_module": "@jupyter-widgets/controls",
            "_view_module_version": "1.5.0",
            "_view_name": "HBoxView",
            "box_style": "",
            "children": [
              "IPY_MODEL_4bb5397a94bc4386a7a6f6db351d41ac",
              "IPY_MODEL_14638c3dd2ac49d5875dad949b29ab96",
              "IPY_MODEL_07ca1bb330d44650ad9d3923b3d88c06"
            ],
            "layout": "IPY_MODEL_231867e28ae34509bbddfe0428524b27"
          }
        },
        "b4c23388b8824692a03ecc663357884f": {
          "model_module": "@jupyter-widgets/controls",
          "model_module_version": "1.5.0",
          "model_name": "FloatProgressModel",
          "state": {
            "_dom_classes": [],
            "_model_module": "@jupyter-widgets/controls",
            "_model_module_version": "1.5.0",
            "_model_name": "FloatProgressModel",
            "_view_count": null,
            "_view_module": "@jupyter-widgets/controls",
            "_view_module_version": "1.5.0",
            "_view_name": "ProgressView",
            "bar_style": "success",
            "description": "",
            "description_tooltip": null,
            "layout": "IPY_MODEL_005119bc6b8e456f82ced785a8362060",
            "max": 1000,
            "min": 0,
            "orientation": "horizontal",
            "style": "IPY_MODEL_947f8f1cf5c244b08f48242a103cb7be",
            "value": 1000
          }
        },
        "b7032bd4433f4a71947c07ddeee2f3d9": {
          "model_module": "@jupyter-widgets/base",
          "model_module_version": "1.2.0",
          "model_name": "LayoutModel",
          "state": {
            "_model_module": "@jupyter-widgets/base",
            "_model_module_version": "1.2.0",
            "_model_name": "LayoutModel",
            "_view_count": null,
            "_view_module": "@jupyter-widgets/base",
            "_view_module_version": "1.2.0",
            "_view_name": "LayoutView",
            "align_content": null,
            "align_items": null,
            "align_self": null,
            "border": null,
            "bottom": null,
            "display": null,
            "flex": null,
            "flex_flow": null,
            "grid_area": null,
            "grid_auto_columns": null,
            "grid_auto_flow": null,
            "grid_auto_rows": null,
            "grid_column": null,
            "grid_gap": null,
            "grid_row": null,
            "grid_template_areas": null,
            "grid_template_columns": null,
            "grid_template_rows": null,
            "height": null,
            "justify_content": null,
            "justify_items": null,
            "left": null,
            "margin": null,
            "max_height": null,
            "max_width": null,
            "min_height": null,
            "min_width": null,
            "object_fit": null,
            "object_position": null,
            "order": null,
            "overflow": null,
            "overflow_x": null,
            "overflow_y": null,
            "padding": null,
            "right": null,
            "top": null,
            "visibility": null,
            "width": null
          }
        },
        "b71661dbd05c4fe7bfaed9e1ae137fa7": {
          "model_module": "@jupyter-widgets/base",
          "model_module_version": "1.2.0",
          "model_name": "LayoutModel",
          "state": {
            "_model_module": "@jupyter-widgets/base",
            "_model_module_version": "1.2.0",
            "_model_name": "LayoutModel",
            "_view_count": null,
            "_view_module": "@jupyter-widgets/base",
            "_view_module_version": "1.2.0",
            "_view_name": "LayoutView",
            "align_content": null,
            "align_items": null,
            "align_self": null,
            "border": null,
            "bottom": null,
            "display": null,
            "flex": null,
            "flex_flow": null,
            "grid_area": null,
            "grid_auto_columns": null,
            "grid_auto_flow": null,
            "grid_auto_rows": null,
            "grid_column": null,
            "grid_gap": null,
            "grid_row": null,
            "grid_template_areas": null,
            "grid_template_columns": null,
            "grid_template_rows": null,
            "height": null,
            "justify_content": null,
            "justify_items": null,
            "left": null,
            "margin": null,
            "max_height": null,
            "max_width": null,
            "min_height": null,
            "min_width": null,
            "object_fit": null,
            "object_position": null,
            "order": null,
            "overflow": null,
            "overflow_x": null,
            "overflow_y": null,
            "padding": null,
            "right": null,
            "top": null,
            "visibility": null,
            "width": null
          }
        },
        "b7890c37f7be45e5a2695f68a97ddd83": {
          "model_module": "@jupyter-widgets/controls",
          "model_module_version": "1.5.0",
          "model_name": "HTMLModel",
          "state": {
            "_dom_classes": [],
            "_model_module": "@jupyter-widgets/controls",
            "_model_module_version": "1.5.0",
            "_model_name": "HTMLModel",
            "_view_count": null,
            "_view_module": "@jupyter-widgets/controls",
            "_view_module_version": "1.5.0",
            "_view_name": "HTMLView",
            "description": "",
            "description_tooltip": null,
            "layout": "IPY_MODEL_b71661dbd05c4fe7bfaed9e1ae137fa7",
            "placeholder": "​",
            "style": "IPY_MODEL_7f0b15bcc14c4312b2af777da33b3ba6",
            "value": " 1.15k/1.15k [00:00&lt;00:00, 76.2kB/s]"
          }
        },
        "b8db743af67142cf81ece044dd54246e": {
          "model_module": "@jupyter-widgets/controls",
          "model_module_version": "1.5.0",
          "model_name": "FloatProgressModel",
          "state": {
            "_dom_classes": [],
            "_model_module": "@jupyter-widgets/controls",
            "_model_module_version": "1.5.0",
            "_model_name": "FloatProgressModel",
            "_view_count": null,
            "_view_module": "@jupyter-widgets/controls",
            "_view_module_version": "1.5.0",
            "_view_name": "ProgressView",
            "bar_style": "success",
            "description": "",
            "description_tooltip": null,
            "layout": "IPY_MODEL_eb0a55e1a3924d85a2d5f3b8128972a3",
            "max": 1014,
            "min": 0,
            "orientation": "horizontal",
            "style": "IPY_MODEL_84276e6bc8e84d24a9700a3a9807084f",
            "value": 1014
          }
        },
        "bacecfba9f964972b5464f65f943e499": {
          "model_module": "@jupyter-widgets/base",
          "model_module_version": "1.2.0",
          "model_name": "LayoutModel",
          "state": {
            "_model_module": "@jupyter-widgets/base",
            "_model_module_version": "1.2.0",
            "_model_name": "LayoutModel",
            "_view_count": null,
            "_view_module": "@jupyter-widgets/base",
            "_view_module_version": "1.2.0",
            "_view_name": "LayoutView",
            "align_content": null,
            "align_items": null,
            "align_self": null,
            "border": null,
            "bottom": null,
            "display": null,
            "flex": null,
            "flex_flow": null,
            "grid_area": null,
            "grid_auto_columns": null,
            "grid_auto_flow": null,
            "grid_auto_rows": null,
            "grid_column": null,
            "grid_gap": null,
            "grid_row": null,
            "grid_template_areas": null,
            "grid_template_columns": null,
            "grid_template_rows": null,
            "height": null,
            "justify_content": null,
            "justify_items": null,
            "left": null,
            "margin": null,
            "max_height": null,
            "max_width": null,
            "min_height": null,
            "min_width": null,
            "object_fit": null,
            "object_position": null,
            "order": null,
            "overflow": null,
            "overflow_x": null,
            "overflow_y": null,
            "padding": null,
            "right": null,
            "top": null,
            "visibility": null,
            "width": null
          }
        },
        "bd7a8a1cbfe944a8917f530fbeb8c822": {
          "model_module": "@jupyter-widgets/base",
          "model_module_version": "1.2.0",
          "model_name": "LayoutModel",
          "state": {
            "_model_module": "@jupyter-widgets/base",
            "_model_module_version": "1.2.0",
            "_model_name": "LayoutModel",
            "_view_count": null,
            "_view_module": "@jupyter-widgets/base",
            "_view_module_version": "1.2.0",
            "_view_name": "LayoutView",
            "align_content": null,
            "align_items": null,
            "align_self": null,
            "border": null,
            "bottom": null,
            "display": null,
            "flex": null,
            "flex_flow": null,
            "grid_area": null,
            "grid_auto_columns": null,
            "grid_auto_flow": null,
            "grid_auto_rows": null,
            "grid_column": null,
            "grid_gap": null,
            "grid_row": null,
            "grid_template_areas": null,
            "grid_template_columns": null,
            "grid_template_rows": null,
            "height": null,
            "justify_content": null,
            "justify_items": null,
            "left": null,
            "margin": null,
            "max_height": null,
            "max_width": null,
            "min_height": null,
            "min_width": null,
            "object_fit": null,
            "object_position": null,
            "order": null,
            "overflow": null,
            "overflow_x": null,
            "overflow_y": null,
            "padding": null,
            "right": null,
            "top": null,
            "visibility": null,
            "width": null
          }
        },
        "be76992ad5d34cc2b74cdc9fc0416065": {
          "model_module": "@jupyter-widgets/base",
          "model_module_version": "1.2.0",
          "model_name": "LayoutModel",
          "state": {
            "_model_module": "@jupyter-widgets/base",
            "_model_module_version": "1.2.0",
            "_model_name": "LayoutModel",
            "_view_count": null,
            "_view_module": "@jupyter-widgets/base",
            "_view_module_version": "1.2.0",
            "_view_name": "LayoutView",
            "align_content": null,
            "align_items": null,
            "align_self": null,
            "border": null,
            "bottom": null,
            "display": null,
            "flex": null,
            "flex_flow": null,
            "grid_area": null,
            "grid_auto_columns": null,
            "grid_auto_flow": null,
            "grid_auto_rows": null,
            "grid_column": null,
            "grid_gap": null,
            "grid_row": null,
            "grid_template_areas": null,
            "grid_template_columns": null,
            "grid_template_rows": null,
            "height": null,
            "justify_content": null,
            "justify_items": null,
            "left": null,
            "margin": null,
            "max_height": null,
            "max_width": null,
            "min_height": null,
            "min_width": null,
            "object_fit": null,
            "object_position": null,
            "order": null,
            "overflow": null,
            "overflow_x": null,
            "overflow_y": null,
            "padding": null,
            "right": null,
            "top": null,
            "visibility": null,
            "width": null
          }
        },
        "bf9ecce2a883415fa417da7888545524": {
          "model_module": "@jupyter-widgets/controls",
          "model_module_version": "1.5.0",
          "model_name": "ProgressStyleModel",
          "state": {
            "_model_module": "@jupyter-widgets/controls",
            "_model_module_version": "1.5.0",
            "_model_name": "ProgressStyleModel",
            "_view_count": null,
            "_view_module": "@jupyter-widgets/base",
            "_view_module_version": "1.2.0",
            "_view_name": "StyleView",
            "bar_color": null,
            "description_width": ""
          }
        },
        "c047018547cf4a60a709a6b3ff7b17cf": {
          "model_module": "@jupyter-widgets/controls",
          "model_module_version": "1.5.0",
          "model_name": "HBoxModel",
          "state": {
            "_dom_classes": [],
            "_model_module": "@jupyter-widgets/controls",
            "_model_module_version": "1.5.0",
            "_model_name": "HBoxModel",
            "_view_count": null,
            "_view_module": "@jupyter-widgets/controls",
            "_view_module_version": "1.5.0",
            "_view_name": "HBoxView",
            "box_style": "",
            "children": [
              "IPY_MODEL_34dbd0b64a9344b1b91dbf353a2785a9",
              "IPY_MODEL_0c7c2d59d56547b1866478efed3763bf",
              "IPY_MODEL_5536cfb16ed94eb58509a2d5d4d623c3"
            ],
            "layout": "IPY_MODEL_a5cd28ef673e4a44bb9448173447b85f"
          }
        },
        "c17b193d7c1f465c8ea39c1f5b46a3a9": {
          "model_module": "@jupyter-widgets/controls",
          "model_module_version": "1.5.0",
          "model_name": "ProgressStyleModel",
          "state": {
            "_model_module": "@jupyter-widgets/controls",
            "_model_module_version": "1.5.0",
            "_model_name": "ProgressStyleModel",
            "_view_count": null,
            "_view_module": "@jupyter-widgets/base",
            "_view_module_version": "1.2.0",
            "_view_name": "StyleView",
            "bar_color": null,
            "description_width": ""
          }
        },
        "c342cd644da24fcfb6aacd2aaed91a8c": {
          "model_module": "@jupyter-widgets/base",
          "model_module_version": "1.2.0",
          "model_name": "LayoutModel",
          "state": {
            "_model_module": "@jupyter-widgets/base",
            "_model_module_version": "1.2.0",
            "_model_name": "LayoutModel",
            "_view_count": null,
            "_view_module": "@jupyter-widgets/base",
            "_view_module_version": "1.2.0",
            "_view_name": "LayoutView",
            "align_content": null,
            "align_items": null,
            "align_self": null,
            "border": null,
            "bottom": null,
            "display": null,
            "flex": null,
            "flex_flow": null,
            "grid_area": null,
            "grid_auto_columns": null,
            "grid_auto_flow": null,
            "grid_auto_rows": null,
            "grid_column": null,
            "grid_gap": null,
            "grid_row": null,
            "grid_template_areas": null,
            "grid_template_columns": null,
            "grid_template_rows": null,
            "height": null,
            "justify_content": null,
            "justify_items": null,
            "left": null,
            "margin": null,
            "max_height": null,
            "max_width": null,
            "min_height": null,
            "min_width": null,
            "object_fit": null,
            "object_position": null,
            "order": null,
            "overflow": null,
            "overflow_x": null,
            "overflow_y": null,
            "padding": null,
            "right": null,
            "top": null,
            "visibility": null,
            "width": null
          }
        },
        "c58915c74dea4002956effa4a9c16e6f": {
          "model_module": "@jupyter-widgets/controls",
          "model_module_version": "1.5.0",
          "model_name": "HTMLModel",
          "state": {
            "_dom_classes": [],
            "_model_module": "@jupyter-widgets/controls",
            "_model_module_version": "1.5.0",
            "_model_name": "HTMLModel",
            "_view_count": null,
            "_view_module": "@jupyter-widgets/controls",
            "_view_module_version": "1.5.0",
            "_view_name": "HTMLView",
            "description": "",
            "description_tooltip": null,
            "layout": "IPY_MODEL_2efda05d7c864fada138d1859f3f58ca",
            "placeholder": "​",
            "style": "IPY_MODEL_6fcb32cdb2c6456686e4e407978243d5",
            "value": "train.jsonl: 100%"
          }
        },
        "cc242eb6f43f47369ed79bb74024f60e": {
          "model_module": "@jupyter-widgets/controls",
          "model_module_version": "1.5.0",
          "model_name": "HBoxModel",
          "state": {
            "_dom_classes": [],
            "_model_module": "@jupyter-widgets/controls",
            "_model_module_version": "1.5.0",
            "_model_name": "HBoxModel",
            "_view_count": null,
            "_view_module": "@jupyter-widgets/controls",
            "_view_module_version": "1.5.0",
            "_view_name": "HBoxView",
            "box_style": "",
            "children": [
              "IPY_MODEL_a02612df44b04263b3ffddcdf79d66b8",
              "IPY_MODEL_973964c7364a4f128fb1e5489c9b3cdb",
              "IPY_MODEL_9f8d6c2631ac42f2a458bdc266385ae3"
            ],
            "layout": "IPY_MODEL_3ba1cf351354462eae531241c814325f"
          }
        },
        "ccdb24b5be1f4e8585a3dc0209236ff9": {
          "model_module": "@jupyter-widgets/base",
          "model_module_version": "1.2.0",
          "model_name": "LayoutModel",
          "state": {
            "_model_module": "@jupyter-widgets/base",
            "_model_module_version": "1.2.0",
            "_model_name": "LayoutModel",
            "_view_count": null,
            "_view_module": "@jupyter-widgets/base",
            "_view_module_version": "1.2.0",
            "_view_name": "LayoutView",
            "align_content": null,
            "align_items": null,
            "align_self": null,
            "border": null,
            "bottom": null,
            "display": null,
            "flex": null,
            "flex_flow": null,
            "grid_area": null,
            "grid_auto_columns": null,
            "grid_auto_flow": null,
            "grid_auto_rows": null,
            "grid_column": null,
            "grid_gap": null,
            "grid_row": null,
            "grid_template_areas": null,
            "grid_template_columns": null,
            "grid_template_rows": null,
            "height": null,
            "justify_content": null,
            "justify_items": null,
            "left": null,
            "margin": null,
            "max_height": null,
            "max_width": null,
            "min_height": null,
            "min_width": null,
            "object_fit": null,
            "object_position": null,
            "order": null,
            "overflow": null,
            "overflow_x": null,
            "overflow_y": null,
            "padding": null,
            "right": null,
            "top": null,
            "visibility": null,
            "width": null
          }
        },
        "ce3ee46c77534c148cf430c59b56d3e7": {
          "model_module": "@jupyter-widgets/controls",
          "model_module_version": "1.5.0",
          "model_name": "ProgressStyleModel",
          "state": {
            "_model_module": "@jupyter-widgets/controls",
            "_model_module_version": "1.5.0",
            "_model_name": "ProgressStyleModel",
            "_view_count": null,
            "_view_module": "@jupyter-widgets/base",
            "_view_module_version": "1.2.0",
            "_view_name": "StyleView",
            "bar_color": null,
            "description_width": ""
          }
        },
        "cfcb7f0a38764d62baf62169938b767e": {
          "model_module": "@jupyter-widgets/controls",
          "model_module_version": "1.5.0",
          "model_name": "DescriptionStyleModel",
          "state": {
            "_model_module": "@jupyter-widgets/controls",
            "_model_module_version": "1.5.0",
            "_model_name": "DescriptionStyleModel",
            "_view_count": null,
            "_view_module": "@jupyter-widgets/base",
            "_view_module_version": "1.2.0",
            "_view_name": "StyleView",
            "description_width": ""
          }
        },
        "d0737bc066f74ca7895e1a12c9b9c136": {
          "model_module": "@jupyter-widgets/controls",
          "model_module_version": "1.5.0",
          "model_name": "DescriptionStyleModel",
          "state": {
            "_model_module": "@jupyter-widgets/controls",
            "_model_module_version": "1.5.0",
            "_model_name": "DescriptionStyleModel",
            "_view_count": null,
            "_view_module": "@jupyter-widgets/base",
            "_view_module_version": "1.2.0",
            "_view_name": "StyleView",
            "description_width": ""
          }
        },
        "d184fd4e08b2413a857d93f47f49703b": {
          "model_module": "@jupyter-widgets/base",
          "model_module_version": "1.2.0",
          "model_name": "LayoutModel",
          "state": {
            "_model_module": "@jupyter-widgets/base",
            "_model_module_version": "1.2.0",
            "_model_name": "LayoutModel",
            "_view_count": null,
            "_view_module": "@jupyter-widgets/base",
            "_view_module_version": "1.2.0",
            "_view_name": "LayoutView",
            "align_content": null,
            "align_items": null,
            "align_self": null,
            "border": null,
            "bottom": null,
            "display": null,
            "flex": null,
            "flex_flow": null,
            "grid_area": null,
            "grid_auto_columns": null,
            "grid_auto_flow": null,
            "grid_auto_rows": null,
            "grid_column": null,
            "grid_gap": null,
            "grid_row": null,
            "grid_template_areas": null,
            "grid_template_columns": null,
            "grid_template_rows": null,
            "height": null,
            "justify_content": null,
            "justify_items": null,
            "left": null,
            "margin": null,
            "max_height": null,
            "max_width": null,
            "min_height": null,
            "min_width": null,
            "object_fit": null,
            "object_position": null,
            "order": null,
            "overflow": null,
            "overflow_x": null,
            "overflow_y": null,
            "padding": null,
            "right": null,
            "top": null,
            "visibility": null,
            "width": null
          }
        },
        "d38ba65d93974f9e902c842369a53535": {
          "model_module": "@jupyter-widgets/controls",
          "model_module_version": "1.5.0",
          "model_name": "HTMLModel",
          "state": {
            "_dom_classes": [],
            "_model_module": "@jupyter-widgets/controls",
            "_model_module_version": "1.5.0",
            "_model_name": "HTMLModel",
            "_view_count": null,
            "_view_module": "@jupyter-widgets/controls",
            "_view_module_version": "1.5.0",
            "_view_name": "HTMLView",
            "description": "",
            "description_tooltip": null,
            "layout": "IPY_MODEL_9c429cb6d06247b19be0869f211b49bc",
            "placeholder": "​",
            "style": "IPY_MODEL_d0737bc066f74ca7895e1a12c9b9c136",
            "value": "README.md: 100%"
          }
        },
        "d3c046dd25ab417db1e0c665a9efdd9f": {
          "model_module": "@jupyter-widgets/controls",
          "model_module_version": "1.5.0",
          "model_name": "FloatProgressModel",
          "state": {
            "_dom_classes": [],
            "_model_module": "@jupyter-widgets/controls",
            "_model_module_version": "1.5.0",
            "_model_name": "FloatProgressModel",
            "_view_count": null,
            "_view_module": "@jupyter-widgets/controls",
            "_view_module_version": "1.5.0",
            "_view_name": "ProgressView",
            "bar_style": "success",
            "description": "",
            "description_tooltip": null,
            "layout": "IPY_MODEL_1badc4c28ced49028546abcde5201d2c",
            "max": 29000,
            "min": 0,
            "orientation": "horizontal",
            "style": "IPY_MODEL_5539f1675ada405f8852cd53be5991af",
            "value": 29000
          }
        },
        "d42068d33de64b92bfb069c5d4e7f667": {
          "model_module": "@jupyter-widgets/base",
          "model_module_version": "1.2.0",
          "model_name": "LayoutModel",
          "state": {
            "_model_module": "@jupyter-widgets/base",
            "_model_module_version": "1.2.0",
            "_model_name": "LayoutModel",
            "_view_count": null,
            "_view_module": "@jupyter-widgets/base",
            "_view_module_version": "1.2.0",
            "_view_name": "LayoutView",
            "align_content": null,
            "align_items": null,
            "align_self": null,
            "border": null,
            "bottom": null,
            "display": null,
            "flex": null,
            "flex_flow": null,
            "grid_area": null,
            "grid_auto_columns": null,
            "grid_auto_flow": null,
            "grid_auto_rows": null,
            "grid_column": null,
            "grid_gap": null,
            "grid_row": null,
            "grid_template_areas": null,
            "grid_template_columns": null,
            "grid_template_rows": null,
            "height": null,
            "justify_content": null,
            "justify_items": null,
            "left": null,
            "margin": null,
            "max_height": null,
            "max_width": null,
            "min_height": null,
            "min_width": null,
            "object_fit": null,
            "object_position": null,
            "order": null,
            "overflow": null,
            "overflow_x": null,
            "overflow_y": null,
            "padding": null,
            "right": null,
            "top": null,
            "visibility": null,
            "width": null
          }
        },
        "d8cb5646f42f42d8b332a8d70de526e4": {
          "model_module": "@jupyter-widgets/base",
          "model_module_version": "1.2.0",
          "model_name": "LayoutModel",
          "state": {
            "_model_module": "@jupyter-widgets/base",
            "_model_module_version": "1.2.0",
            "_model_name": "LayoutModel",
            "_view_count": null,
            "_view_module": "@jupyter-widgets/base",
            "_view_module_version": "1.2.0",
            "_view_name": "LayoutView",
            "align_content": null,
            "align_items": null,
            "align_self": null,
            "border": null,
            "bottom": null,
            "display": null,
            "flex": null,
            "flex_flow": null,
            "grid_area": null,
            "grid_auto_columns": null,
            "grid_auto_flow": null,
            "grid_auto_rows": null,
            "grid_column": null,
            "grid_gap": null,
            "grid_row": null,
            "grid_template_areas": null,
            "grid_template_columns": null,
            "grid_template_rows": null,
            "height": null,
            "justify_content": null,
            "justify_items": null,
            "left": null,
            "margin": null,
            "max_height": null,
            "max_width": null,
            "min_height": null,
            "min_width": null,
            "object_fit": null,
            "object_position": null,
            "order": null,
            "overflow": null,
            "overflow_x": null,
            "overflow_y": null,
            "padding": null,
            "right": null,
            "top": null,
            "visibility": null,
            "width": null
          }
        },
        "d9ad76b4423b431caf42e7e6957c5cd6": {
          "model_module": "@jupyter-widgets/base",
          "model_module_version": "1.2.0",
          "model_name": "LayoutModel",
          "state": {
            "_model_module": "@jupyter-widgets/base",
            "_model_module_version": "1.2.0",
            "_model_name": "LayoutModel",
            "_view_count": null,
            "_view_module": "@jupyter-widgets/base",
            "_view_module_version": "1.2.0",
            "_view_name": "LayoutView",
            "align_content": null,
            "align_items": null,
            "align_self": null,
            "border": null,
            "bottom": null,
            "display": null,
            "flex": null,
            "flex_flow": null,
            "grid_area": null,
            "grid_auto_columns": null,
            "grid_auto_flow": null,
            "grid_auto_rows": null,
            "grid_column": null,
            "grid_gap": null,
            "grid_row": null,
            "grid_template_areas": null,
            "grid_template_columns": null,
            "grid_template_rows": null,
            "height": null,
            "justify_content": null,
            "justify_items": null,
            "left": null,
            "margin": null,
            "max_height": null,
            "max_width": null,
            "min_height": null,
            "min_width": null,
            "object_fit": null,
            "object_position": null,
            "order": null,
            "overflow": null,
            "overflow_x": null,
            "overflow_y": null,
            "padding": null,
            "right": null,
            "top": null,
            "visibility": null,
            "width": null
          }
        },
        "da6ca0f3e6f24506b5c0041e6bf9f16a": {
          "model_module": "@jupyter-widgets/controls",
          "model_module_version": "1.5.0",
          "model_name": "ProgressStyleModel",
          "state": {
            "_model_module": "@jupyter-widgets/controls",
            "_model_module_version": "1.5.0",
            "_model_name": "ProgressStyleModel",
            "_view_count": null,
            "_view_module": "@jupyter-widgets/base",
            "_view_module_version": "1.2.0",
            "_view_name": "StyleView",
            "bar_color": null,
            "description_width": ""
          }
        },
        "df4833701da7439abf906ddf9d56435c": {
          "model_module": "@jupyter-widgets/controls",
          "model_module_version": "1.5.0",
          "model_name": "HTMLModel",
          "state": {
            "_dom_classes": [],
            "_model_module": "@jupyter-widgets/controls",
            "_model_module_version": "1.5.0",
            "_model_name": "HTMLModel",
            "_view_count": null,
            "_view_module": "@jupyter-widgets/controls",
            "_view_module_version": "1.5.0",
            "_view_name": "HTMLView",
            "description": "",
            "description_tooltip": null,
            "layout": "IPY_MODEL_63ec468a090b4d9a9d590a4abf64693b",
            "placeholder": "​",
            "style": "IPY_MODEL_591cd810546a49aca7c6fe349bf47248",
            "value": "Generating test split: 100%"
          }
        },
        "e0d5ec1a5ef14fcc984216dbda57e99e": {
          "model_module": "@jupyter-widgets/controls",
          "model_module_version": "1.5.0",
          "model_name": "FloatProgressModel",
          "state": {
            "_dom_classes": [],
            "_model_module": "@jupyter-widgets/controls",
            "_model_module_version": "1.5.0",
            "_model_name": "FloatProgressModel",
            "_view_count": null,
            "_view_module": "@jupyter-widgets/controls",
            "_view_module_version": "1.5.0",
            "_view_name": "ProgressView",
            "bar_style": "success",
            "description": "",
            "description_tooltip": null,
            "layout": "IPY_MODEL_f4c1f7bd1c734cccb1c1c82b41798b20",
            "max": 1149,
            "min": 0,
            "orientation": "horizontal",
            "style": "IPY_MODEL_a921645e689c4a499a9d95a58a344f93",
            "value": 1149
          }
        },
        "e10114eb04ba4093b7032c218d325599": {
          "model_module": "@jupyter-widgets/controls",
          "model_module_version": "1.5.0",
          "model_name": "HTMLModel",
          "state": {
            "_dom_classes": [],
            "_model_module": "@jupyter-widgets/controls",
            "_model_module_version": "1.5.0",
            "_model_name": "HTMLModel",
            "_view_count": null,
            "_view_module": "@jupyter-widgets/controls",
            "_view_module_version": "1.5.0",
            "_view_name": "HTMLView",
            "description": "",
            "description_tooltip": null,
            "layout": "IPY_MODEL_d42068d33de64b92bfb069c5d4e7f667",
            "placeholder": "​",
            "style": "IPY_MODEL_3bd095824b2746cfbbb7888d11651f77",
            "value": " 29000/29000 [00:04&lt;00:00, 6961.04 examples/s]"
          }
        },
        "e707becc8e324416abe1bdd94c8d4f1f": {
          "model_module": "@jupyter-widgets/base",
          "model_module_version": "1.2.0",
          "model_name": "LayoutModel",
          "state": {
            "_model_module": "@jupyter-widgets/base",
            "_model_module_version": "1.2.0",
            "_model_name": "LayoutModel",
            "_view_count": null,
            "_view_module": "@jupyter-widgets/base",
            "_view_module_version": "1.2.0",
            "_view_name": "LayoutView",
            "align_content": null,
            "align_items": null,
            "align_self": null,
            "border": null,
            "bottom": null,
            "display": null,
            "flex": null,
            "flex_flow": null,
            "grid_area": null,
            "grid_auto_columns": null,
            "grid_auto_flow": null,
            "grid_auto_rows": null,
            "grid_column": null,
            "grid_gap": null,
            "grid_row": null,
            "grid_template_areas": null,
            "grid_template_columns": null,
            "grid_template_rows": null,
            "height": null,
            "justify_content": null,
            "justify_items": null,
            "left": null,
            "margin": null,
            "max_height": null,
            "max_width": null,
            "min_height": null,
            "min_width": null,
            "object_fit": null,
            "object_position": null,
            "order": null,
            "overflow": null,
            "overflow_x": null,
            "overflow_y": null,
            "padding": null,
            "right": null,
            "top": null,
            "visibility": null,
            "width": null
          }
        },
        "eae47e96a6584f5fbbb565910dea65bb": {
          "model_module": "@jupyter-widgets/base",
          "model_module_version": "1.2.0",
          "model_name": "LayoutModel",
          "state": {
            "_model_module": "@jupyter-widgets/base",
            "_model_module_version": "1.2.0",
            "_model_name": "LayoutModel",
            "_view_count": null,
            "_view_module": "@jupyter-widgets/base",
            "_view_module_version": "1.2.0",
            "_view_name": "LayoutView",
            "align_content": null,
            "align_items": null,
            "align_self": null,
            "border": null,
            "bottom": null,
            "display": null,
            "flex": null,
            "flex_flow": null,
            "grid_area": null,
            "grid_auto_columns": null,
            "grid_auto_flow": null,
            "grid_auto_rows": null,
            "grid_column": null,
            "grid_gap": null,
            "grid_row": null,
            "grid_template_areas": null,
            "grid_template_columns": null,
            "grid_template_rows": null,
            "height": null,
            "justify_content": null,
            "justify_items": null,
            "left": null,
            "margin": null,
            "max_height": null,
            "max_width": null,
            "min_height": null,
            "min_width": null,
            "object_fit": null,
            "object_position": null,
            "order": null,
            "overflow": null,
            "overflow_x": null,
            "overflow_y": null,
            "padding": null,
            "right": null,
            "top": null,
            "visibility": null,
            "width": null
          }
        },
        "eb0a55e1a3924d85a2d5f3b8128972a3": {
          "model_module": "@jupyter-widgets/base",
          "model_module_version": "1.2.0",
          "model_name": "LayoutModel",
          "state": {
            "_model_module": "@jupyter-widgets/base",
            "_model_module_version": "1.2.0",
            "_model_name": "LayoutModel",
            "_view_count": null,
            "_view_module": "@jupyter-widgets/base",
            "_view_module_version": "1.2.0",
            "_view_name": "LayoutView",
            "align_content": null,
            "align_items": null,
            "align_self": null,
            "border": null,
            "bottom": null,
            "display": null,
            "flex": null,
            "flex_flow": null,
            "grid_area": null,
            "grid_auto_columns": null,
            "grid_auto_flow": null,
            "grid_auto_rows": null,
            "grid_column": null,
            "grid_gap": null,
            "grid_row": null,
            "grid_template_areas": null,
            "grid_template_columns": null,
            "grid_template_rows": null,
            "height": null,
            "justify_content": null,
            "justify_items": null,
            "left": null,
            "margin": null,
            "max_height": null,
            "max_width": null,
            "min_height": null,
            "min_width": null,
            "object_fit": null,
            "object_position": null,
            "order": null,
            "overflow": null,
            "overflow_x": null,
            "overflow_y": null,
            "padding": null,
            "right": null,
            "top": null,
            "visibility": null,
            "width": null
          }
        },
        "ee1d3e10d5c64d5cbaf0f537af3496da": {
          "model_module": "@jupyter-widgets/controls",
          "model_module_version": "1.5.0",
          "model_name": "ProgressStyleModel",
          "state": {
            "_model_module": "@jupyter-widgets/controls",
            "_model_module_version": "1.5.0",
            "_model_name": "ProgressStyleModel",
            "_view_count": null,
            "_view_module": "@jupyter-widgets/base",
            "_view_module_version": "1.2.0",
            "_view_name": "StyleView",
            "bar_color": null,
            "description_width": ""
          }
        },
        "ee764f804de8463487e81ef0ee108149": {
          "model_module": "@jupyter-widgets/controls",
          "model_module_version": "1.5.0",
          "model_name": "DescriptionStyleModel",
          "state": {
            "_model_module": "@jupyter-widgets/controls",
            "_model_module_version": "1.5.0",
            "_model_name": "DescriptionStyleModel",
            "_view_count": null,
            "_view_module": "@jupyter-widgets/base",
            "_view_module_version": "1.2.0",
            "_view_name": "StyleView",
            "description_width": ""
          }
        },
        "f272673c40cc40e4beeade8a70a75d77": {
          "model_module": "@jupyter-widgets/controls",
          "model_module_version": "1.5.0",
          "model_name": "DescriptionStyleModel",
          "state": {
            "_model_module": "@jupyter-widgets/controls",
            "_model_module_version": "1.5.0",
            "_model_name": "DescriptionStyleModel",
            "_view_count": null,
            "_view_module": "@jupyter-widgets/base",
            "_view_module_version": "1.2.0",
            "_view_name": "StyleView",
            "description_width": ""
          }
        },
        "f3dab0ab63934d0a8f8f86fcd65955e2": {
          "model_module": "@jupyter-widgets/base",
          "model_module_version": "1.2.0",
          "model_name": "LayoutModel",
          "state": {
            "_model_module": "@jupyter-widgets/base",
            "_model_module_version": "1.2.0",
            "_model_name": "LayoutModel",
            "_view_count": null,
            "_view_module": "@jupyter-widgets/base",
            "_view_module_version": "1.2.0",
            "_view_name": "LayoutView",
            "align_content": null,
            "align_items": null,
            "align_self": null,
            "border": null,
            "bottom": null,
            "display": null,
            "flex": null,
            "flex_flow": null,
            "grid_area": null,
            "grid_auto_columns": null,
            "grid_auto_flow": null,
            "grid_auto_rows": null,
            "grid_column": null,
            "grid_gap": null,
            "grid_row": null,
            "grid_template_areas": null,
            "grid_template_columns": null,
            "grid_template_rows": null,
            "height": null,
            "justify_content": null,
            "justify_items": null,
            "left": null,
            "margin": null,
            "max_height": null,
            "max_width": null,
            "min_height": null,
            "min_width": null,
            "object_fit": null,
            "object_position": null,
            "order": null,
            "overflow": null,
            "overflow_x": null,
            "overflow_y": null,
            "padding": null,
            "right": null,
            "top": null,
            "visibility": null,
            "width": null
          }
        },
        "f43fed63d36043d99ca9889b6026dbd1": {
          "model_module": "@jupyter-widgets/controls",
          "model_module_version": "1.5.0",
          "model_name": "HBoxModel",
          "state": {
            "_dom_classes": [],
            "_model_module": "@jupyter-widgets/controls",
            "_model_module_version": "1.5.0",
            "_model_name": "HBoxModel",
            "_view_count": null,
            "_view_module": "@jupyter-widgets/controls",
            "_view_module_version": "1.5.0",
            "_view_name": "HBoxView",
            "box_style": "",
            "children": [
              "IPY_MODEL_4a268d9a48f84a8fa318384216646b1b",
              "IPY_MODEL_2f2a51fb58254a9a9a1eace19d8979f1",
              "IPY_MODEL_3fcc06ddff764431827d1b2a5ea93b7c"
            ],
            "layout": "IPY_MODEL_ab652882f76249a6b13f37692589cb12"
          }
        },
        "f4c1f7bd1c734cccb1c1c82b41798b20": {
          "model_module": "@jupyter-widgets/base",
          "model_module_version": "1.2.0",
          "model_name": "LayoutModel",
          "state": {
            "_model_module": "@jupyter-widgets/base",
            "_model_module_version": "1.2.0",
            "_model_name": "LayoutModel",
            "_view_count": null,
            "_view_module": "@jupyter-widgets/base",
            "_view_module_version": "1.2.0",
            "_view_name": "LayoutView",
            "align_content": null,
            "align_items": null,
            "align_self": null,
            "border": null,
            "bottom": null,
            "display": null,
            "flex": null,
            "flex_flow": null,
            "grid_area": null,
            "grid_auto_columns": null,
            "grid_auto_flow": null,
            "grid_auto_rows": null,
            "grid_column": null,
            "grid_gap": null,
            "grid_row": null,
            "grid_template_areas": null,
            "grid_template_columns": null,
            "grid_template_rows": null,
            "height": null,
            "justify_content": null,
            "justify_items": null,
            "left": null,
            "margin": null,
            "max_height": null,
            "max_width": null,
            "min_height": null,
            "min_width": null,
            "object_fit": null,
            "object_position": null,
            "order": null,
            "overflow": null,
            "overflow_x": null,
            "overflow_y": null,
            "padding": null,
            "right": null,
            "top": null,
            "visibility": null,
            "width": null
          }
        },
        "f613406005154a3f95323369c5d1b50e": {
          "model_module": "@jupyter-widgets/controls",
          "model_module_version": "1.5.0",
          "model_name": "FloatProgressModel",
          "state": {
            "_dom_classes": [],
            "_model_module": "@jupyter-widgets/controls",
            "_model_module_version": "1.5.0",
            "_model_name": "FloatProgressModel",
            "_view_count": null,
            "_view_module": "@jupyter-widgets/controls",
            "_view_module_version": "1.5.0",
            "_view_name": "ProgressView",
            "bar_style": "success",
            "description": "",
            "description_tooltip": null,
            "layout": "IPY_MODEL_79e53ee4d17540eda05d6156604e43a0",
            "max": 4598515,
            "min": 0,
            "orientation": "horizontal",
            "style": "IPY_MODEL_f991c13f41fb4f29a794b68e81de8eb8",
            "value": 4598515
          }
        },
        "f655757a4fc749389bc9f8e2ced451be": {
          "model_module": "@jupyter-widgets/controls",
          "model_module_version": "1.5.0",
          "model_name": "FloatProgressModel",
          "state": {
            "_dom_classes": [],
            "_model_module": "@jupyter-widgets/controls",
            "_model_module_version": "1.5.0",
            "_model_name": "FloatProgressModel",
            "_view_count": null,
            "_view_module": "@jupyter-widgets/controls",
            "_view_module_version": "1.5.0",
            "_view_name": "ProgressView",
            "bar_style": "success",
            "description": "",
            "description_tooltip": null,
            "layout": "IPY_MODEL_620f1e3172a44fa5922b8e9534185d34",
            "max": 29000,
            "min": 0,
            "orientation": "horizontal",
            "style": "IPY_MODEL_9b87ab2647f14814947cbd5f7475fbea",
            "value": 29000
          }
        },
        "f8a99ad4326a4fd09e18321e3bc8674a": {
          "model_module": "@jupyter-widgets/controls",
          "model_module_version": "1.5.0",
          "model_name": "HTMLModel",
          "state": {
            "_dom_classes": [],
            "_model_module": "@jupyter-widgets/controls",
            "_model_module_version": "1.5.0",
            "_model_name": "HTMLModel",
            "_view_count": null,
            "_view_module": "@jupyter-widgets/controls",
            "_view_module_version": "1.5.0",
            "_view_name": "HTMLView",
            "description": "",
            "description_tooltip": null,
            "layout": "IPY_MODEL_5467dc147ba6453587f82ec966fa4a88",
            "placeholder": "​",
            "style": "IPY_MODEL_fde15bef7e6f40aa9f2f57cd8271c60c",
            "value": "Downloading extra modules: "
          }
        },
        "f991c13f41fb4f29a794b68e81de8eb8": {
          "model_module": "@jupyter-widgets/controls",
          "model_module_version": "1.5.0",
          "model_name": "ProgressStyleModel",
          "state": {
            "_model_module": "@jupyter-widgets/controls",
            "_model_module_version": "1.5.0",
            "_model_name": "ProgressStyleModel",
            "_view_count": null,
            "_view_module": "@jupyter-widgets/base",
            "_view_module_version": "1.2.0",
            "_view_name": "StyleView",
            "bar_color": null,
            "description_width": ""
          }
        },
        "fb2f1e5479954ebda33986d0ea971fa5": {
          "model_module": "@jupyter-widgets/controls",
          "model_module_version": "1.5.0",
          "model_name": "HTMLModel",
          "state": {
            "_dom_classes": [],
            "_model_module": "@jupyter-widgets/controls",
            "_model_module_version": "1.5.0",
            "_model_name": "HTMLModel",
            "_view_count": null,
            "_view_module": "@jupyter-widgets/controls",
            "_view_module_version": "1.5.0",
            "_view_name": "HTMLView",
            "description": "",
            "description_tooltip": null,
            "layout": "IPY_MODEL_7fc9f1de29f6443eb8b628fa06c4dfe2",
            "placeholder": "​",
            "style": "IPY_MODEL_195fab2a44644458a12c531e049c88b9",
            "value": "test.jsonl: 100%"
          }
        },
        "fdbdbc01b8154ed2adb0cc0b17705a4f": {
          "model_module": "@jupyter-widgets/controls",
          "model_module_version": "1.5.0",
          "model_name": "DescriptionStyleModel",
          "state": {
            "_model_module": "@jupyter-widgets/controls",
            "_model_module_version": "1.5.0",
            "_model_name": "DescriptionStyleModel",
            "_view_count": null,
            "_view_module": "@jupyter-widgets/base",
            "_view_module_version": "1.2.0",
            "_view_name": "StyleView",
            "description_width": ""
          }
        },
        "fde15bef7e6f40aa9f2f57cd8271c60c": {
          "model_module": "@jupyter-widgets/controls",
          "model_module_version": "1.5.0",
          "model_name": "DescriptionStyleModel",
          "state": {
            "_model_module": "@jupyter-widgets/controls",
            "_model_module_version": "1.5.0",
            "_model_name": "DescriptionStyleModel",
            "_view_count": null,
            "_view_module": "@jupyter-widgets/base",
            "_view_module_version": "1.2.0",
            "_view_name": "StyleView",
            "description_width": ""
          }
        },
        "fe2db0f24052431fa776974eefff4763": {
          "model_module": "@jupyter-widgets/controls",
          "model_module_version": "1.5.0",
          "model_name": "HTMLModel",
          "state": {
            "_dom_classes": [],
            "_model_module": "@jupyter-widgets/controls",
            "_model_module_version": "1.5.0",
            "_model_name": "HTMLModel",
            "_view_count": null,
            "_view_module": "@jupyter-widgets/controls",
            "_view_module_version": "1.5.0",
            "_view_name": "HTMLView",
            "description": "",
            "description_tooltip": null,
            "layout": "IPY_MODEL_2da2cae3e5f3468ea8ad841ce799a588",
            "placeholder": "​",
            "style": "IPY_MODEL_080d463d8ace41d58ff581af81d95f79",
            "value": " 4.07k/? [00:00&lt;00:00, 237kB/s]"
          }
        },
        "feb1e6639c954650b84b23f74cc35f55": {
          "model_module": "@jupyter-widgets/controls",
          "model_module_version": "1.5.0",
          "model_name": "DescriptionStyleModel",
          "state": {
            "_model_module": "@jupyter-widgets/controls",
            "_model_module_version": "1.5.0",
            "_model_name": "DescriptionStyleModel",
            "_view_count": null,
            "_view_module": "@jupyter-widgets/base",
            "_view_module_version": "1.2.0",
            "_view_name": "StyleView",
            "description_width": ""
          }
        },
        "fec143ecdf5a44bbb9a146f9e2010287": {
          "model_module": "@jupyter-widgets/controls",
          "model_module_version": "1.5.0",
          "model_name": "FloatProgressModel",
          "state": {
            "_dom_classes": [],
            "_model_module": "@jupyter-widgets/controls",
            "_model_module_version": "1.5.0",
            "_model_name": "FloatProgressModel",
            "_view_count": null,
            "_view_module": "@jupyter-widgets/controls",
            "_view_module_version": "1.5.0",
            "_view_name": "ProgressView",
            "bar_style": "success",
            "description": "",
            "description_tooltip": null,
            "layout": "IPY_MODEL_957c5af841ec43bc9615dc5d6597b4bb",
            "max": 156307,
            "min": 0,
            "orientation": "horizontal",
            "style": "IPY_MODEL_bf9ecce2a883415fa417da7888545524",
            "value": 156307
          }
        },
        "fed958478e974457b9c99867b1d2c12a": {
          "model_module": "@jupyter-widgets/base",
          "model_module_version": "1.2.0",
          "model_name": "LayoutModel",
          "state": {
            "_model_module": "@jupyter-widgets/base",
            "_model_module_version": "1.2.0",
            "_model_name": "LayoutModel",
            "_view_count": null,
            "_view_module": "@jupyter-widgets/base",
            "_view_module_version": "1.2.0",
            "_view_name": "LayoutView",
            "align_content": null,
            "align_items": null,
            "align_self": null,
            "border": null,
            "bottom": null,
            "display": null,
            "flex": null,
            "flex_flow": null,
            "grid_area": null,
            "grid_auto_columns": null,
            "grid_auto_flow": null,
            "grid_auto_rows": null,
            "grid_column": null,
            "grid_gap": null,
            "grid_row": null,
            "grid_template_areas": null,
            "grid_template_columns": null,
            "grid_template_rows": null,
            "height": null,
            "justify_content": null,
            "justify_items": null,
            "left": null,
            "margin": null,
            "max_height": null,
            "max_width": null,
            "min_height": null,
            "min_width": null,
            "object_fit": null,
            "object_position": null,
            "order": null,
            "overflow": null,
            "overflow_x": null,
            "overflow_y": null,
            "padding": null,
            "right": null,
            "top": null,
            "visibility": null,
            "width": null
          }
        }
      }
    }
  },
  "nbformat": 4,
  "nbformat_minor": 0
}
